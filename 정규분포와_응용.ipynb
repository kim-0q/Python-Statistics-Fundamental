{
  "nbformat": 4,
  "nbformat_minor": 0,
  "metadata": {
    "colab": {
      "provenance": []
    },
    "kernelspec": {
      "name": "python3",
      "display_name": "Python 3"
    },
    "language_info": {
      "name": "python"
    }
  },
  "cells": [
    {
      "cell_type": "markdown",
      "source": [
        "정규분포의 확률밀도 계산"
      ],
      "metadata": {
        "id": "VSD8Pc4WHE41"
      }
    },
    {
      "cell_type": "code",
      "execution_count": 1,
      "metadata": {
        "id": "7vGVhNnVKx-k"
      },
      "outputs": [],
      "source": [
        "import numpy as np\n",
        "import pandas as pd\n",
        "import scipy as sp\n",
        "from scipy import stats\n",
        "\n",
        "from matplotlib import pyplot as plt\n",
        "import seaborn as sns\n",
        "sns.set()\n",
        "\n",
        "%precision 3\n",
        "%matplotlib inline"
      ]
    },
    {
      "cell_type": "code",
      "source": [
        "sp.pi"
      ],
      "metadata": {
        "colab": {
          "base_uri": "https://localhost:8080/"
        },
        "id": "SGDYVEHQLNUB",
        "outputId": "167f7b5c-8759-4aec-bbf0-97d274cceb1c"
      },
      "execution_count": 2,
      "outputs": [
        {
          "output_type": "execute_result",
          "data": {
            "text/plain": [
              "3.142"
            ]
          },
          "metadata": {},
          "execution_count": 2
        }
      ]
    },
    {
      "cell_type": "code",
      "source": [
        "#e의 1승\n",
        "sp.exp(1)"
      ],
      "metadata": {
        "colab": {
          "base_uri": "https://localhost:8080/"
        },
        "id": "MGQNUQDkHJo0",
        "outputId": "5c0a97e8-0609-4bc8-c263-a3046fb1138c"
      },
      "execution_count": 3,
      "outputs": [
        {
          "output_type": "stream",
          "name": "stderr",
          "text": [
            "<ipython-input-3-81baff3dcfbd>:2: DeprecationWarning: scipy.exp is deprecated and will be removed in SciPy 2.0.0, use numpy.exp instead\n",
            "  sp.exp(1)\n"
          ]
        },
        {
          "output_type": "execute_result",
          "data": {
            "text/plain": [
              "2.718281828459045"
            ]
          },
          "metadata": {},
          "execution_count": 3
        }
      ]
    },
    {
      "cell_type": "code",
      "source": [
        "#평균 4, 분산 0.64(표준편차 0.8)인 정규분포에 대해 확률변수가 3일 때의 확률밀도\n",
        "x=3\n",
        "mu=4\n",
        "sigma=0.8\n",
        "1/(sp.sqrt(2*sp.pi*sigma**2))*sp.exp(-((x-mu)**2)/(2*sigma**2))"
      ],
      "metadata": {
        "colab": {
          "base_uri": "https://localhost:8080/"
        },
        "id": "rCQYLQO1HSiz",
        "outputId": "d14080fe-c164-434f-a66b-1dc04c5372b3"
      },
      "execution_count": 4,
      "outputs": [
        {
          "output_type": "stream",
          "name": "stderr",
          "text": [
            "<ipython-input-4-7dbe16e2e4c4>:5: DeprecationWarning: scipy.sqrt is deprecated and will be removed in SciPy 2.0.0, use numpy.lib.scimath.sqrt instead\n",
            "  1/(sp.sqrt(2*sp.pi*sigma**2))*sp.exp(-((x-mu)**2)/(2*sigma**2))\n",
            "<ipython-input-4-7dbe16e2e4c4>:5: DeprecationWarning: scipy.exp is deprecated and will be removed in SciPy 2.0.0, use numpy.exp instead\n",
            "  1/(sp.sqrt(2*sp.pi*sigma**2))*sp.exp(-((x-mu)**2)/(2*sigma**2))\n"
          ]
        },
        {
          "output_type": "execute_result",
          "data": {
            "text/plain": [
              "0.22831135673627742"
            ]
          },
          "metadata": {},
          "execution_count": 4
        }
      ]
    },
    {
      "cell_type": "markdown",
      "source": [
        "간단화"
      ],
      "metadata": {
        "id": "tw3Xq2oxIF6a"
      }
    },
    {
      "cell_type": "code",
      "source": [
        "stats.norm.pdf(loc=4, scale=0.8, x=3)"
      ],
      "metadata": {
        "colab": {
          "base_uri": "https://localhost:8080/"
        },
        "id": "lKBgq-9hH-4P",
        "outputId": "de1637fd-61f2-4aaf-98c6-16c88ae48a76"
      },
      "execution_count": 5,
      "outputs": [
        {
          "output_type": "execute_result",
          "data": {
            "text/plain": [
              "0.2283113567362774"
            ]
          },
          "metadata": {},
          "execution_count": 5
        }
      ]
    },
    {
      "cell_type": "code",
      "source": [
        "norm_dist=stats.norm(loc=4, scale=0.8)\n",
        "norm_dist.pdf(x=3)"
      ],
      "metadata": {
        "colab": {
          "base_uri": "https://localhost:8080/"
        },
        "id": "wKxqXz2kIMXh",
        "outputId": "cea226c0-a610-4d5d-de05-3e545bc4864f"
      },
      "execution_count": 6,
      "outputs": [
        {
          "output_type": "execute_result",
          "data": {
            "text/plain": [
              "0.2283113567362774"
            ]
          },
          "metadata": {},
          "execution_count": 6
        }
      ]
    },
    {
      "cell_type": "code",
      "source": [
        "x_plot=np.arange(1,7.1,0.1)\n",
        "plt.plot(\n",
        "    x_plot, #x축\n",
        "    stats.norm.pdf(x=x_plot, loc=4, scale=0.8), #y축\n",
        "    color='black'\n",
        ")"
      ],
      "metadata": {
        "colab": {
          "base_uri": "https://localhost:8080/",
          "height": 453
        },
        "id": "UbUHY7T0IWzT",
        "outputId": "cb9f6cb9-b37d-40ab-ea7e-1a85d261a99c"
      },
      "execution_count": 8,
      "outputs": [
        {
          "output_type": "execute_result",
          "data": {
            "text/plain": [
              "[<matplotlib.lines.Line2D at 0x7b14bff12140>]"
            ]
          },
          "metadata": {},
          "execution_count": 8
        },
        {
          "output_type": "display_data",
          "data": {
            "text/plain": [
              "<Figure size 640x480 with 1 Axes>"
            ],
            "image/png": "[encoded data removed]"
          },
          "metadata": {}
        }
      ]
    },
    {
      "cell_type": "markdown",
      "source": [
        "표본이 어떤 값 이하가 되는 비율\n",
        "\n",
        "(어떤 값 이하가 되는 데이터 수) / (샘플사이즈)"
      ],
      "metadata": {
        "id": "7dvOplWnJZP4"
      }
    },
    {
      "cell_type": "code",
      "source": [
        "np.random.seed(1)\n",
        "simulated_sample=stats.norm.rvs(\n",
        "    loc=4, scale=0.8, size=100000)\n",
        "simulated_sample"
      ],
      "metadata": {
        "colab": {
          "base_uri": "https://localhost:8080/"
        },
        "id": "Z7diNIpbIwa6",
        "outputId": "ced5e2c2-fd1c-448b-8c1a-b76b47367adf"
      },
      "execution_count": 9,
      "outputs": [
        {
          "output_type": "execute_result",
          "data": {
            "text/plain": [
              "array([5.299, 3.511, 3.577, ..., 4.065, 4.275, 3.402])"
            ]
          },
          "metadata": {},
          "execution_count": 9
        }
      ]
    },
    {
      "cell_type": "code",
      "source": [
        "sp.sum(simulated_sample[1:4])"
      ],
      "metadata": {
        "colab": {
          "base_uri": "https://localhost:8080/"
        },
        "id": "a4ZWoiN_LoRr",
        "outputId": "3061bb41-844a-40e5-8c28-4d295cac64a8"
      },
      "execution_count": 12,
      "outputs": [
        {
          "output_type": "stream",
          "name": "stderr",
          "text": [
            "<ipython-input-12-73e48b5a4342>:1: DeprecationWarning: scipy.sum is deprecated and will be removed in SciPy 2.0.0, use numpy.sum instead\n",
            "  sp.sum(simulated_sample[1:4])\n"
          ]
        },
        {
          "output_type": "execute_result",
          "data": {
            "text/plain": [
              "10.229682569544238"
            ]
          },
          "metadata": {},
          "execution_count": 12
        }
      ]
    },
    {
      "cell_type": "code",
      "source": [
        "sp.sum(simulated_sample<=3) #값 자체는 2,345 이런데 이는 각각의 확률변수 이므로 sum 하면 1씩"
      ],
      "metadata": {
        "colab": {
          "base_uri": "https://localhost:8080/"
        },
        "id": "Hcy_d4GkJm-N",
        "outputId": "c8b8600a-64f9-425e-e642-1a453f2eab4a"
      },
      "execution_count": 10,
      "outputs": [
        {
          "output_type": "stream",
          "name": "stderr",
          "text": [
            "<ipython-input-10-481eb2be190f>:1: DeprecationWarning: scipy.sum is deprecated and will be removed in SciPy 2.0.0, use numpy.sum instead\n",
            "  sp.sum(simulated_sample<=3)\n"
          ]
        },
        {
          "output_type": "execute_result",
          "data": {
            "text/plain": [
              "10371"
            ]
          },
          "metadata": {},
          "execution_count": 10
        }
      ]
    },
    {
      "cell_type": "code",
      "source": [
        "sp.sum(simulated_sample<=3)/len(simulated_sample)"
      ],
      "metadata": {
        "colab": {
          "base_uri": "https://localhost:8080/"
        },
        "id": "TKU-5O6QKbA3",
        "outputId": "017bd0ee-1b97-464a-c2e7-f0d0edc0a908"
      },
      "execution_count": 11,
      "outputs": [
        {
          "output_type": "stream",
          "name": "stderr",
          "text": [
            "<ipython-input-11-42b8d56274d2>:1: DeprecationWarning: scipy.sum is deprecated and will be removed in SciPy 2.0.0, use numpy.sum instead\n",
            "  sp.sum(simulated_sample<=3)/len(simulated_sample)\n"
          ]
        },
        {
          "output_type": "execute_result",
          "data": {
            "text/plain": [
              "0.10371"
            ]
          },
          "metadata": {},
          "execution_count": 11
        }
      ]
    },
    {
      "cell_type": "markdown",
      "source": [
        "누적분포함수: 해당 범위에 해당하는 확률"
      ],
      "metadata": {
        "id": "ZiYh_66DOtwQ"
      }
    },
    {
      "cell_type": "code",
      "source": [
        "stats.norm.cdf(loc=4, scale=0.8, x=3)"
      ],
      "metadata": {
        "colab": {
          "base_uri": "https://localhost:8080/"
        },
        "id": "CN2H-3_FKgo-",
        "outputId": "2ad8a213-161a-4bc0-ebc6-97f3fe15ae6e"
      },
      "execution_count": 13,
      "outputs": [
        {
          "output_type": "execute_result",
          "data": {
            "text/plain": [
              "0.10564977366685535"
            ]
          },
          "metadata": {},
          "execution_count": 13
        }
      ]
    },
    {
      "cell_type": "code",
      "source": [
        "#정규분포는 좌우대칭이므로\n",
        "stats.norm.cdf(loc=4, scale=0.8, x=4)"
      ],
      "metadata": {
        "colab": {
          "base_uri": "https://localhost:8080/"
        },
        "id": "O20KM9r3PAGT",
        "outputId": "6ad8cb56-ffce-47b9-f768-e8379182fbc3"
      },
      "execution_count": 14,
      "outputs": [
        {
          "output_type": "execute_result",
          "data": {
            "text/plain": [
              "0.5"
            ]
          },
          "metadata": {},
          "execution_count": 14
        }
      ]
    },
    {
      "cell_type": "markdown",
      "source": [
        "하측확률: 데이터가 어떤 값 이하가 될 확률(누적분포함수)\n",
        "\n",
        "퍼센트포인트: 어떤 확률이 될 기준치"
      ],
      "metadata": {
        "id": "xg65CHVKPeuT"
      }
    },
    {
      "cell_type": "code",
      "source": [
        "#하측확률이 2.5%가 되는 퍼센트포인트\n",
        "stats.norm.ppf(loc=4, scale=0.8, q=0.025)"
      ],
      "metadata": {
        "colab": {
          "base_uri": "https://localhost:8080/"
        },
        "id": "i72ErfasPFnm",
        "outputId": "496c0aab-9b5c-487a-d023-e42e7d7917fe"
      },
      "execution_count": 15,
      "outputs": [
        {
          "output_type": "execute_result",
          "data": {
            "text/plain": [
              "2.4320288123679563"
            ]
          },
          "metadata": {},
          "execution_count": 15
        }
      ]
    },
    {
      "cell_type": "code",
      "source": [
        "lower=stats.norm.cdf(loc=4, scale=0.8, x=3)\n",
        "stats.norm.ppf(loc=4, scale=0.8, q=lower)"
      ],
      "metadata": {
        "colab": {
          "base_uri": "https://localhost:8080/"
        },
        "id": "QxBIz9DnP1S5",
        "outputId": "a1657de3-2043-4a53-d000-ea4f39efe9c7"
      },
      "execution_count": 17,
      "outputs": [
        {
          "output_type": "execute_result",
          "data": {
            "text/plain": [
              "3.0000000000000004"
            ]
          },
          "metadata": {},
          "execution_count": 17
        }
      ]
    },
    {
      "cell_type": "code",
      "source": [
        "stats.norm.ppf(loc=4, scale=0.8, q=0.5)"
      ],
      "metadata": {
        "colab": {
          "base_uri": "https://localhost:8080/"
        },
        "id": "jA7w7vi_QCGT",
        "outputId": "83ee2c19-d3ca-4641-e076-9bec9ee08418"
      },
      "execution_count": 18,
      "outputs": [
        {
          "output_type": "execute_result",
          "data": {
            "text/plain": [
              "4.0"
            ]
          },
          "metadata": {},
          "execution_count": 18
        }
      ]
    },
    {
      "cell_type": "markdown",
      "source": [
        "표준정규분포: 평균 0, 분산 1인 정규분포"
      ],
      "metadata": {
        "id": "Vnt-Ow9GQwKQ"
      }
    },
    {
      "cell_type": "markdown",
      "source": [
        "t값: (표본평균 - 모평균) / (표준오차)\n",
        "\n",
        "표준오차는 표본평균의 표준편차, t값은 표본평균에 대한 표준화"
      ],
      "metadata": {
        "id": "qDGXirWrRVO_"
      }
    },
    {
      "cell_type": "markdown",
      "source": [
        "t값의 표본분포"
      ],
      "metadata": {
        "id": "rDStwzu-R0Pz"
      }
    },
    {
      "cell_type": "code",
      "source": [
        "#난수 시드 설정\n",
        "np.random.seed(1)\n",
        "#t값을 저장할 변수 설정\n",
        "t_value_array=np.zeros(10000)\n",
        "#정규분포 클래스의 인스턴스\n",
        "norm_dist=stats.norm(loc=4, scale=0.8)\n",
        "#시뮬레이션 실행\n",
        "for i in range(0,10000):\n",
        "  sample=norm_dist.rvs(size=10)\n",
        "  sample_mean=sp.mean(sample) #표본평균\n",
        "  sample_std=sp.std(sample,ddof=1) #표본의 표준편차\n",
        "  sample_se=sample_std/sp.sqrt(len(sample)) #표준오차: 표본평균의 표준편차\n",
        "  t_value_array[i]=(sample_mean-4)/sample_se"
      ],
      "metadata": {
        "colab": {
          "base_uri": "https://localhost:8080/"
        },
        "id": "3mglD2gPQL6s",
        "outputId": "87bc7de8-5570-4718-b64d-b38f4833f7da"
      },
      "execution_count": 19,
      "outputs": [
        {
          "output_type": "stream",
          "name": "stderr",
          "text": [
            "<ipython-input-19-0fb138f79fe5>:10: DeprecationWarning: scipy.mean is deprecated and will be removed in SciPy 2.0.0, use numpy.mean instead\n",
            "  sample_mean=sp.mean(sample)\n",
            "<ipython-input-19-0fb138f79fe5>:11: DeprecationWarning: scipy.std is deprecated and will be removed in SciPy 2.0.0, use numpy.std instead\n",
            "  sample_std=sp.std(sample,ddof=1)\n",
            "<ipython-input-19-0fb138f79fe5>:12: DeprecationWarning: scipy.sqrt is deprecated and will be removed in SciPy 2.0.0, use numpy.lib.scimath.sqrt instead\n",
            "  sample_se=sample_std/sp.sqrt(len(sample))\n"
          ]
        }
      ]
    },
    {
      "cell_type": "code",
      "source": [
        "sns.distplot(t_value_array, color='black')\n",
        "x=np.arange(-8,8.1,0.1)\n",
        "plt.plot(x, stats.norm.pdf(x=x),color='black',linestyle='dotted')"
      ],
      "metadata": {
        "colab": {
          "base_uri": "https://localhost:8080/",
          "height": 658
        },
        "id": "HUrQ0dR5S5ET",
        "outputId": "1a8b71bf-bd64-46a4-d4de-70863e2b2949"
      },
      "execution_count": 20,
      "outputs": [
        {
          "output_type": "stream",
          "name": "stderr",
          "text": [
            "<ipython-input-20-c78ac3d46fdb>:1: UserWarning: \n",
            "\n",
            "`distplot` is a deprecated function and will be removed in seaborn v0.14.0.\n",
            "\n",
            "Please adapt your code to use either `displot` (a figure-level function with\n",
            "similar flexibility) or `histplot` (an axes-level function for histograms).\n",
            "\n",
            "For a guide to updating your code to use the new functions, please see\n",
            "https://gist.github.com/mwaskom/de44147ed2974457ad6372750bbe5751\n",
            "\n",
            "  sns.distplot(t_value_array, color='black')\n"
          ]
        },
        {
          "output_type": "execute_result",
          "data": {
            "text/plain": [
              "[<matplotlib.lines.Line2D at 0x7b14b98b48b0>]"
            ]
          },
          "metadata": {},
          "execution_count": 20
        },
        {
          "output_type": "display_data",
          "data": {
            "text/plain": [
              "<Figure size 640x480 with 1 Axes>"
            ],
            "image/png": "[encoded data removed]"
          },
          "metadata": {}
        }
      ]
    },
    {
      "cell_type": "markdown",
      "source": [
        "t분포: 모집단분포가 정규분포일때 t값의 표본분포"
      ],
      "metadata": {
        "id": "8nvnvhMvXDve"
      }
    },
    {
      "cell_type": "code",
      "source": [
        "plt.plot(x, stats.norm.pdf(x=x), color='black', linestyle='dotted')\n",
        "plt.plot(x, stats.t.pdf(x=x, df=9), color='black')"
      ],
      "metadata": {
        "colab": {
          "base_uri": "https://localhost:8080/",
          "height": 453
        },
        "id": "-2GWejjhWAoa",
        "outputId": "7f8fca3c-9335-4225-81df-9ca7d8756de4"
      },
      "execution_count": 21,
      "outputs": [
        {
          "output_type": "execute_result",
          "data": {
            "text/plain": [
              "[<matplotlib.lines.Line2D at 0x7b14b97c8d30>]"
            ]
          },
          "metadata": {},
          "execution_count": 21
        },
        {
          "output_type": "display_data",
          "data": {
            "text/plain": [
              "<Figure size 640x480 with 1 Axes>"
            ],
            "image/png": "[encoded data removed]"
          },
          "metadata": {}
        }
      ]
    },
    {
      "cell_type": "markdown",
      "source": [
        "-> t분포(실선)의 밑단이 더 넓은 분포. 평균값과 다른 데이터 발생하기 쉬워짐"
      ],
      "metadata": {
        "id": "KKeRErVOX6__"
      }
    },
    {
      "cell_type": "code",
      "source": [],
      "metadata": {
        "id": "pCvvbxQVXkTZ"
      },
      "execution_count": null,
      "outputs": []
    }
  ]
}