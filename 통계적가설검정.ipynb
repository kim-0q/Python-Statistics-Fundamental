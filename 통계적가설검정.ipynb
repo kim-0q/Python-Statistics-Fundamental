{
  "nbformat": 4,
  "nbformat_minor": 0,
  "metadata": {
    "colab": {
      "provenance": []
    },
    "kernelspec": {
      "name": "python3",
      "display_name": "Python 3"
    },
    "language_info": {
      "name": "python"
    }
  },
  "cells": [
    {
      "cell_type": "markdown",
      "source": [
        "유의미한 차이\n",
        "1. 샘플사이즈가 크고\n",
        "2. 데이터의 분산이 작으며\n",
        "3. 평균값과 차이가 큰 경우만\n",
        "\n",
        "유의미한 차이가 있다고 판단\n",
        "\n",
        "평균값의 차이만으로는 유의미한 차이 얻을수 X!"
      ],
      "metadata": {
        "id": "0Auux3hMD_Qc"
      }
    },
    {
      "cell_type": "markdown",
      "source": [
        "귀무가설: 검정 전 세우는 가설 / 대립가설: 귀무가설과 대립대는 가설\n",
        "\n",
        "p값: 표본과 귀무가설 간의 모순 지표 (작을수록 모순, 대립가설 채택), (1-a)*2 (양측검정)\n",
        "\n",
        "유의수준: 귀무가설을 기각하는 기준(보통 5%, 위험률)\n",
        "\n",
        "t표본: t의 절댓값\n",
        "\n",
        "a(알파): t값이 t표본보다 작을 확률(1-a가 작을수록 유의미한 차이)"
      ],
      "metadata": {
        "id": "RyQLeZZ3EYcw"
      }
    },
    {
      "cell_type": "markdown",
      "source": [
        "t검정 구현"
      ],
      "metadata": {
        "id": "zbC6MXZDFg1J"
      }
    },
    {
      "cell_type": "code",
      "execution_count": 14,
      "metadata": {
        "id": "_DFuk0j8D7Zg"
      },
      "outputs": [],
      "source": [
        "import numpy as np\n",
        "import pandas as pd\n",
        "import scipy as sp\n",
        "from scipy import stats\n",
        "\n",
        "from matplotlib import pyplot as plt\n",
        "import seaborn as sns\n",
        "sns.set()\n",
        "\n",
        "%precision 3\n",
        "%matplotlib inline\n",
        "import warnings\n",
        "warnings.filterwarnings(action='ignore')"
      ]
    },
    {
      "cell_type": "code",
      "source": [
        "junk_food=pd.read_csv(\"3-8-1-junk-food-weight.csv\")[\"weight\"]\n",
        "junk_food.head()"
      ],
      "metadata": {
        "colab": {
          "base_uri": "https://localhost:8080/"
        },
        "id": "2J8pi9QzF74b",
        "outputId": "946b81dd-9702-4806-a143-4b5643be1168"
      },
      "execution_count": 15,
      "outputs": [
        {
          "output_type": "execute_result",
          "data": {
            "text/plain": [
              "0    58.529820\n",
              "1    52.353039\n",
              "2    74.446169\n",
              "3    52.983263\n",
              "4    55.876879\n",
              "Name: weight, dtype: float64"
            ]
          },
          "metadata": {},
          "execution_count": 15
        }
      ]
    },
    {
      "cell_type": "markdown",
      "source": [
        "\n",
        "\n",
        "*   귀무가설: 과자의 평균중량은 50g이다\n",
        "*   대립가설: 과자의 평균중량은 50g이 아니다\n",
        "\n"
      ],
      "metadata": {
        "id": "V-XI_b7MGTbE"
      }
    },
    {
      "cell_type": "markdown",
      "source": [
        "t값 계산"
      ],
      "metadata": {
        "id": "0_YW7fLPGgfY"
      }
    },
    {
      "cell_type": "code",
      "source": [
        "mu=sp.mean(junk_food)\n",
        "mu"
      ],
      "metadata": {
        "colab": {
          "base_uri": "https://localhost:8080/"
        },
        "id": "QGYWH1w0F71k",
        "outputId": "b5c0dcd0-e632-4539-9023-216212caffd2"
      },
      "execution_count": 16,
      "outputs": [
        {
          "output_type": "execute_result",
          "data": {
            "text/plain": [
              "55.38496619666667"
            ]
          },
          "metadata": {},
          "execution_count": 16
        }
      ]
    },
    {
      "cell_type": "code",
      "source": [
        "df=len(junk_food)-1\n",
        "df"
      ],
      "metadata": {
        "colab": {
          "base_uri": "https://localhost:8080/"
        },
        "id": "5hz5oRRjF7yd",
        "outputId": "21354738-eaef-433a-de72-958166487b7f"
      },
      "execution_count": 17,
      "outputs": [
        {
          "output_type": "execute_result",
          "data": {
            "text/plain": [
              "19"
            ]
          },
          "metadata": {},
          "execution_count": 17
        }
      ]
    },
    {
      "cell_type": "code",
      "source": [
        "sigma=sp.std(junk_food,ddof=1)\n",
        "se=sigma/sp.sqrt(len(junk_food))\n",
        "se"
      ],
      "metadata": {
        "colab": {
          "base_uri": "https://localhost:8080/"
        },
        "id": "9ZcDlOiHGpm2",
        "outputId": "0146c43c-2165-4b32-f1b9-226513788891"
      },
      "execution_count": 18,
      "outputs": [
        {
          "output_type": "execute_result",
          "data": {
            "text/plain": [
              "1.9579276805755885"
            ]
          },
          "metadata": {},
          "execution_count": 18
        }
      ]
    },
    {
      "cell_type": "code",
      "source": [
        "t_value=(mu-50)/se\n",
        "t_value"
      ],
      "metadata": {
        "colab": {
          "base_uri": "https://localhost:8080/"
        },
        "id": "9JAEDwnIG5vx",
        "outputId": "48497037-534b-4ace-d864-1fb326ac2c1e"
      },
      "execution_count": 19,
      "outputs": [
        {
          "output_type": "execute_result",
          "data": {
            "text/plain": [
              "2.7503396831713434"
            ]
          },
          "metadata": {},
          "execution_count": 19
        }
      ]
    },
    {
      "cell_type": "markdown",
      "source": [
        "p값 계산: alpha는 t분포의 누적분포함수 사용"
      ],
      "metadata": {
        "id": "uBWlB26xHCwZ"
      }
    },
    {
      "cell_type": "code",
      "source": [
        "alpha=stats.t.cdf(t_value,df)\n",
        "(1-alpha)*2"
      ],
      "metadata": {
        "colab": {
          "base_uri": "https://localhost:8080/"
        },
        "id": "B8QuZxO5HAiZ",
        "outputId": "d89c47e1-84cb-4d93-a323-dee3675881ad"
      },
      "execution_count": 20,
      "outputs": [
        {
          "output_type": "execute_result",
          "data": {
            "text/plain": [
              "0.012725590012524268"
            ]
          },
          "metadata": {},
          "execution_count": 20
        }
      ]
    },
    {
      "cell_type": "markdown",
      "source": [
        "p값이 유의수준 0.05보다 작으므로 평균중량 50g과 유의미한 차이가 있음"
      ],
      "metadata": {
        "id": "5f9XX-QKHguN"
      }
    },
    {
      "cell_type": "code",
      "source": [
        "#1표본의 t검정 함수(statistic: t값)\n",
        "stats.ttest_1samp(junk_food, 50)"
      ],
      "metadata": {
        "colab": {
          "base_uri": "https://localhost:8080/"
        },
        "id": "CAp6XnAjHN3y",
        "outputId": "fe48da9a-f6c4-45e5-eb4b-85647137f3ea"
      },
      "execution_count": 21,
      "outputs": [
        {
          "output_type": "execute_result",
          "data": {
            "text/plain": [
              "TtestResult(statistic=2.7503396831713434, pvalue=0.012725590012524155, df=19)"
            ]
          },
          "metadata": {},
          "execution_count": 21
        }
      ]
    },
    {
      "cell_type": "code",
      "source": [
        "size=len(junk_food)\n",
        "sigma=sp.std(junk_food, ddof=1)"
      ],
      "metadata": {
        "id": "gUIvaeDhHvCP"
      },
      "execution_count": 22,
      "outputs": []
    },
    {
      "cell_type": "code",
      "source": [
        "t_value_array=np.zeros(50000)\n",
        "np.random.seed(1)\n",
        "norm_dist=stats.norm(loc=50, scale=sigma)\n",
        "for i in range(0,50000):\n",
        "  sample=norm_dist.rvs(size)\n",
        "  sample_mean=sp.mean(sample)\n",
        "  sample_std=sp.std(sample,ddof=1)\n",
        "  sample_se=sample_std/sp.sqrt(size)\n",
        "  t_value_array[i]=(sample_mean-50)/sample_se"
      ],
      "metadata": {
        "id": "JkFfBTBbIWXu"
      },
      "execution_count": 23,
      "outputs": []
    },
    {
      "cell_type": "code",
      "source": [
        "(sum(t_value_array>t_value)/50000)*2"
      ],
      "metadata": {
        "colab": {
          "base_uri": "https://localhost:8080/"
        },
        "id": "-_ELC0kUJiG7",
        "outputId": "b44bdea8-f3c2-47b2-a013-3a8061a40607"
      },
      "execution_count": 25,
      "outputs": [
        {
          "output_type": "execute_result",
          "data": {
            "text/plain": [
              "0.01324"
            ]
          },
          "metadata": {},
          "execution_count": 25
        }
      ]
    }
  ]
}