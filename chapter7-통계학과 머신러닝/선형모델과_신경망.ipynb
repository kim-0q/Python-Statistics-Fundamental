{
  "nbformat": 4,
  "nbformat_minor": 0,
  "metadata": {
    "colab": {
      "provenance": []
    },
    "kernelspec": {
      "name": "python3",
      "display_name": "Python 3"
    },
    "language_info": {
      "name": "python"
    }
  },
  "cells": [
    {
      "cell_type": "markdown",
      "source": [
        "###머신러닝 용어정리\n",
        "\n",
        " - **입력벡터**: 독립변수\n",
        " - **목표벡터**: 종속변수\n",
        " - **가중치**: 계수\n",
        " - **편향**: 절편(항상 1인 독립변수로 볼수 있음)"
      ],
      "metadata": {
        "id": "DwdjxLIBp3F2"
      }
    },
    {
      "cell_type": "markdown",
      "source": [
        "###단순 퍼셉트론\n",
        "\n",
        "- 입력 벡터에 가중치가 반영된 값을 합해서 하나의 출력으로 나오는 것\n",
        "- 출력과 목표벡터 비교, 손실이 최소가 되도록 가중치 추정\n",
        "- 출력은 정해진 2개의 값 중 하나가 되는게 보통\n",
        "- 퍼셉트론: 동그라미 한개"
      ],
      "metadata": {
        "id": "tZvc8Glsqgx_"
      }
    },
    {
      "cell_type": "markdown",
      "source": [
        "###활성화 함수\n",
        "\n",
        "- 입력 벡터에 가중치를 적용한 값을 출력으로 변환하는 함수\n",
        "- 링크함수의 역함수 (로지스틱, 지수함수)와 같은 개념\n",
        "- 단순 퍼셉트론의 활성화함수는 스텝함수(0 이하면 -1, 0 초과면 1 출력)\n",
        "- 로지스틱, 항등함수, ReLU함수 등이 있음\n",
        "- ReLU함수는 x가 0 이하면 0, 0 초과면 x출력"
      ],
      "metadata": {
        "id": "440dfc7BrQhK"
      }
    },
    {
      "cell_type": "markdown",
      "source": [
        "###손실\n",
        "\n",
        "- 이진분류의 경우 교차 엔트로피 오차, 연속값일 경우 잔차제곱합 사용\n",
        "- 활성화함수로 로지스틱 함수를 사용하면 손실로 교차 엔트로피 오차를 사용하는 2중 퍼셉트론 로지스틱 회귀모델과 같음\n",
        "- 활성화함수로 항등함수를 사용하면 손실로 잔차제곱합을 사용하는 2중 퍼셉트론 정규선형모델과 같음"
      ],
      "metadata": {
        "id": "OXlMQtM_rQeb"
      }
    },
    {
      "cell_type": "markdown",
      "source": [
        "###은닉층\n",
        "\n",
        "- **입력층**: 입력 벡터가 들어오는 부분\n",
        "- **출력층**: 예측값이 출력되는 층\n",
        "- **은닉층(중간층)**: 입력층과 출려층 사이에 있는 층"
      ],
      "metadata": {
        "id": "X06crw4xrQbw"
      }
    },
    {
      "cell_type": "markdown",
      "source": [
        "###신경망\n",
        "\n",
        "- **신경망(피드포워드 신경망, 다층 퍼셉트론)**: 여러 층의 퍼셉트론으로 구성된 모델\n",
        "- **딥러닝(심층학습)**: 은닉층을 을린 것\n",
        "- **CNN(합성곱 신경망)**: 풀링층 같은 특별한 층 포함"
      ],
      "metadata": {
        "id": "I_EOGfZHrQY_"
      }
    },
    {
      "cell_type": "markdown",
      "source": [
        "모델이 복잡해짐에 따라 발생할 수 있는 과적합 방지하기 위해 **L2 정규화(리지회귀)** 사용"
      ],
      "metadata": {
        "id": "UU2AmFwwuHqJ"
      }
    },
    {
      "cell_type": "markdown",
      "source": [
        "**하이퍼파라미터**: 모델 추정하기 전 가중치 결정 방법, 중간층 개수, 종류, 손실함수 종류 등 바꿔야 되는 요소"
      ],
      "metadata": {
        "id": "rZDrJKuBuHne"
      }
    },
    {
      "cell_type": "markdown",
      "source": [
        "###신경망 실습\n",
        "\n",
        "- 붓꽃의 꽃받침 길이와 너비를 이용해 붓꽃의 종류를 알아내는 예측 모델 구현"
      ],
      "metadata": {
        "id": "sQJ1BI0ywXf8"
      }
    },
    {
      "cell_type": "code",
      "source": [
        "import warnings\n",
        "warnings.filterwarnings(action='ignore')\n",
        "#수치 계산에 사용하는 라이브러리\n",
        "import numpy as np\n",
        "import pandas as pd\n",
        "import scipy as sp\n",
        "#선형모델을 추정하는 라이브러리\n",
        "import statsmodels.formula.api as smf\n",
        "import statsmodels.api as sm\n",
        "#다층 퍼셉트론용 애플리케이션\n",
        "from sklearn.neural_network import MLPClassifier\n",
        "#샘플 데이터 불러오기\n",
        "from sklearn.datasets import load_iris\n",
        "#테스트 데이터와 훈련 데이터 분리\n",
        "from sklearn.model_selection import train_test_split\n",
        "#데이터 표준화용 라이브러리\n",
        "from sklearn.preprocessing import StandardScaler\n",
        "#표시 자릿수 지정\n",
        "%precision 3"
      ],
      "metadata": {
        "colab": {
          "base_uri": "https://localhost:8080/",
          "height": 36
        },
        "id": "hQB3Rybrwem5",
        "outputId": "f4d7b9dd-e386-443e-b652-f325234a2ca0"
      },
      "execution_count": 1,
      "outputs": [
        {
          "output_type": "execute_result",
          "data": {
            "text/plain": [
              "'%.3f'"
            ],
            "application/vnd.google.colaboratory.intrinsic+json": {
              "type": "string"
            }
          },
          "metadata": {},
          "execution_count": 1
        }
      ]
    },
    {
      "cell_type": "markdown",
      "source": [
        "데이터 읽기, 다듬기"
      ],
      "metadata": {
        "id": "4yRO0S9Sxhik"
      }
    },
    {
      "cell_type": "code",
      "source": [
        "iris=load_iris()"
      ],
      "metadata": {
        "id": "Jb26O18mwekq"
      },
      "execution_count": 2,
      "outputs": []
    },
    {
      "cell_type": "markdown",
      "source": [
        "입력 벡터 이름 확인 - 꽃받침과 꽃잎의 길이와 폭"
      ],
      "metadata": {
        "id": "HVQoD2GCxsIR"
      }
    },
    {
      "cell_type": "code",
      "source": [
        "iris.feature_names"
      ],
      "metadata": {
        "colab": {
          "base_uri": "https://localhost:8080/"
        },
        "id": "Z0_9_587weiW",
        "outputId": "3934ae2a-9785-42ec-d49d-9ab3dda859da"
      },
      "execution_count": 3,
      "outputs": [
        {
          "output_type": "execute_result",
          "data": {
            "text/plain": [
              "['sepal length (cm)',\n",
              " 'sepal width (cm)',\n",
              " 'petal length (cm)',\n",
              " 'petal width (cm)']"
            ]
          },
          "metadata": {},
          "execution_count": 3
        }
      ]
    },
    {
      "cell_type": "markdown",
      "source": [
        "종속변수 확인 - 붓꽃 종류"
      ],
      "metadata": {
        "id": "-u5t7z_AyMZk"
      }
    },
    {
      "cell_type": "code",
      "source": [
        "iris.target_names"
      ],
      "metadata": {
        "colab": {
          "base_uri": "https://localhost:8080/"
        },
        "id": "psrbDdgUwegC",
        "outputId": "15aa54ca-9a1b-4549-9db4-6b67a6c0bd5b"
      },
      "execution_count": 4,
      "outputs": [
        {
          "output_type": "execute_result",
          "data": {
            "text/plain": [
              "array(['setosa', 'versicolor', 'virginica'], dtype='<U10')"
            ]
          },
          "metadata": {},
          "execution_count": 4
        }
      ]
    },
    {
      "cell_type": "markdown",
      "source": [
        "독립변수 2종류, 종속변수 2종류만 사용할 예정"
      ],
      "metadata": {
        "id": "z8EnlMmiyrxi"
      }
    },
    {
      "cell_type": "code",
      "source": [
        "#독립변수 sepal(꽃받침)만 가져오기\n",
        "x=iris.data[50:150, 0:2]\n",
        "#붓꽃의 종류도 2개만 가져오기\n",
        "y=iris.target[50:150]\n",
        "\n",
        "print(\"독립변수 행 수, 열 수: \",x.shape)\n",
        "print(\"종속면수 행 수, 열 수: \",y.shape)"
      ],
      "metadata": {
        "colab": {
          "base_uri": "https://localhost:8080/"
        },
        "id": "5aSA7Er0ySvW",
        "outputId": "c72a915c-4f63-4358-83ca-700e985090e6"
      },
      "execution_count": 5,
      "outputs": [
        {
          "output_type": "stream",
          "name": "stdout",
          "text": [
            "독립변수 행 수, 열 수:  (100, 2)\n",
            "종속면수 행 수, 열 수:  (100,)\n"
          ]
        }
      ]
    },
    {
      "cell_type": "code",
      "source": [
        "#데이터를 훈련 데이터와 테스트 데이터로 분리\n",
        "x_train, x_test, y_train, y_test=train_test_split(x, y, random_state=2) #데이터를 어떻게 섞을 것인지\n",
        "\n",
        "print(\"독립변수 행 수, 열 수: \",x_train.shape)\n",
        "print(\"종속면수 행 수, 열 수: \",y_train.shape)"
      ],
      "metadata": {
        "colab": {
          "base_uri": "https://localhost:8080/"
        },
        "id": "ePcoxzMJzKLg",
        "outputId": "5dfb051f-cd0f-4ad1-f627-96d9600ae5e3"
      },
      "execution_count": 6,
      "outputs": [
        {
          "output_type": "stream",
          "name": "stdout",
          "text": [
            "독립변수 행 수, 열 수:  (75, 2)\n",
            "종속면수 행 수, 열 수:  (75,)\n"
          ]
        }
      ]
    },
    {
      "cell_type": "markdown",
      "source": [
        "로지스틱 회귀로 분석해보기"
      ],
      "metadata": {
        "id": "l9e_ZiOK0O0w"
      }
    },
    {
      "cell_type": "code",
      "source": [
        "y_train[0:10]"
      ],
      "metadata": {
        "colab": {
          "base_uri": "https://localhost:8080/"
        },
        "id": "uauj15jJzy42",
        "outputId": "85194d55-7e8c-4f12-f62e-afb88701135c"
      },
      "execution_count": 7,
      "outputs": [
        {
          "output_type": "execute_result",
          "data": {
            "text/plain": [
              "array([1, 1, 2, 2, 2, 2, 1, 1, 1, 1])"
            ]
          },
          "metadata": {},
          "execution_count": 7
        }
      ]
    },
    {
      "cell_type": "markdown",
      "source": [
        "로지스틱 회귀를 이용해 어떤 종에 속하는지 자동으로 분류"
      ],
      "metadata": {
        "id": "AZsTXflw0XNH"
      }
    },
    {
      "cell_type": "code",
      "source": [
        "#데이터 정리\n",
        "#독립변수 데이터프레임\n",
        "x_train_df=pd.DataFrame(x_train, columns=[\"sepal_len\",\"sepal_wid\"])\n",
        "#종속변수 데이터프레임\n",
        "y_train_df=pd.DataFrame({\"species\":y_train-1}) #종이 1,2로 나오는데 이를 0,1로 표현하기 위해 -1\n",
        "#데이터프레임 결합\n",
        "iris_train_df=pd.concat([y_train_df, x_train_df], axis=1)\n",
        "#결과 출력\n",
        "print(iris_train_df.head(3))"
      ],
      "metadata": {
        "colab": {
          "base_uri": "https://localhost:8080/"
        },
        "id": "jrDlHm-pzy2e",
        "outputId": "1eaeda4f-c13f-405f-ae48-dfa0effd5820"
      },
      "execution_count": 8,
      "outputs": [
        {
          "output_type": "stream",
          "name": "stdout",
          "text": [
            "   species  sepal_len  sepal_wid\n",
            "0        0        5.7        2.8\n",
            "1        0        6.6        3.0\n",
            "2        1        6.1        3.0\n"
          ]
        }
      ]
    },
    {
      "cell_type": "code",
      "source": [
        "#모델로 만들기\n",
        "#모든 변수를 넣은 모델\n",
        "logi_mod_full=smf.glm(\"species~sepal_len+sepal_wid\",data=iris_train_df, family=sm.families.Binomial()).fit()\n",
        "#길이만\n",
        "logi_mod_len=smf.glm(\"species~sepal_len\",data=iris_train_df, family=sm.families.Binomial()).fit()\n",
        "#폭만\n",
        "logi_mod_wid=smf.glm(\"species~sepal_wid\",data=iris_train_df, family=sm.families.Binomial()).fit()\n",
        "#NULL 모델\n",
        "logi_mod_null=smf.glm(\"species~1\",data=iris_train_df, family=sm.families.Binomial()).fit()\n",
        "#AIC 비교\n",
        "print(\"full\",logi_mod_full.aic.round(3))\n",
        "print(\"len\",logi_mod_len.aic.round(3))\n",
        "print(\"wid\",logi_mod_wid.aic.round(3))\n",
        "print(\"null\",logi_mod_null.aic.round(3))"
      ],
      "metadata": {
        "colab": {
          "base_uri": "https://localhost:8080/"
        },
        "id": "M-NhwQ_-zyzk",
        "outputId": "bbb95dda-c659-4092-b657-13979533df70"
      },
      "execution_count": 9,
      "outputs": [
        {
          "output_type": "stream",
          "name": "stdout",
          "text": [
            "full 76.813\n",
            "len 76.234\n",
            "wid 92.768\n",
            "null 105.318\n"
          ]
        }
      ]
    },
    {
      "cell_type": "markdown",
      "source": [
        "길이만 이용한 모델이 모두 이용한 모델보다 AIC 작음 - 길이만 가지고 이용"
      ],
      "metadata": {
        "id": "TttuPCg22E_k"
      }
    },
    {
      "cell_type": "code",
      "source": [
        "logi_mod_len.summary().tables[1]"
      ],
      "metadata": {
        "colab": {
          "base_uri": "https://localhost:8080/",
          "height": 83
        },
        "id": "Xx6F5vdtzywg",
        "outputId": "e5459619-c784-4a7d-e5ef-ae9caabd66dc"
      },
      "execution_count": 10,
      "outputs": [
        {
          "output_type": "execute_result",
          "data": {
            "text/plain": [
              "<class 'statsmodels.iolib.table.SimpleTable'>"
            ],
            "text/html": [
              "<table class=\"simpletable\">\n",
              "<tr>\n",
              "      <td></td>         <th>coef</th>     <th>std err</th>      <th>z</th>      <th>P>|z|</th>  <th>[0.025</th>    <th>0.975]</th>  \n",
              "</tr>\n",
              "<tr>\n",
              "  <th>Intercept</th> <td>  -16.4152</td> <td>    4.000</td> <td>   -4.104</td> <td> 0.000</td> <td>  -24.256</td> <td>   -8.575</td>\n",
              "</tr>\n",
              "<tr>\n",
              "  <th>sepal_len</th> <td>    2.6478</td> <td>    0.639</td> <td>    4.142</td> <td> 0.000</td> <td>    1.395</td> <td>    3.901</td>\n",
              "</tr>\n",
              "</table>"
            ],
            "text/latex": "\\begin{center}\n\\begin{tabular}{lcccccc}\n\\toprule\n                    & \\textbf{coef} & \\textbf{std err} & \\textbf{z} & \\textbf{P$> |$z$|$} & \\textbf{[0.025} & \\textbf{0.975]}  \\\\\n\\midrule\n\\textbf{Intercept}  &     -16.4152  &        4.000     &    -4.104  &         0.000        &      -24.256    &       -8.575     \\\\\n\\textbf{sepal\\_len} &       2.6478  &        0.639     &     4.142  &         0.000        &        1.395    &        3.901     \\\\\n\\bottomrule\n\\end{tabular}\n\\end{center}"
          },
          "metadata": {},
          "execution_count": 10
        }
      ]
    },
    {
      "cell_type": "markdown",
      "source": [
        "길이가 길수록 2번종일 가능성이 높다"
      ],
      "metadata": {
        "id": "avWRSKKx2Wai"
      }
    },
    {
      "cell_type": "markdown",
      "source": [
        "훈련 데이터에 대한 피팅 정확도와 테스트 데이터를 얼마나 정확하게 맞추는지"
      ],
      "metadata": {
        "id": "upsi1Mbd2pu-"
      }
    },
    {
      "cell_type": "code",
      "source": [
        "#데이터 정리\n",
        "x_test_df=pd.DataFrame(x_test, columns=[\"sepal_len\", \"sepal_wid\"])\n",
        "#피팅 예측\n",
        "logi_fit=logi_mod_len.fittedvalues.round(0)\n",
        "logi_pred=logi_mod_len.predict(x_test_df).round(0)\n",
        "#정답 수\n",
        "true_train=sp.sum(logi_fit==(y_train-1))\n",
        "true_test=sp.sum(logi_pred==(y_test-1))\n",
        "#적중률\n",
        "result_train=true_train/len(y_train)\n",
        "result_test=true_test/len(y_test)\n",
        "#결과 출력\n",
        "print(\"훈련 데이터 적중률 :\",result_train)\n",
        "print(\"테스트 데이터 적중률 :\",result_test)"
      ],
      "metadata": {
        "colab": {
          "base_uri": "https://localhost:8080/"
        },
        "id": "jtzAmekMzyuE",
        "outputId": "993722fd-21f2-4473-ecc3-493f4769fc78"
      },
      "execution_count": 11,
      "outputs": [
        {
          "output_type": "stream",
          "name": "stdout",
          "text": [
            "훈련 데이터 적중률 : 0.7466666666666667\n",
            "테스트 데이터 적중률 : 0.68\n"
          ]
        }
      ]
    },
    {
      "cell_type": "markdown",
      "source": [
        "훈련 데이터와 테스트 데이터에 대해 둘 다 70% 전후로 맞출 수 있다"
      ],
      "metadata": {
        "id": "4ZgqpmKt4N7O"
      }
    },
    {
      "cell_type": "markdown",
      "source": [
        "표준화 - 신경망 이용하려면 리지회귀와 마찬가지로 독립변수 표준화 해야 함"
      ],
      "metadata": {
        "id": "nMoGL8WNmY2T"
      }
    },
    {
      "cell_type": "code",
      "source": [
        "#표준화를 위한 준비\n",
        "scaler=StandardScaler()\n",
        "scaler.fit(x_train)\n",
        "#표준화\n",
        "x_train_scaled=scaler.transform(x_train)\n",
        "x_test_scaled=scaler.transform(x_test)"
      ],
      "metadata": {
        "id": "Nf5syFHp5bhK"
      },
      "execution_count": 18,
      "outputs": []
    },
    {
      "cell_type": "markdown",
      "source": [
        "훈련 데이터에 적용한 것과 똑같은 변환을 테스트데이터에도 적용할 수 있다"
      ],
      "metadata": {
        "id": "cekminwMnU8H"
      }
    },
    {
      "cell_type": "code",
      "source": [
        "sp.std(x_train_scaled, axis=0)"
      ],
      "metadata": {
        "colab": {
          "base_uri": "https://localhost:8080/"
        },
        "id": "5213a49xmwNM",
        "outputId": "709a3d21-3a3d-4fc9-f8a9-d2d7d81dff7b"
      },
      "execution_count": 19,
      "outputs": [
        {
          "output_type": "execute_result",
          "data": {
            "text/plain": [
              "array([1., 1.])"
            ]
          },
          "metadata": {},
          "execution_count": 19
        }
      ]
    },
    {
      "cell_type": "code",
      "source": [
        "sp.std(x_test_scaled, axis=0)"
      ],
      "metadata": {
        "colab": {
          "base_uri": "https://localhost:8080/"
        },
        "id": "_w4v7bT-nvNw",
        "outputId": "9915859c-b2ad-4ec0-a791-a9d9ba8647ee"
      },
      "execution_count": 20,
      "outputs": [
        {
          "output_type": "execute_result",
          "data": {
            "text/plain": [
              "array([0.74 , 0.679])"
            ]
          },
          "metadata": {},
          "execution_count": 20
        }
      ]
    },
    {
      "cell_type": "markdown",
      "source": [
        "훈련 데이터의 표준 편차가 1이라고 해서 테스트 데이터의 표준 편차도 1이 되는건 아님\n",
        "\n",
        "중요한건 훈련 데이터와 테스트 데이터에서 똑같은 변환을 적용했다는 것"
      ],
      "metadata": {
        "id": "fGjNzHjwnheP"
      }
    },
    {
      "cell_type": "markdown",
      "source": [
        "신경망"
      ],
      "metadata": {
        "id": "eYjZjTLCoXdt"
      }
    },
    {
      "cell_type": "code",
      "source": [
        "nnet=MLPClassifier(hidden_layer_sizes=(100,100), #은닉층 2층으로 각각의 층에 100개의 유닛 배치 (입출력층까지 합쳐 총 4층)\n",
        "                   alpha=0.07, #정규화 강도 지정\n",
        "                   max_iter=10000, #파라미터 추정 위해 최대 몇번이나 반복계산 할지\n",
        "                   random_state=0) #난수 고정\n",
        "nnet.fit(x_train_scaled, y_train)\n",
        "#정답률\n",
        "print(\"훈련 데이터 적중률: \", nnet.score(x_train_scaled, y_train))\n",
        "print(\"테스트 데이터 적중률: \", nnet.score(x_test_scaled, y_test))"
      ],
      "metadata": {
        "colab": {
          "base_uri": "https://localhost:8080/"
        },
        "id": "rgVlV-ZdnfDL",
        "outputId": "2b5083ba-d1e8-472d-c3bc-051f480f0cf7"
      },
      "execution_count": 22,
      "outputs": [
        {
          "output_type": "stream",
          "name": "stdout",
          "text": [
            "훈련 데이터 적중률:  0.8933333333333333\n",
            "테스트 데이터 적중률:  0.68\n"
          ]
        }
      ]
    },
    {
      "cell_type": "code",
      "source": [],
      "metadata": {
        "id": "6PZ0Lrioo9Ic"
      },
      "execution_count": null,
      "outputs": []
    }
  ]
}