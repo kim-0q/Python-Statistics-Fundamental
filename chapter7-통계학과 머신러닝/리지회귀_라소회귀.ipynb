{
  "nbformat": 4,
  "nbformat_minor": 0,
  "metadata": {
    "colab": {
      "provenance": []
    },
    "kernelspec": {
      "name": "python3",
      "display_name": "Python 3"
    },
    "language_info": {
      "name": "python"
    }
  },
  "cells": [
    {
      "cell_type": "code",
      "execution_count": 21,
      "metadata": {
        "id": "b15XKPGvcebC"
      },
      "outputs": [],
      "source": [
        "import warnings\n",
        "warnings.filterwarnings(action='ignore')\n",
        "\n",
        "import numpy as np\n",
        "import pandas as pd\n",
        "import scipy as sp\n",
        "from scipy import stats\n",
        "\n",
        "from matplotlib import pyplot as plt\n",
        "import seaborn as sns\n",
        "sns.set()\n",
        "\n",
        "import statsmodels.formula.api as smf\n",
        "import statsmodels.api as sm\n",
        "\n",
        "from sklearn import linear_model\n",
        "\n",
        "%precision 3\n",
        "%matplotlib inline"
      ]
    },
    {
      "cell_type": "code",
      "source": [
        "x=pd.read_csv(\"7-3-1-large-data.csv\")\n",
        "x.head(3)"
      ],
      "metadata": {
        "colab": {
          "base_uri": "https://localhost:8080/",
          "height": 192
        },
        "id": "2hJqtBOEcyci",
        "outputId": "dc191051-5349-4608-d818-899794dd9321"
      },
      "execution_count": 22,
      "outputs": [
        {
          "output_type": "execute_result",
          "data": {
            "text/plain": [
              "      X_1     X_2     X_3     X_4     X_5     X_6     X_7     X_8     X_9  \\\n",
              "0  1.0000  0.5000  0.3333  0.2500  0.2000  0.1667  0.1429  0.1250  0.1111   \n",
              "1  0.5000  0.3333  0.2500  0.2000  0.1667  0.1429  0.1250  0.1111  0.1000   \n",
              "2  0.3333  0.2500  0.2000  0.1667  0.1429  0.1250  0.1111  0.1000  0.0909   \n",
              "\n",
              "     X_10  ...    X_91    X_92    X_93    X_94    X_95    X_96    X_97  \\\n",
              "0  0.1000  ...  0.0110  0.0109  0.0108  0.0106  0.0105  0.0104  0.0103   \n",
              "1  0.0909  ...  0.0109  0.0108  0.0106  0.0105  0.0104  0.0103  0.0102   \n",
              "2  0.0833  ...  0.0108  0.0106  0.0105  0.0104  0.0103  0.0102  0.0101   \n",
              "\n",
              "     X_98    X_99   X_100  \n",
              "0  0.0102  0.0101  0.0100  \n",
              "1  0.0101  0.0100  0.0099  \n",
              "2  0.0100  0.0099  0.0098  \n",
              "\n",
              "[3 rows x 100 columns]"
            ],
            "text/html": [
              "\n",
              "  <div id=\"df-cdb1a2d4-8f33-4f21-88e2-8a614c3399a3\" class=\"colab-df-container\">\n",
              "    <div>\n",
              "<style scoped>\n",
              "    .dataframe tbody tr th:only-of-type {\n",
              "        vertical-align: middle;\n",
              "    }\n",
              "\n",
              "    .dataframe tbody tr th {\n",
              "        vertical-align: top;\n",
              "    }\n",
              "\n",
              "    .dataframe thead th {\n",
              "        text-align: right;\n",
              "    }\n",
              "</style>\n",
              "<table border=\"1\" class=\"dataframe\">\n",
              "  <thead>\n",
              "    <tr style=\"text-align: right;\">\n",
              "      <th></th>\n",
              "      <th>X_1</th>\n",
              "      <th>X_2</th>\n",
              "      <th>X_3</th>\n",
              "      <th>X_4</th>\n",
              "      <th>X_5</th>\n",
              "      <th>X_6</th>\n",
              "      <th>X_7</th>\n",
              "      <th>X_8</th>\n",
              "      <th>X_9</th>\n",
              "      <th>X_10</th>\n",
              "      <th>...</th>\n",
              "      <th>X_91</th>\n",
              "      <th>X_92</th>\n",
              "      <th>X_93</th>\n",
              "      <th>X_94</th>\n",
              "      <th>X_95</th>\n",
              "      <th>X_96</th>\n",
              "      <th>X_97</th>\n",
              "      <th>X_98</th>\n",
              "      <th>X_99</th>\n",
              "      <th>X_100</th>\n",
              "    </tr>\n",
              "  </thead>\n",
              "  <tbody>\n",
              "    <tr>\n",
              "      <th>0</th>\n",
              "      <td>1.0000</td>\n",
              "      <td>0.5000</td>\n",
              "      <td>0.3333</td>\n",
              "      <td>0.2500</td>\n",
              "      <td>0.2000</td>\n",
              "      <td>0.1667</td>\n",
              "      <td>0.1429</td>\n",
              "      <td>0.1250</td>\n",
              "      <td>0.1111</td>\n",
              "      <td>0.1000</td>\n",
              "      <td>...</td>\n",
              "      <td>0.0110</td>\n",
              "      <td>0.0109</td>\n",
              "      <td>0.0108</td>\n",
              "      <td>0.0106</td>\n",
              "      <td>0.0105</td>\n",
              "      <td>0.0104</td>\n",
              "      <td>0.0103</td>\n",
              "      <td>0.0102</td>\n",
              "      <td>0.0101</td>\n",
              "      <td>0.0100</td>\n",
              "    </tr>\n",
              "    <tr>\n",
              "      <th>1</th>\n",
              "      <td>0.5000</td>\n",
              "      <td>0.3333</td>\n",
              "      <td>0.2500</td>\n",
              "      <td>0.2000</td>\n",
              "      <td>0.1667</td>\n",
              "      <td>0.1429</td>\n",
              "      <td>0.1250</td>\n",
              "      <td>0.1111</td>\n",
              "      <td>0.1000</td>\n",
              "      <td>0.0909</td>\n",
              "      <td>...</td>\n",
              "      <td>0.0109</td>\n",
              "      <td>0.0108</td>\n",
              "      <td>0.0106</td>\n",
              "      <td>0.0105</td>\n",
              "      <td>0.0104</td>\n",
              "      <td>0.0103</td>\n",
              "      <td>0.0102</td>\n",
              "      <td>0.0101</td>\n",
              "      <td>0.0100</td>\n",
              "      <td>0.0099</td>\n",
              "    </tr>\n",
              "    <tr>\n",
              "      <th>2</th>\n",
              "      <td>0.3333</td>\n",
              "      <td>0.2500</td>\n",
              "      <td>0.2000</td>\n",
              "      <td>0.1667</td>\n",
              "      <td>0.1429</td>\n",
              "      <td>0.1250</td>\n",
              "      <td>0.1111</td>\n",
              "      <td>0.1000</td>\n",
              "      <td>0.0909</td>\n",
              "      <td>0.0833</td>\n",
              "      <td>...</td>\n",
              "      <td>0.0108</td>\n",
              "      <td>0.0106</td>\n",
              "      <td>0.0105</td>\n",
              "      <td>0.0104</td>\n",
              "      <td>0.0103</td>\n",
              "      <td>0.0102</td>\n",
              "      <td>0.0101</td>\n",
              "      <td>0.0100</td>\n",
              "      <td>0.0099</td>\n",
              "      <td>0.0098</td>\n",
              "    </tr>\n",
              "  </tbody>\n",
              "</table>\n",
              "<p>3 rows × 100 columns</p>\n",
              "</div>\n",
              "    <div class=\"colab-df-buttons\">\n",
              "\n",
              "  <div class=\"colab-df-container\">\n",
              "    <button class=\"colab-df-convert\" onclick=\"convertToInteractive('df-cdb1a2d4-8f33-4f21-88e2-8a614c3399a3')\"\n",
              "            title=\"Convert this dataframe to an interactive table.\"\n",
              "            style=\"display:none;\">\n",
              "\n",
              "  <svg xmlns=\"http://www.w3.org/2000/svg\" height=\"24px\" viewBox=\"0 -960 960 960\">\n",
              "    <path d=\"M120-120v-720h720v720H120Zm60-500h600v-160H180v160Zm220 220h160v-160H400v160Zm0 220h160v-160H400v160ZM180-400h160v-160H180v160Zm440 0h160v-160H620v160ZM180-180h160v-160H180v160Zm440 0h160v-160H620v160Z\"/>\n",
              "  </svg>\n",
              "    </button>\n",
              "\n",
              "  <style>\n",
              "    .colab-df-container {\n",
              "      display:flex;\n",
              "      gap: 12px;\n",
              "    }\n",
              "\n",
              "    .colab-df-convert {\n",
              "      background-color: #E8F0FE;\n",
              "      border: none;\n",
              "      border-radius: 50%;\n",
              "      cursor: pointer;\n",
              "      display: none;\n",
              "      fill: #1967D2;\n",
              "      height: 32px;\n",
              "      padding: 0 0 0 0;\n",
              "      width: 32px;\n",
              "    }\n",
              "\n",
              "    .colab-df-convert:hover {\n",
              "      background-color: #E2EBFA;\n",
              "      box-shadow: 0px 1px 2px rgba(60, 64, 67, 0.3), 0px 1px 3px 1px rgba(60, 64, 67, 0.15);\n",
              "      fill: #174EA6;\n",
              "    }\n",
              "\n",
              "    .colab-df-buttons div {\n",
              "      margin-bottom: 4px;\n",
              "    }\n",
              "\n",
              "    [theme=dark] .colab-df-convert {\n",
              "      background-color: #3B4455;\n",
              "      fill: #D2E3FC;\n",
              "    }\n",
              "\n",
              "    [theme=dark] .colab-df-convert:hover {\n",
              "      background-color: #434B5C;\n",
              "      box-shadow: 0px 1px 3px 1px rgba(0, 0, 0, 0.15);\n",
              "      filter: drop-shadow(0px 1px 2px rgba(0, 0, 0, 0.3));\n",
              "      fill: #FFFFFF;\n",
              "    }\n",
              "  </style>\n",
              "\n",
              "    <script>\n",
              "      const buttonEl =\n",
              "        document.querySelector('#df-cdb1a2d4-8f33-4f21-88e2-8a614c3399a3 button.colab-df-convert');\n",
              "      buttonEl.style.display =\n",
              "        google.colab.kernel.accessAllowed ? 'block' : 'none';\n",
              "\n",
              "      async function convertToInteractive(key) {\n",
              "        const element = document.querySelector('#df-cdb1a2d4-8f33-4f21-88e2-8a614c3399a3');\n",
              "        const dataTable =\n",
              "          await google.colab.kernel.invokeFunction('convertToInteractive',\n",
              "                                                    [key], {});\n",
              "        if (!dataTable) return;\n",
              "\n",
              "        const docLinkHtml = 'Like what you see? Visit the ' +\n",
              "          '<a target=\"_blank\" href=https://colab.research.google.com/notebooks/data_table.ipynb>data table notebook</a>'\n",
              "          + ' to learn more about interactive tables.';\n",
              "        element.innerHTML = '';\n",
              "        dataTable['output_type'] = 'display_data';\n",
              "        await google.colab.output.renderOutput(dataTable, element);\n",
              "        const docLink = document.createElement('div');\n",
              "        docLink.innerHTML = docLinkHtml;\n",
              "        element.appendChild(docLink);\n",
              "      }\n",
              "    </script>\n",
              "  </div>\n",
              "\n",
              "\n",
              "<div id=\"df-fd68b794-89fd-4f72-af1e-a38896966b84\">\n",
              "  <button class=\"colab-df-quickchart\" onclick=\"quickchart('df-fd68b794-89fd-4f72-af1e-a38896966b84')\"\n",
              "            title=\"Suggest charts\"\n",
              "            style=\"display:none;\">\n",
              "\n",
              "<svg xmlns=\"http://www.w3.org/2000/svg\" height=\"24px\"viewBox=\"0 0 24 24\"\n",
              "     width=\"24px\">\n",
              "    <g>\n",
              "        <path d=\"M19 3H5c-1.1 0-2 .9-2 2v14c0 1.1.9 2 2 2h14c1.1 0 2-.9 2-2V5c0-1.1-.9-2-2-2zM9 17H7v-7h2v7zm4 0h-2V7h2v10zm4 0h-2v-4h2v4z\"/>\n",
              "    </g>\n",
              "</svg>\n",
              "  </button>\n",
              "\n",
              "<style>\n",
              "  .colab-df-quickchart {\n",
              "      --bg-color: #E8F0FE;\n",
              "      --fill-color: #1967D2;\n",
              "      --hover-bg-color: #E2EBFA;\n",
              "      --hover-fill-color: #174EA6;\n",
              "      --disabled-fill-color: #AAA;\n",
              "      --disabled-bg-color: #DDD;\n",
              "  }\n",
              "\n",
              "  [theme=dark] .colab-df-quickchart {\n",
              "      --bg-color: #3B4455;\n",
              "      --fill-color: #D2E3FC;\n",
              "      --hover-bg-color: #434B5C;\n",
              "      --hover-fill-color: #FFFFFF;\n",
              "      --disabled-bg-color: #3B4455;\n",
              "      --disabled-fill-color: #666;\n",
              "  }\n",
              "\n",
              "  .colab-df-quickchart {\n",
              "    background-color: var(--bg-color);\n",
              "    border: none;\n",
              "    border-radius: 50%;\n",
              "    cursor: pointer;\n",
              "    display: none;\n",
              "    fill: var(--fill-color);\n",
              "    height: 32px;\n",
              "    padding: 0;\n",
              "    width: 32px;\n",
              "  }\n",
              "\n",
              "  .colab-df-quickchart:hover {\n",
              "    background-color: var(--hover-bg-color);\n",
              "    box-shadow: 0 1px 2px rgba(60, 64, 67, 0.3), 0 1px 3px 1px rgba(60, 64, 67, 0.15);\n",
              "    fill: var(--button-hover-fill-color);\n",
              "  }\n",
              "\n",
              "  .colab-df-quickchart-complete:disabled,\n",
              "  .colab-df-quickchart-complete:disabled:hover {\n",
              "    background-color: var(--disabled-bg-color);\n",
              "    fill: var(--disabled-fill-color);\n",
              "    box-shadow: none;\n",
              "  }\n",
              "\n",
              "  .colab-df-spinner {\n",
              "    border: 2px solid var(--fill-color);\n",
              "    border-color: transparent;\n",
              "    border-bottom-color: var(--fill-color);\n",
              "    animation:\n",
              "      spin 1s steps(1) infinite;\n",
              "  }\n",
              "\n",
              "  @keyframes spin {\n",
              "    0% {\n",
              "      border-color: transparent;\n",
              "      border-bottom-color: var(--fill-color);\n",
              "      border-left-color: var(--fill-color);\n",
              "    }\n",
              "    20% {\n",
              "      border-color: transparent;\n",
              "      border-left-color: var(--fill-color);\n",
              "      border-top-color: var(--fill-color);\n",
              "    }\n",
              "    30% {\n",
              "      border-color: transparent;\n",
              "      border-left-color: var(--fill-color);\n",
              "      border-top-color: var(--fill-color);\n",
              "      border-right-color: var(--fill-color);\n",
              "    }\n",
              "    40% {\n",
              "      border-color: transparent;\n",
              "      border-right-color: var(--fill-color);\n",
              "      border-top-color: var(--fill-color);\n",
              "    }\n",
              "    60% {\n",
              "      border-color: transparent;\n",
              "      border-right-color: var(--fill-color);\n",
              "    }\n",
              "    80% {\n",
              "      border-color: transparent;\n",
              "      border-right-color: var(--fill-color);\n",
              "      border-bottom-color: var(--fill-color);\n",
              "    }\n",
              "    90% {\n",
              "      border-color: transparent;\n",
              "      border-bottom-color: var(--fill-color);\n",
              "    }\n",
              "  }\n",
              "</style>\n",
              "\n",
              "  <script>\n",
              "    async function quickchart(key) {\n",
              "      const quickchartButtonEl =\n",
              "        document.querySelector('#' + key + ' button');\n",
              "      quickchartButtonEl.disabled = true;  // To prevent multiple clicks.\n",
              "      quickchartButtonEl.classList.add('colab-df-spinner');\n",
              "      try {\n",
              "        const charts = await google.colab.kernel.invokeFunction(\n",
              "            'suggestCharts', [key], {});\n",
              "      } catch (error) {\n",
              "        console.error('Error during call to suggestCharts:', error);\n",
              "      }\n",
              "      quickchartButtonEl.classList.remove('colab-df-spinner');\n",
              "      quickchartButtonEl.classList.add('colab-df-quickchart-complete');\n",
              "    }\n",
              "    (() => {\n",
              "      let quickchartButtonEl =\n",
              "        document.querySelector('#df-fd68b794-89fd-4f72-af1e-a38896966b84 button');\n",
              "      quickchartButtonEl.style.display =\n",
              "        google.colab.kernel.accessAllowed ? 'block' : 'none';\n",
              "    })();\n",
              "  </script>\n",
              "</div>\n",
              "\n",
              "    </div>\n",
              "  </div>\n"
            ]
          },
          "metadata": {},
          "execution_count": 22
        }
      ]
    },
    {
      "cell_type": "markdown",
      "source": [
        "표준화: 각각의 변수에서 평균값 빼고 표준편차로 나누는 작업"
      ],
      "metadata": {
        "id": "Nq-_ZkIrdSmN"
      }
    },
    {
      "cell_type": "code",
      "source": [
        "sp.mean(x, axis=0).head(3)"
      ],
      "metadata": {
        "colab": {
          "base_uri": "https://localhost:8080/"
        },
        "id": "e_mzVWzRdb2u",
        "outputId": "809567cc-cb67-48ae-85d0-2fb8098b25fd"
      },
      "execution_count": 23,
      "outputs": [
        {
          "output_type": "execute_result",
          "data": {
            "text/plain": [
              "X_1    0.037272\n",
              "X_2    0.030649\n",
              "X_3    0.027360\n",
              "dtype: float64"
            ]
          },
          "metadata": {},
          "execution_count": 23
        }
      ]
    },
    {
      "cell_type": "code",
      "source": [
        "x-=sp.mean(x,axis=0)\n",
        "x/=sp.std(x,ddof=1,axis=0)"
      ],
      "metadata": {
        "id": "984eR7-adtCQ"
      },
      "execution_count": 24,
      "outputs": []
    },
    {
      "cell_type": "code",
      "source": [
        "#표준화 잘 됐는지 확인\n",
        "sp.mean(x, axis=0).head(3).round(3)\n",
        "sp.std(x, ddof=1, axis=0).head(3)"
      ],
      "metadata": {
        "colab": {
          "base_uri": "https://localhost:8080/"
        },
        "id": "-JbWG05bds_z",
        "outputId": "d933319f-8a9c-4384-aab7-1faf773c5463"
      },
      "execution_count": 25,
      "outputs": [
        {
          "output_type": "execute_result",
          "data": {
            "text/plain": [
              "X_1    1.0\n",
              "X_2    1.0\n",
              "X_3    1.0\n",
              "dtype: float64"
            ]
          },
          "metadata": {},
          "execution_count": 25
        }
      ]
    },
    {
      "cell_type": "markdown",
      "source": [
        "시뮬레이션으로 종속변수 만들기"
      ],
      "metadata": {
        "id": "Xkp4XBp0er4T"
      }
    },
    {
      "cell_type": "code",
      "source": [
        "#정규분포를 따르는 노이즈\n",
        "np.random.seed(1)\n",
        "noise=sp.stats.norm.rvs(loc=0, scale=1, size=x.shape[0])\n",
        "#올바른 계수를 5라고 설정해 종속변수 작성\n",
        "y=x.X_1*5+noise"
      ],
      "metadata": {
        "id": "zn9wNeyDds9l"
      },
      "execution_count": 26,
      "outputs": []
    },
    {
      "cell_type": "code",
      "source": [
        "#종속변수와 독립변수 합치기\n",
        "large_data=pd.concat([pd.DataFrame({\"y\":y}),x],axis=1)\n",
        "#그래프 그리기\n",
        "sns.jointplot(y=\"y\",x=\"X_1\",data=large_data, color='black')"
      ],
      "metadata": {
        "colab": {
          "base_uri": "https://localhost:8080/",
          "height": 620
        },
        "id": "cO2IrFjMfG0s",
        "outputId": "140f695e-365c-4b9c-e0e6-75d23db9dfea"
      },
      "execution_count": 27,
      "outputs": [
        {
          "output_type": "execute_result",
          "data": {
            "text/plain": [
              "<seaborn.axisgrid.JointGrid at 0x7cd5ca785360>"
            ]
          },
          "metadata": {},
          "execution_count": 27
        },
        {
          "output_type": "display_data",
          "data": {
            "text/plain": [
              "<Figure size 600x600 with 3 Axes>"
            ],
            "image/png": "[encoded data removed]"
          },
          "metadata": {}
        }
      ]
    },
    {
      "cell_type": "markdown",
      "source": [
        "sklearn을 이용한 선형회귀"
      ],
      "metadata": {
        "id": "JmaOPFJBkFbM"
      }
    },
    {
      "cell_type": "code",
      "source": [
        "#어떤 모델을 만들지 지정\n",
        "lm_sklearn=linear_model.LinearRegression()\n",
        "#데이터를 지정하여 모델 추정\n",
        "lm_sklearn.fit(x,y)\n",
        "#추정된 파라미터(array 형)\n",
        "lm_sklearn.coef_"
      ],
      "metadata": {
        "colab": {
          "base_uri": "https://localhost:8080/"
        },
        "id": "eiAP_AJMfikB",
        "outputId": "8f8636df-9d8e-4258-bb57-351bc2171ec5"
      },
      "execution_count": 33,
      "outputs": [
        {
          "output_type": "execute_result",
          "data": {
            "text/plain": [
              "array([ 1.476e+01, -8.746e+01,  2.117e+02, -9.415e+01, -6.817e+01,\n",
              "       -9.284e+01,  1.761e+00,  8.170e+01,  6.680e+01,  2.788e+01,\n",
              "       -3.288e+01,  6.818e+01, -1.699e+01,  2.208e+01, -4.855e+01,\n",
              "       -3.390e+01, -4.536e+01,  9.728e+00,  2.481e+01,  1.858e+00,\n",
              "        1.599e+00, -2.838e+01,  6.477e+00, -5.980e+01,  3.532e+01,\n",
              "       -1.302e+01,  4.108e+01, -4.303e+01,  5.247e+01,  1.920e+00,\n",
              "        3.342e+01,  8.490e+00,  8.329e+00, -2.293e+01, -3.577e+01,\n",
              "       -1.337e+01,  3.178e+01, -2.018e+01, -2.654e+01, -3.523e+01,\n",
              "        1.927e+01,  4.823e+01, -1.655e+00,  5.749e-01, -1.893e+01,\n",
              "        7.370e-01,  1.047e+01, -7.732e+00, -1.854e+00, -2.559e-01,\n",
              "       -5.045e+00, -4.227e+00,  2.523e+01,  1.616e+01, -1.310e+01,\n",
              "        6.455e+00, -1.332e+01, -2.291e+01, -1.202e+01,  7.745e+00,\n",
              "        1.755e+01,  5.997e+00,  4.648e+00,  4.120e+00, -1.825e+00,\n",
              "        5.366e+00,  4.546e+00, -2.598e+00, -4.091e+00,  7.496e+00,\n",
              "        3.100e+01,  1.530e+01, -5.323e+00, -1.509e+01, -3.801e+00,\n",
              "       -6.584e+00, -7.203e-02, -4.237e+00,  3.355e+00,  3.176e+00,\n",
              "        6.025e+00, -2.422e-01,  2.628e+00, -2.131e-02, -8.349e+00,\n",
              "       -5.091e+00, -5.060e+00, -4.779e+00,  7.645e+00,  1.797e+00,\n",
              "        4.276e+00,  1.418e-01,  2.800e+00,  3.146e+00, -5.188e+00,\n",
              "       -2.479e+00, -1.306e+01, -5.545e+00, -2.923e+00,  2.945e+00])"
            ]
          },
          "metadata": {},
          "execution_count": 33
        }
      ]
    },
    {
      "cell_type": "markdown",
      "source": [
        "일반적인 최소제곱법으로는 잘 되지 않는 것을 확인 - 정규화 필요"
      ],
      "metadata": {
        "id": "kGmzCvwulMub"
      }
    },
    {
      "cell_type": "markdown",
      "source": [
        "###리지회귀"
      ],
      "metadata": {
        "id": "YtbaybVtutYU"
      }
    },
    {
      "cell_type": "markdown",
      "source": [
        "리지회귀 - 벌칙항의 영향"
      ],
      "metadata": {
        "id": "uAr1tKGglRh1"
      }
    },
    {
      "cell_type": "code",
      "source": [
        "n_alphas=50\n",
        "ridge_alphas=np.logspace(-2, 0.7, n_alphas) #밑을 10으로 한 로그를 취한 등차수열"
      ],
      "metadata": {
        "id": "cAqgn9Y9kRXF"
      },
      "execution_count": 34,
      "outputs": []
    },
    {
      "cell_type": "code",
      "source": [
        "sp.log10(ridge_alphas)"
      ],
      "metadata": {
        "colab": {
          "base_uri": "https://localhost:8080/"
        },
        "id": "fjRZQOshlWUJ",
        "outputId": "c6456354-ea3d-407f-90d7-6d137cfd07ce"
      },
      "execution_count": 35,
      "outputs": [
        {
          "output_type": "execute_result",
          "data": {
            "text/plain": [
              "array([-2.   , -1.945, -1.89 , -1.835, -1.78 , -1.724, -1.669, -1.614,\n",
              "       -1.559, -1.504, -1.449, -1.394, -1.339, -1.284, -1.229, -1.173,\n",
              "       -1.118, -1.063, -1.008, -0.953, -0.898, -0.843, -0.788, -0.733,\n",
              "       -0.678, -0.622, -0.567, -0.512, -0.457, -0.402, -0.347, -0.292,\n",
              "       -0.237, -0.182, -0.127, -0.071, -0.016,  0.039,  0.094,  0.149,\n",
              "        0.204,  0.259,  0.314,  0.369,  0.424,  0.48 ,  0.535,  0.59 ,\n",
              "        0.645,  0.7  ])"
            ]
          },
          "metadata": {},
          "execution_count": 35
        }
      ]
    },
    {
      "cell_type": "markdown",
      "source": [
        "50개의 a를 바꿔가며 50번 리지 회귀로 추정, 파라미터로 a와 '절편은 추정하지 않는다'는 옵션 지정"
      ],
      "metadata": {
        "id": "Tpjt7Uazl7so"
      }
    },
    {
      "cell_type": "code",
      "source": [
        "#추정한 회귀계수를 저장할 리스트\n",
        "ridge_coefs=[]\n",
        "#for 루프로 리지 회귀 추정\n",
        "for a in ridge_alphas:\n",
        "  ridge=linear_model.Ridge(alpha=a, fit_intercept=False)\n",
        "  ridge.fit(x,y)\n",
        "  ridge_coefs.append(ridge.coef_)"
      ],
      "metadata": {
        "id": "Bq_WrIdXlWRX"
      },
      "execution_count": 37,
      "outputs": []
    },
    {
      "cell_type": "code",
      "source": [
        "ridge_coefs=np.array(ridge_coefs)\n",
        "ridge_coefs.shape"
      ],
      "metadata": {
        "colab": {
          "base_uri": "https://localhost:8080/"
        },
        "id": "eSyLQJKulWIu",
        "outputId": "13202d1d-7b47-41c8-cee6-389152413d52"
      },
      "execution_count": 38,
      "outputs": [
        {
          "output_type": "execute_result",
          "data": {
            "text/plain": [
              "(50, 100)"
            ]
          },
          "metadata": {},
          "execution_count": 38
        }
      ]
    },
    {
      "cell_type": "markdown",
      "source": [
        "50개의 a와 100개의 독립변수로 이루어진 배열 -> 벌칙항 a값에 따른 회귀계수"
      ],
      "metadata": {
        "id": "54zpAr7Sm5CT"
      }
    },
    {
      "cell_type": "code",
      "source": [
        "#a를 변환\n",
        "log_alphas=-sp.log10(ridge_alphas)\n",
        "#가로축을 -log10(a), 세로축을 계수로 하는 그래프\n",
        "plt.plot(log_alphas, ridge_coefs, color='black')\n",
        "#독립변수 X_1의 계수를 알기 쉽게 표시\n",
        "plt.text(max(log_alphas)+0.1, np.array(ridge_coefs)[0,0],\"X_1\")\n",
        "#x축의 범위\n",
        "plt.xlim([min(log_alphas)-0.1,max(log_alphas)+0.3])\n",
        "#축 레이블\n",
        "plt.title(\"Ridge\")\n",
        "plt.xlabel(\"- log10(alpha)\")\n",
        "plt.ylabel(\"Coefficients\")"
      ],
      "metadata": {
        "colab": {
          "base_uri": "https://localhost:8080/",
          "height": 499
        },
        "id": "KGfe2RdQmpzs",
        "outputId": "adafb741-74f5-422e-ec42-8d943c4f19b5"
      },
      "execution_count": 39,
      "outputs": [
        {
          "output_type": "execute_result",
          "data": {
            "text/plain": [
              "Text(0, 0.5, 'Coefficients')"
            ]
          },
          "metadata": {},
          "execution_count": 39
        },
        {
          "output_type": "display_data",
          "data": {
            "text/plain": [
              "<Figure size 640x480 with 1 Axes>"
            ],
            "image/png": "[encoded data removed]"
          },
          "metadata": {}
        }
      ]
    },
    {
      "cell_type": "markdown",
      "source": [
        "가로축(-log10 a)이 왼쪽으로 갈수록 a가 크고 정교화 강도 셈\n",
        "\n",
        "-> 왼쪽으로 갈수록 계수 절대치 작고 오른쪽으로 갈수록 크게 추정됨"
      ],
      "metadata": {
        "id": "KirnKcuXp_-e"
      }
    },
    {
      "cell_type": "markdown",
      "source": [
        "최적의 정규화 강도 결정 - 교차검증법 이용"
      ],
      "metadata": {
        "id": "wzjrqRIFrVec"
      }
    },
    {
      "cell_type": "code",
      "source": [
        "#CV에서 최적의 a를 구함\n",
        "ridge_best=linear_model.RidgeCV(cv=10, alphas=ridge_alphas, fit_intercept=False)\n",
        "ridge_best.fit(x,y)\n",
        "#최적의 -log10(a)\n",
        "-sp.log10(ridge_best.alpha_)"
      ],
      "metadata": {
        "colab": {
          "base_uri": "https://localhost:8080/"
        },
        "id": "ZY-ROAwxopc-",
        "outputId": "1558dd61-907d-428b-cc5c-e022da8a7ca9"
      },
      "execution_count": 40,
      "outputs": [
        {
          "output_type": "execute_result",
          "data": {
            "text/plain": [
              "0.23673469387755094"
            ]
          },
          "metadata": {},
          "execution_count": 40
        }
      ]
    },
    {
      "cell_type": "markdown",
      "source": [
        "해당 지점을 solution-path(위 그래프)에서 찾아보면 계수 절댓값이 0에 가까운 것으로 나타남"
      ],
      "metadata": {
        "id": "Q0JObiLOr6A2"
      }
    },
    {
      "cell_type": "markdown",
      "source": [
        "적합한 a"
      ],
      "metadata": {
        "id": "M8EI-uJesEdd"
      }
    },
    {
      "cell_type": "code",
      "source": [
        "ridge_best.alpha_"
      ],
      "metadata": {
        "colab": {
          "base_uri": "https://localhost:8080/"
        },
        "id": "UYHN3nthopaw",
        "outputId": "a0ac12aa-50ca-4114-fa75-35dcd37c7799"
      },
      "execution_count": 41,
      "outputs": [
        {
          "output_type": "execute_result",
          "data": {
            "text/plain": [
              "0.5797827717179138"
            ]
          },
          "metadata": {},
          "execution_count": 41
        }
      ]
    },
    {
      "cell_type": "markdown",
      "source": [
        "추정된 계수"
      ],
      "metadata": {
        "id": "9lk6DL-fsI_c"
      }
    },
    {
      "cell_type": "code",
      "source": [
        "ridge_best.coef_"
      ],
      "metadata": {
        "colab": {
          "base_uri": "https://localhost:8080/"
        },
        "id": "iyYtqUhQopYe",
        "outputId": "90d27154-50ff-4ae6-b0f9-3f746dd578af"
      },
      "execution_count": 42,
      "outputs": [
        {
          "output_type": "execute_result",
          "data": {
            "text/plain": [
              "array([ 4.463,  1.288,  0.293, -0.091, -0.201, -0.233, -0.215, -0.206,\n",
              "       -0.145, -0.135, -0.155, -0.046, -0.097, -0.017, -0.11 , -0.012,\n",
              "       -0.094,  0.013, -0.018, -0.031,  0.025, -0.029,  0.043, -0.087,\n",
              "        0.127,  0.021,  0.055, -0.077,  0.141, -0.007,  0.099,  0.116,\n",
              "       -0.044,  0.037, -0.034,  0.015,  0.123, -0.171, -0.007, -0.182,\n",
              "        0.09 ,  0.222,  0.035, -0.032, -0.008,  0.025,  0.338, -0.193,\n",
              "       -0.108,  0.212, -0.128, -0.246,  0.249,  0.128, -0.155,  0.27 ,\n",
              "        0.03 , -0.165, -0.178,  0.158, -0.011,  0.013,  0.194,  0.134,\n",
              "       -0.156, -0.018,  0.256,  0.223, -0.185,  0.006,  0.535,  0.181,\n",
              "       -0.348, -0.123,  0.226, -0.043, -0.115, -0.053,  0.209,  0.189,\n",
              "       -0.042, -0.205, -0.099,  0.059, -0.224,  0.15 , -0.039, -0.113,\n",
              "        0.21 ,  0.012,  0.129, -0.032, -0.022, -0.229, -0.198,  0.245,\n",
              "       -0.305, -0.396, -0.163,  0.164])"
            ]
          },
          "metadata": {},
          "execution_count": 42
        }
      ]
    },
    {
      "cell_type": "markdown",
      "source": [
        "처음에 올바른 계수를 5라고 설정했는데 X_1의 계수가 4.463이 나와 성공적"
      ],
      "metadata": {
        "id": "H2B7nvgjs6bh"
      }
    },
    {
      "cell_type": "markdown",
      "source": [
        "###라소회귀"
      ],
      "metadata": {
        "id": "UCa8dmInuv7m"
      }
    },
    {
      "cell_type": "markdown",
      "source": [
        "lasso_path: 파라미터로 데이터 지정하는 것만으로도 a를 다양하게 변화시킨 결과 출력"
      ],
      "metadata": {
        "id": "LBuVzZO4vx6c"
      }
    },
    {
      "cell_type": "code",
      "source": [
        "lasso_alphas, lasso_coefs, _=linear_model.lasso_path(x, y)"
      ],
      "metadata": {
        "id": "a1GJCuD0sM4t"
      },
      "execution_count": 44,
      "outputs": []
    },
    {
      "cell_type": "markdown",
      "source": [
        "solution-path 구현"
      ],
      "metadata": {
        "id": "jpl22LFvwJLA"
      }
    },
    {
      "cell_type": "code",
      "source": [
        "#a를 변환\n",
        "log_alphas=-sp.log10(lasso_alphas)\n",
        "#가로축을 -log10(a), 세로축을 계수로 하는 그래프\n",
        "plt.plot(log_alphas, lasso_coefs.T, color='black')\n",
        "#독립변수 X_1의 계수를 알기 쉽게 표시\n",
        "plt.text(max(log_alphas)+0.1, lasso_coefs[0,-1],\"X_1\")\n",
        "#x축의 범위\n",
        "plt.xlim([min(log_alphas)-0.1,max(log_alphas)+0.3])\n",
        "#축 레이블\n",
        "plt.title(\"Lasso\")\n",
        "plt.xlabel(\"-log10(alpha)\")\n",
        "plt.ylabel(\"Coefficients\")"
      ],
      "metadata": {
        "colab": {
          "base_uri": "https://localhost:8080/",
          "height": 499
        },
        "id": "sm8EyOMovLk4",
        "outputId": "b8254be5-9e48-47e2-e0d6-9215feae834c"
      },
      "execution_count": 45,
      "outputs": [
        {
          "output_type": "execute_result",
          "data": {
            "text/plain": [
              "Text(0, 0.5, 'Coefficients')"
            ]
          },
          "metadata": {},
          "execution_count": 45
        },
        {
          "output_type": "display_data",
          "data": {
            "text/plain": [
              "<Figure size 640x480 with 1 Axes>"
            ],
            "image/png": "[encoded data removed]"
          },
          "metadata": {}
        }
      ]
    },
    {
      "cell_type": "markdown",
      "source": [
        "라소회귀 - 최적의 정규화 강도 결정"
      ],
      "metadata": {
        "id": "oeiIC2dYx3QC"
      }
    },
    {
      "cell_type": "code",
      "source": [
        "#CV로 최적의 a를 구함\n",
        "lasso_best=linear_model.LassoCV(cv=10, alphas=lasso_alphas, fit_intercept=False)\n",
        "lasso_best.fit(x,y)\n",
        "#최적의 -log(a)\n",
        "-sp.log10(lasso_best.alpha_)"
      ],
      "metadata": {
        "colab": {
          "base_uri": "https://localhost:8080/"
        },
        "id": "L3PXTZAGxUsW",
        "outputId": "9801fdd8-423a-43f9-aa40-84fadafae7c6"
      },
      "execution_count": 47,
      "outputs": [
        {
          "output_type": "execute_result",
          "data": {
            "text/plain": [
              "2.3010431777673266"
            ]
          },
          "metadata": {},
          "execution_count": 47
        }
      ]
    },
    {
      "cell_type": "code",
      "source": [
        "lasso_best.alpha_"
      ],
      "metadata": {
        "colab": {
          "base_uri": "https://localhost:8080/"
        },
        "id": "yvqC0WewyLy8",
        "outputId": "aa2427e9-e69f-406e-8edc-58e1083b96fb"
      },
      "execution_count": 48,
      "outputs": [
        {
          "output_type": "execute_result",
          "data": {
            "text/plain": [
              "0.0049998482377299385"
            ]
          },
          "metadata": {},
          "execution_count": 48
        }
      ]
    },
    {
      "cell_type": "code",
      "source": [
        "lasso_best.coef_"
      ],
      "metadata": {
        "colab": {
          "base_uri": "https://localhost:8080/"
        },
        "id": "NkadwiD3yTfq",
        "outputId": "643ddfcd-814d-4c20-b312-61d04f7e9111"
      },
      "execution_count": 49,
      "outputs": [
        {
          "output_type": "execute_result",
          "data": {
            "text/plain": [
              "array([ 5.336e+00, -0.000e+00, -0.000e+00, -3.043e-01, -4.121e-02,\n",
              "       -0.000e+00, -0.000e+00, -0.000e+00, -0.000e+00, -0.000e+00,\n",
              "       -0.000e+00, -0.000e+00, -0.000e+00, -0.000e+00, -0.000e+00,\n",
              "       -0.000e+00, -0.000e+00, -0.000e+00, -0.000e+00, -0.000e+00,\n",
              "       -0.000e+00, -0.000e+00, -0.000e+00, -0.000e+00, -0.000e+00,\n",
              "       -0.000e+00, -0.000e+00, -0.000e+00,  0.000e+00, -0.000e+00,\n",
              "        0.000e+00,  0.000e+00, -0.000e+00,  0.000e+00,  0.000e+00,\n",
              "        0.000e+00,  0.000e+00, -0.000e+00,  0.000e+00,  0.000e+00,\n",
              "        0.000e+00,  0.000e+00,  0.000e+00,  0.000e+00,  0.000e+00,\n",
              "        0.000e+00,  0.000e+00,  0.000e+00,  0.000e+00,  0.000e+00,\n",
              "        0.000e+00,  0.000e+00,  0.000e+00,  0.000e+00,  0.000e+00,\n",
              "        0.000e+00,  0.000e+00,  0.000e+00,  0.000e+00,  0.000e+00,\n",
              "        0.000e+00,  0.000e+00,  0.000e+00,  0.000e+00,  0.000e+00,\n",
              "        0.000e+00,  0.000e+00,  0.000e+00,  0.000e+00,  0.000e+00,\n",
              "        8.425e-03,  0.000e+00,  0.000e+00,  0.000e+00,  0.000e+00,\n",
              "        0.000e+00,  0.000e+00,  0.000e+00,  0.000e+00,  0.000e+00,\n",
              "        0.000e+00,  0.000e+00,  0.000e+00,  0.000e+00,  0.000e+00,\n",
              "        0.000e+00,  0.000e+00,  0.000e+00,  0.000e+00,  0.000e+00,\n",
              "        0.000e+00,  0.000e+00,  0.000e+00,  0.000e+00,  0.000e+00,\n",
              "        7.192e-04,  0.000e+00,  0.000e+00,  0.000e+00,  0.000e+00])"
            ]
          },
          "metadata": {},
          "execution_count": 49
        }
      ]
    },
    {
      "cell_type": "markdown",
      "source": [
        "X_1의 계수가 5가 되었으므로 올바르게 모델링했다고 판단"
      ],
      "metadata": {
        "id": "QWrO3Jg7yYJw"
      }
    }
  ]
}