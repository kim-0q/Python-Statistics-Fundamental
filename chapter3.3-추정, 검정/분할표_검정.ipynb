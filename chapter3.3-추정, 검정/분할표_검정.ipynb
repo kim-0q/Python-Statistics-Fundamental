{
  "nbformat": 4,
  "nbformat_minor": 0,
  "metadata": {
    "colab": {
      "provenance": []
    },
    "kernelspec": {
      "name": "python3",
      "display_name": "Python 3"
    },
    "language_info": {
      "name": "python"
    }
  },
  "cells": [
    {
      "cell_type": "markdown",
      "source": [
        "분할표: 여러개의 범주형 변수를 기준으로 관측치 기록한 표\n",
        "\n",
        "카이제곱 검정: 분할표에 대한 독립성 검정\n",
        "\n",
        "관측도수: 실제 관측된 데이터\n",
        "\n",
        "기대도수: 상관관계가 없을때 얻어지는 데이터"
      ],
      "metadata": {
        "id": "UKlByQk4oxP5"
      }
    },
    {
      "cell_type": "markdown",
      "source": [
        "p값 계산"
      ],
      "metadata": {
        "id": "VFPwYYtbqvLp"
      }
    },
    {
      "cell_type": "code",
      "execution_count": 1,
      "metadata": {
        "id": "6GU0MQVolEwe"
      },
      "outputs": [],
      "source": [
        "import warnings\n",
        "warnings.filterwarnings(action='ignore')\n",
        "\n",
        "import numpy as np\n",
        "import pandas as pd\n",
        "import scipy as sp\n",
        "from scipy import stats\n",
        "\n",
        "from matplotlib import pyplot as plt\n",
        "import seaborn as sns\n",
        "sns.set()\n",
        "\n",
        "%precision 3\n",
        "%matplotlib inline"
      ]
    },
    {
      "cell_type": "code",
      "source": [
        "1-sp.stats.chi2.cdf(x=6.667, df=1)"
      ],
      "metadata": {
        "colab": {
          "base_uri": "https://localhost:8080/"
        },
        "id": "a1kJFNTBqhkU",
        "outputId": "bd0a8904-91bc-45cc-e64b-0eef6db8a968"
      },
      "execution_count": 2,
      "outputs": [
        {
          "output_type": "execute_result",
          "data": {
            "text/plain": [
              "0.009821437357809604"
            ]
          },
          "metadata": {},
          "execution_count": 2
        }
      ]
    },
    {
      "cell_type": "markdown",
      "source": [
        "0.05보다 작으므로 색에 따라 버튼 누르는게 유의미하게 변함"
      ],
      "metadata": {
        "id": "NjcornaIq5DL"
      }
    },
    {
      "cell_type": "markdown",
      "source": [
        "분할표 검정"
      ],
      "metadata": {
        "id": "j50rBjZ7rEpj"
      }
    },
    {
      "cell_type": "code",
      "source": [
        "click_data=pd.read_csv(\"3-10-1-click_data.csv\")\n",
        "print(click_data)"
      ],
      "metadata": {
        "colab": {
          "base_uri": "https://localhost:8080/"
        },
        "id": "3lkKw6KUq3PW",
        "outputId": "8c6c1357-efc7-4a64-aae1-237cc25ce6f4"
      },
      "execution_count": 3,
      "outputs": [
        {
          "output_type": "stream",
          "name": "stdout",
          "text": [
            "  color  click  freq\n",
            "0  blue  click    20\n",
            "1  blue    not   230\n",
            "2   red  click    10\n",
            "3   red    not    40\n"
          ]
        }
      ]
    },
    {
      "cell_type": "code",
      "source": [
        "cross=pd.pivot_table(\n",
        "    data=click_data,\n",
        "    values='freq',\n",
        "    aggfunc='sum',\n",
        "    index='color',\n",
        "    columns='click'\n",
        ")\n",
        "print(cross)"
      ],
      "metadata": {
        "colab": {
          "base_uri": "https://localhost:8080/"
        },
        "id": "Wj4V99JtrRnv",
        "outputId": "ca9dfb61-8b28-4908-9bfc-2576250dbc63"
      },
      "execution_count": 5,
      "outputs": [
        {
          "output_type": "stream",
          "name": "stdout",
          "text": [
            "click  click  not\n",
            "color            \n",
            "blue      20  230\n",
            "red       10   40\n"
          ]
        }
      ]
    },
    {
      "cell_type": "markdown",
      "source": [
        "카이제곱 통계량, p값, 자유도, 기대도수 표 순"
      ],
      "metadata": {
        "id": "KDPKwExCrzQA"
      }
    },
    {
      "cell_type": "code",
      "source": [
        "sp.stats.chi2_contingency(cross, correction=False)"
      ],
      "metadata": {
        "colab": {
          "base_uri": "https://localhost:8080/"
        },
        "id": "LflwQSCvrf-D",
        "outputId": "4b27cf5f-2ede-4716-aec7-d2f6681b0b5e"
      },
      "execution_count": 6,
      "outputs": [
        {
          "output_type": "execute_result",
          "data": {
            "text/plain": [
              "Chi2ContingencyResult(statistic=6.666666666666666, pvalue=0.009823274507519247, dof=1, expected_freq=array([[ 25., 225.],\n",
              "       [  5.,  45.]]))"
            ]
          },
          "metadata": {},
          "execution_count": 6
        }
      ]
    },
    {
      "cell_type": "code",
      "source": [],
      "metadata": {
        "id": "McoxXf_Iru_w"
      },
      "execution_count": null,
      "outputs": []
    }
  ]
}