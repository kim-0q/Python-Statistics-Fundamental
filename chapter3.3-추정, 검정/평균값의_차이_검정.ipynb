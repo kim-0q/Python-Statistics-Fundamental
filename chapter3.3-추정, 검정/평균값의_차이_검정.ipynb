{
  "nbformat": 4,
  "nbformat_minor": 0,
  "metadata": {
    "colab": {
      "provenance": []
    },
    "kernelspec": {
      "name": "python3",
      "display_name": "Python 3"
    },
    "language_info": {
      "name": "python"
    }
  },
  "cells": [
    {
      "cell_type": "markdown",
      "source": [
        "대응표본 t검정: 같은 대상을 다른 조건으로 2번 측정해 차이 비교할때 사용\n",
        "\n",
        "차잇값이 0과 유의미한 차이가 있는지로 검정 시행!"
      ],
      "metadata": {
        "id": "uiM8Y17nMQLt"
      }
    },
    {
      "cell_type": "code",
      "execution_count": 1,
      "metadata": {
        "id": "W_lGYq_yME7a"
      },
      "outputs": [],
      "source": [
        "import warnings\n",
        "warnings.filterwarnings(action='ignore')\n",
        "\n",
        "import numpy as np\n",
        "import pandas as pd\n",
        "import scipy as sp\n",
        "from scipy import stats\n",
        "\n",
        "from matplotlib import pyplot as plt\n",
        "import seaborn as sns\n",
        "sns.set()\n",
        "\n",
        "%precision 3\n",
        "%matplotlib inline"
      ]
    },
    {
      "cell_type": "code",
      "source": [
        "paired_test_data=pd.read_csv(\"3-9-1-paired-t-test.csv\")\n",
        "print(paired_test_data)"
      ],
      "metadata": {
        "colab": {
          "base_uri": "https://localhost:8080/"
        },
        "id": "WbKGGNJgMtV1",
        "outputId": "b3e71b08-69a2-4e3d-e7d7-47fdfa15b648"
      },
      "execution_count": 3,
      "outputs": [
        {
          "output_type": "stream",
          "name": "stdout",
          "text": [
            "  person medicine  body_temperature\n",
            "0      A   before              36.2\n",
            "1      B   before              36.2\n",
            "2      C   before              35.3\n",
            "3      D   before              36.1\n",
            "4      E   before              36.1\n",
            "5      A    after              36.8\n",
            "6      B    after              36.1\n",
            "7      C    after              36.8\n",
            "8      D    after              37.1\n",
            "9      E    after              36.9\n"
          ]
        }
      ]
    },
    {
      "cell_type": "markdown",
      "source": [
        "\n",
        "\n",
        "*   귀무가설: 약을 먹기 전과 후의 체온이 변하지 않는다\n",
        "*   대립가설: 약을 먹기 전과 후의 체온이 다르다\n",
        "\n"
      ],
      "metadata": {
        "id": "emB68dLNPKT2"
      }
    },
    {
      "cell_type": "code",
      "source": [
        "before=paired_test_data.query(\"medicine=='before'\")[\"body_temperature\"]\n",
        "after=paired_test_data.query(\"medicine=='after'\")[\"body_temperature\"]\n",
        "\n",
        "before=np.array(before)\n",
        "after=np.array(after)\n",
        "diff=after-before\n",
        "diff"
      ],
      "metadata": {
        "colab": {
          "base_uri": "https://localhost:8080/"
        },
        "id": "7HGuMPukPDyh",
        "outputId": "4547beb7-8b8d-4c2a-e62c-2eb2189bc346"
      },
      "execution_count": 4,
      "outputs": [
        {
          "output_type": "execute_result",
          "data": {
            "text/plain": [
              "array([ 0.6, -0.1,  1.5,  1. ,  0.8])"
            ]
          },
          "metadata": {},
          "execution_count": 4
        }
      ]
    },
    {
      "cell_type": "code",
      "source": [
        "stats.ttest_1samp(diff,0)"
      ],
      "metadata": {
        "colab": {
          "base_uri": "https://localhost:8080/"
        },
        "id": "5puQvFr0P_-N",
        "outputId": "99bee925-d56c-4cf1-bb29-7bccd817511c"
      },
      "execution_count": 5,
      "outputs": [
        {
          "output_type": "execute_result",
          "data": {
            "text/plain": [
              "TtestResult(statistic=2.901693483620596, pvalue=0.044043109730074276, df=4)"
            ]
          },
          "metadata": {},
          "execution_count": 5
        }
      ]
    },
    {
      "cell_type": "code",
      "source": [
        "stats.ttest_rel(after, before)"
      ],
      "metadata": {
        "colab": {
          "base_uri": "https://localhost:8080/"
        },
        "id": "J6V4VYjAQLNC",
        "outputId": "0eea106e-6b52-4b08-9614-43f48a3dd81f"
      },
      "execution_count": 6,
      "outputs": [
        {
          "output_type": "execute_result",
          "data": {
            "text/plain": [
              "TtestResult(statistic=2.901693483620596, pvalue=0.044043109730074276, df=4)"
            ]
          },
          "metadata": {},
          "execution_count": 6
        }
      ]
    },
    {
      "cell_type": "markdown",
      "source": [
        "p값이 0.05보다 작으므로 유의미한 차이"
      ],
      "metadata": {
        "id": "db-k4IiDQazt"
      }
    },
    {
      "cell_type": "markdown",
      "source": [
        "독립표본 t검정: '평균값의 차이'에 주목\n",
        "\n",
        "(대응표본은 '데이터의 차이'에 주목)"
      ],
      "metadata": {
        "id": "0l6wcAr2Q77P"
      }
    },
    {
      "cell_type": "code",
      "source": [
        "mean_bef=sp.mean(before)\n",
        "mean_aft=sp.mean(after)\n",
        "\n",
        "sigma_bef=sp.var(before,ddof=1)\n",
        "sigma_aft=sp.var(after,ddof=1)\n",
        "\n",
        "m=len(before)\n",
        "n=len(after)\n",
        "\n",
        "t_value=(mean_aft-mean_bef)/sp.sqrt((sigma_bef)/m+(sigma_aft)/n)\n",
        "t_value"
      ],
      "metadata": {
        "colab": {
          "base_uri": "https://localhost:8080/"
        },
        "id": "3P2O1g13QW_r",
        "outputId": "59d7939c-0c38-421c-d411-5bcf2911ea1b"
      },
      "execution_count": 7,
      "outputs": [
        {
          "output_type": "execute_result",
          "data": {
            "text/plain": [
              "3.1557282344421034"
            ]
          },
          "metadata": {},
          "execution_count": 7
        }
      ]
    },
    {
      "cell_type": "code",
      "source": [
        "stats.ttest_ind(after, before, equal_var=False)"
      ],
      "metadata": {
        "colab": {
          "base_uri": "https://localhost:8080/"
        },
        "id": "Je5LUKLRS54R",
        "outputId": "8bdcc60d-c867-4c00-cb17-e02ca8b6bedf"
      },
      "execution_count": 8,
      "outputs": [
        {
          "output_type": "execute_result",
          "data": {
            "text/plain": [
              "TtestResult(statistic=3.1557282344421034, pvalue=0.013484775682079892, df=7.998478291882638)"
            ]
          },
          "metadata": {},
          "execution_count": 8
        }
      ]
    },
    {
      "cell_type": "markdown",
      "source": [
        "평균값의 차이에 대한 p값도 0.013으로 유의미한 차이가 있다\n",
        "\n",
        "대응표본: 약을 먹기 전과 후의 제온이 유의미한 차이\n",
        "\n",
        "독립표본: 각각 평균에 대한 유의미한 차이"
      ],
      "metadata": {
        "id": "Kf9N1_vnTHAq"
      }
    }
  ]
}