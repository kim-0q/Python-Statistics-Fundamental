{
  "nbformat": 4,
  "nbformat_minor": 0,
  "metadata": {
    "colab": {
      "provenance": []
    },
    "kernelspec": {
      "name": "python3",
      "display_name": "Python 3"
    },
    "language_info": {
      "name": "python"
    }
  },
  "cells": [
    {
      "cell_type": "markdown",
      "source": [
        "**P값이 0.05 이하일 때**: \"00은 xx와 유의미한 차이가 있다\"\n",
        "\n",
        "**0.05 초과일 때**: \"00은 xx와 유의미한 차이가 있다고 말할 수 없다\""
      ],
      "metadata": {
        "id": "GOA_rmtGt_jz"
      }
    },
    {
      "cell_type": "markdown",
      "source": [
        "## 잘못된 해석\n",
        "\n",
        "1.   **\"p값이 작으면 차이가 크다고 말할 수 있다\"**: 샘플사이즈, 극소량의 변화도 반영할 경우 p값 영향\n",
        "\n",
        "2.   **\"p값이 0.05보다 크므로 차이가 없다\"**: 귀무가설이 틀릴 확률은 p값으로 말할 수 있지만 귀무가설이 옳을 확률은 보장 X\n",
        "\n",
        "3.   **\"1-p값은 대립가설이 올바를 확률이다\"**: 2와 같은 맥락\n",
        "\n"
      ],
      "metadata": {
        "id": "u3Ui5Jvrt_hG"
      }
    },
    {
      "cell_type": "markdown",
      "source": [
        "**제1종 오류**: 귀무가설이 올바르지만 실수로 기각하는 경우 (P값 작으면 1종오류 확률 낮음)\n",
        "\n",
        "**제2종 오류**: 귀무가설이 틀렸는데 실수로 채택하는 경우"
      ],
      "metadata": {
        "id": "pLw592o4t_T-"
      }
    },
    {
      "cell_type": "markdown",
      "source": [
        "**검정의 비대칭성**: 제2종 오류가 일어날 확률은 통계적가설검정으로 컨트롤 불가\n",
        "\n",
        "**통계적가설검정에서는 제1종 오류만 컨트롤 가능!**"
      ],
      "metadata": {
        "id": "ZMCO4ElGt_Rs"
      }
    },
    {
      "cell_type": "markdown",
      "source": [
        "유의수준은 검정 하기전에 정해두어야\n",
        "\n",
        "가정이 올바른가: t검정에서는 모집단분포가 정규분포라고 가정했을때 시행. 표본이 가지는 가정과의 차이를 어떻게 줄일지 항상 생각해야 함"
      ],
      "metadata": {
        "id": "QtPJuO7_t_PY"
      }
    }
  ]
}