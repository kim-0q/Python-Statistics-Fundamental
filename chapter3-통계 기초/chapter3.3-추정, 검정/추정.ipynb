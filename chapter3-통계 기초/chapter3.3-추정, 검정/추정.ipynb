{
  "nbformat": 4,
  "nbformat_minor": 0,
  "metadata": {
    "colab": {
      "provenance": []
    },
    "kernelspec": {
      "name": "python3",
      "display_name": "Python 3"
    },
    "language_info": {
      "name": "python"
    }
  },
  "cells": [
    {
      "cell_type": "code",
      "execution_count": 14,
      "metadata": {
        "id": "mdAqrwvLdtmS"
      },
      "outputs": [],
      "source": [
        "import numpy as np\n",
        "import pandas as pd\n",
        "import scipy as sp\n",
        "from scipy import stats\n",
        "\n",
        "from matplotlib import pyplot as plt\n",
        "import seaborn as sns\n",
        "sns.set()\n",
        "\n",
        "%precision 3\n",
        "%matplotlib inline"
      ]
    },
    {
      "cell_type": "code",
      "source": [
        "fish=pd.read_csv(\"3-7-1-fish_length.csv\")[\"length\"]\n",
        "fish"
      ],
      "metadata": {
        "colab": {
          "base_uri": "https://localhost:8080/"
        },
        "id": "K8C4MOCOeYum",
        "outputId": "e64998f5-f158-4cdd-acc7-9ab12ddce212"
      },
      "execution_count": 5,
      "outputs": [
        {
          "output_type": "execute_result",
          "data": {
            "text/plain": [
              "0    4.352982\n",
              "1    3.735304\n",
              "2    5.944617\n",
              "3    3.798326\n",
              "4    4.087688\n",
              "5    5.265985\n",
              "6    3.272614\n",
              "7    3.526691\n",
              "8    4.150083\n",
              "9    3.736104\n",
              "Name: length, dtype: float64"
            ]
          },
          "metadata": {},
          "execution_count": 5
        }
      ]
    },
    {
      "cell_type": "markdown",
      "source": [
        "점추정: 모수를 1개의 값으로 추정\n",
        "\n",
        "모평균은 표본평균으로 추정\n",
        "모분산은 표본의 불편분산으로 추정"
      ],
      "metadata": {
        "id": "XtGN3D_Ue5JK"
      }
    },
    {
      "cell_type": "code",
      "source": [
        "mu=sp.mean(fish)\n",
        "mu"
      ],
      "metadata": {
        "colab": {
          "base_uri": "https://localhost:8080/"
        },
        "id": "PyTNz8YAewt0",
        "outputId": "a5df78d7-5535-48d2-cb8d-04483b5fb66e"
      },
      "execution_count": 8,
      "outputs": [
        {
          "output_type": "stream",
          "name": "stderr",
          "text": [
            "<ipython-input-8-9e67392bead8>:1: DeprecationWarning: scipy.mean is deprecated and will be removed in SciPy 2.0.0, use numpy.mean instead\n",
            "  mu=sp.mean(fish)\n"
          ]
        },
        {
          "output_type": "execute_result",
          "data": {
            "text/plain": [
              "4.187039324504523"
            ]
          },
          "metadata": {},
          "execution_count": 8
        }
      ]
    },
    {
      "cell_type": "code",
      "source": [
        "sigma_2=sp.var(fish,ddof=1)\n",
        "sigma_2"
      ],
      "metadata": {
        "colab": {
          "base_uri": "https://localhost:8080/"
        },
        "id": "70_Pc_AHfCOb",
        "outputId": "9185224e-019d-4588-b355-0aa9369dda29"
      },
      "execution_count": 9,
      "outputs": [
        {
          "output_type": "stream",
          "name": "stderr",
          "text": [
            "<ipython-input-9-735ac581473c>:1: DeprecationWarning: scipy.var is deprecated and will be removed in SciPy 2.0.0, use numpy.var instead\n",
            "  sigma_2=sp.var(fish,ddof=1)\n"
          ]
        },
        {
          "output_type": "execute_result",
          "data": {
            "text/plain": [
              "0.6803017080832623"
            ]
          },
          "metadata": {},
          "execution_count": 9
        }
      ]
    },
    {
      "cell_type": "markdown",
      "source": [
        "구간추정: 추정값이 폭을 가지는 추정 방법\n",
        "\n",
        "신뢰계수: 구간추정에 대한 신뢰 정도를 확률로 표현(95%, 99%)\n",
        "\n",
        "신뢰구간: 특정 신뢰계수 만족하는 구간"
      ],
      "metadata": {
        "id": "qn2epXipfnLD"
      }
    },
    {
      "cell_type": "code",
      "source": [
        "df=len(fish)-1\n",
        "df"
      ],
      "metadata": {
        "colab": {
          "base_uri": "https://localhost:8080/"
        },
        "id": "NrgvW9R9fQoh",
        "outputId": "6fddf657-74b7-4eb0-eebd-f9e261f23a7c"
      },
      "execution_count": 10,
      "outputs": [
        {
          "output_type": "execute_result",
          "data": {
            "text/plain": [
              "9"
            ]
          },
          "metadata": {},
          "execution_count": 10
        }
      ]
    },
    {
      "cell_type": "code",
      "source": [
        "sigma=sp.std(fish,ddof=1)\n",
        "se=sigma/sp.sqrt(len(fish))\n",
        "se"
      ],
      "metadata": {
        "colab": {
          "base_uri": "https://localhost:8080/"
        },
        "id": "IogX5sLCgr2-",
        "outputId": "834cefcb-da99-4838-90a4-5348456b5758"
      },
      "execution_count": 12,
      "outputs": [
        {
          "output_type": "stream",
          "name": "stderr",
          "text": [
            "<ipython-input-12-51a5b6e22a59>:1: DeprecationWarning: scipy.std is deprecated and will be removed in SciPy 2.0.0, use numpy.std instead\n",
            "  sigma=sp.std(fish,ddof=1)\n",
            "<ipython-input-12-51a5b6e22a59>:2: DeprecationWarning: scipy.sqrt is deprecated and will be removed in SciPy 2.0.0, use numpy.lib.scimath.sqrt instead\n",
            "  se=sigma/sp.sqrt(len(fish))\n"
          ]
        },
        {
          "output_type": "execute_result",
          "data": {
            "text/plain": [
              "0.26082593967687767"
            ]
          },
          "metadata": {},
          "execution_count": 12
        }
      ]
    },
    {
      "cell_type": "code",
      "source": [
        "#신뢰구간 계산\n",
        "interval=stats.t.interval(\n",
        "    confidence=0.95, df=df, loc=mu, scale=se)\n",
        "interval"
      ],
      "metadata": {
        "colab": {
          "base_uri": "https://localhost:8080/"
        },
        "id": "QlBhS-kjg_op",
        "outputId": "f1db3f65-e491-41e4-a9e9-f665f372b196"
      },
      "execution_count": 16,
      "outputs": [
        {
          "output_type": "execute_result",
          "data": {
            "text/plain": [
              "(3.5970100568358245, 4.777068592173221)"
            ]
          },
          "metadata": {},
          "execution_count": 16
        }
      ]
    },
    {
      "cell_type": "markdown",
      "source": [
        "표본의 분산 크기가 크면 신뢰구간의 폭도 넓어짐"
      ],
      "metadata": {
        "id": "VJWDvkZHjDLr"
      }
    },
    {
      "cell_type": "code",
      "source": [
        "se2=(sigma*10)/sp.sqrt(len(fish))\n",
        "stats.t.interval(confidence=0.95, df=df, loc=mu, scale=se2) #여기서 scale은 표준오차"
      ],
      "metadata": {
        "colab": {
          "base_uri": "https://localhost:8080/"
        },
        "id": "C9sjf30xhUKL",
        "outputId": "9c8d7b17-29a2-48b9-b00a-e3151aad8f44"
      },
      "execution_count": 17,
      "outputs": [
        {
          "output_type": "stream",
          "name": "stderr",
          "text": [
            "<ipython-input-17-1b212efb6bce>:1: DeprecationWarning: scipy.sqrt is deprecated and will be removed in SciPy 2.0.0, use numpy.lib.scimath.sqrt instead\n",
            "  se2=(sigma*10)/sp.sqrt(len(fish))\n"
          ]
        },
        {
          "output_type": "execute_result",
          "data": {
            "text/plain": [
              "(-1.7132533521824618, 10.087332001191509)"
            ]
          },
          "metadata": {},
          "execution_count": 17
        }
      ]
    },
    {
      "cell_type": "markdown",
      "source": [
        "샘플사이즈가 커지면 신뢰구간 좁아짐 (표본평균을 신뢰할 수 있게 되므로)"
      ],
      "metadata": {
        "id": "nrBhAXfmjrPK"
      }
    },
    {
      "cell_type": "code",
      "source": [
        "df2=(len(fish)*10)-1\n",
        "se3=sigma/sp.sqrt(len(fish)*10)\n",
        "stats.t.interval(confidence=0.95, df=df, loc=mu, scale=se3)"
      ],
      "metadata": {
        "colab": {
          "base_uri": "https://localhost:8080/"
        },
        "id": "gcZ9FBpAjaiG",
        "outputId": "2254a643-a6d5-493f-8b71-97e80354be15"
      },
      "execution_count": 18,
      "outputs": [
        {
          "output_type": "stream",
          "name": "stderr",
          "text": [
            "<ipython-input-18-43bebededd1c>:2: DeprecationWarning: scipy.sqrt is deprecated and will be removed in SciPy 2.0.0, use numpy.lib.scimath.sqrt instead\n",
            "  se3=sigma/sp.sqrt(len(fish)*10)\n"
          ]
        },
        {
          "output_type": "execute_result",
          "data": {
            "text/plain": [
              "(4.0004556873051, 4.373622961703947)"
            ]
          },
          "metadata": {},
          "execution_count": 18
        }
      ]
    },
    {
      "cell_type": "code",
      "source": [
        "stats.t.interval(confidence=0.99, df=df, loc=mu, scale=se)"
      ],
      "metadata": {
        "colab": {
          "base_uri": "https://localhost:8080/"
        },
        "id": "119QJ9_7kSS3",
        "outputId": "fb1d09b9-9885-40b0-97bb-ab7acb3094ed"
      },
      "execution_count": 19,
      "outputs": [
        {
          "output_type": "execute_result",
          "data": {
            "text/plain": [
              "(3.3393979149413973, 5.034680734067649)"
            ]
          },
          "metadata": {},
          "execution_count": 19
        }
      ]
    },
    {
      "cell_type": "markdown",
      "source": [
        "구간추정 결과의 해석\n",
        "\n",
        "1. 원래 모집단에서 표본 추출\n",
        "2. 95% 신뢰구간 계산, 여러번 반봅\n",
        "3. 모든 시행 중 모집단이 신뢰구간에 포함되는 비율이 95%"
      ],
      "metadata": {
        "id": "_Ttw52zrlDhQ"
      }
    },
    {
      "cell_type": "code",
      "source": [
        "be_included_array=np.zeros(20000,dtype=\"bool\")\n",
        "be_included_array"
      ],
      "metadata": {
        "colab": {
          "base_uri": "https://localhost:8080/"
        },
        "id": "GIgNO2H6kftN",
        "outputId": "f0357c9e-4951-4e63-f2ef-ed57603bc57f"
      },
      "execution_count": 20,
      "outputs": [
        {
          "output_type": "execute_result",
          "data": {
            "text/plain": [
              "array([False, False, False, ..., False, False, False])"
            ]
          },
          "metadata": {},
          "execution_count": 20
        }
      ]
    },
    {
      "cell_type": "code",
      "source": [
        "np.random.seed(1)\n",
        "norm_dist=stats.norm(loc=4, scale=0.8)\n",
        "for i in range(0,20000):\n",
        "  sample=norm_dist.rvs(size=10)\n",
        "  df=len(sample)-1\n",
        "  mu=sp.mean(sample)\n",
        "  std=sp.std(sample,ddof=1)\n",
        "  se=std/sp.sqrt(len(sample))\n",
        "  interval=stats.t.interval(0.95, df, mu, se)\n",
        "  if(interval[0]<=4 and interval[1]>=4):\n",
        "    be_included_array[i]=True"
      ],
      "metadata": {
        "colab": {
          "base_uri": "https://localhost:8080/"
        },
        "id": "tAUeiCvCliA_",
        "outputId": "316f5320-b25c-461e-c325-b73ee57f3a4c"
      },
      "execution_count": 21,
      "outputs": [
        {
          "output_type": "stream",
          "name": "stderr",
          "text": [
            "<ipython-input-21-d74ef745250e>:6: DeprecationWarning: scipy.mean is deprecated and will be removed in SciPy 2.0.0, use numpy.mean instead\n",
            "  mu=sp.mean(sample)\n",
            "<ipython-input-21-d74ef745250e>:7: DeprecationWarning: scipy.std is deprecated and will be removed in SciPy 2.0.0, use numpy.std instead\n",
            "  std=sp.std(sample,ddof=1)\n",
            "<ipython-input-21-d74ef745250e>:8: DeprecationWarning: scipy.sqrt is deprecated and will be removed in SciPy 2.0.0, use numpy.lib.scimath.sqrt instead\n",
            "  se=std/sp.sqrt(len(sample))\n"
          ]
        }
      ]
    },
    {
      "cell_type": "code",
      "source": [
        "sum(be_included_array)/len(be_included_array)"
      ],
      "metadata": {
        "colab": {
          "base_uri": "https://localhost:8080/"
        },
        "id": "F8BjV3N-mKPK",
        "outputId": "12d31976-9ffd-4f8e-e7a2-e707f1f46cae"
      },
      "execution_count": 22,
      "outputs": [
        {
          "output_type": "execute_result",
          "data": {
            "text/plain": [
              "0.948"
            ]
          },
          "metadata": {},
          "execution_count": 22
        }
      ]
    },
    {
      "cell_type": "code",
      "source": [],
      "metadata": {
        "id": "xsgHzMNdmQLH"
      },
      "execution_count": null,
      "outputs": []
    }
  ]
}