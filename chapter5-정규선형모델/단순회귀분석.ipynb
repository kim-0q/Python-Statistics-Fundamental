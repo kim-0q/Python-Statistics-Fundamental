{
  "nbformat": 4,
  "nbformat_minor": 0,
  "metadata": {
    "colab": {
      "provenance": []
    },
    "kernelspec": {
      "name": "python3",
      "display_name": "Python 3"
    },
    "language_info": {
      "name": "python"
    }
  },
  "cells": [
    {
      "cell_type": "markdown",
      "source": [
        "## **단순회귀분석**(연속형 독립변수가 하나인 모델)"
      ],
      "metadata": {
        "id": "9-Rp3n8qZlnt"
      }
    },
    {
      "cell_type": "code",
      "execution_count": 1,
      "metadata": {
        "id": "jaILeNGoZSla"
      },
      "outputs": [],
      "source": [
        "import warnings\n",
        "warnings.filterwarnings(action='ignore')\n",
        "\n",
        "import numpy as np\n",
        "import pandas as pd\n",
        "import scipy as sp\n",
        "from scipy import stats\n",
        "\n",
        "from matplotlib import pyplot as plt\n",
        "import seaborn as sns\n",
        "sns.set()\n",
        "\n",
        "#선형모델 추정하는 라이브러리\n",
        "import statsmodels.formula.api as smf\n",
        "import statsmodels.api as sm\n",
        "\n",
        "%precision 3\n",
        "%matplotlib inline"
      ]
    },
    {
      "cell_type": "markdown",
      "source": [
        "기온과 맥주 매상의 관계"
      ],
      "metadata": {
        "id": "RsUrN3fia6ae"
      }
    },
    {
      "cell_type": "code",
      "source": [
        "beer=pd.read_csv(\"5-1-1-beer.csv\")\n",
        "print(beer.head())"
      ],
      "metadata": {
        "colab": {
          "base_uri": "https://localhost:8080/"
        },
        "id": "s22rqxXvaS8C",
        "outputId": "e3cc1fd0-34a1-423e-de44-189da5b69ba0"
      },
      "execution_count": 2,
      "outputs": [
        {
          "output_type": "stream",
          "name": "stdout",
          "text": [
            "   beer  temperature\n",
            "0  45.3         20.5\n",
            "1  59.3         25.0\n",
            "2  40.4         10.0\n",
            "3  38.0         26.9\n",
            "4  37.0         15.8\n"
          ]
        }
      ]
    },
    {
      "cell_type": "code",
      "source": [
        "sns.jointplot(x=\"temperature\",y=\"beer\", data=beer, color='black')"
      ],
      "metadata": {
        "colab": {
          "base_uri": "https://localhost:8080/",
          "height": 620
        },
        "id": "5ZiU30PEaS5s",
        "outputId": "dd3f54ad-06c6-4d75-8e76-88cba0af6da9"
      },
      "execution_count": 3,
      "outputs": [
        {
          "output_type": "execute_result",
          "data": {
            "text/plain": [
              "<seaborn.axisgrid.JointGrid at 0x79cf500b3010>"
            ]
          },
          "metadata": {},
          "execution_count": 3
        },
        {
          "output_type": "display_data",
          "data": {
            "text/plain": [
              "<Figure size 600x600 with 3 Axes>"
            ],
            "image/png": "[encoded data removed]"
          },
          "metadata": {}
        }
      ]
    },
    {
      "cell_type": "markdown",
      "source": [
        "ols: 범용최소제곱법 (Ordinary Least Squares)"
      ],
      "metadata": {
        "id": "aVJDAWakcFzI"
      }
    },
    {
      "cell_type": "code",
      "source": [
        "lm_model=smf.ols(formula=\"beer~temperature\",data=beer).fit()\n",
        "lm_model.summary()"
      ],
      "metadata": {
        "colab": {
          "base_uri": "https://localhost:8080/",
          "height": 451
        },
        "id": "ddFaji13aSsG",
        "outputId": "5c2364e8-47c1-484b-b395-529e8f56e0af"
      },
      "execution_count": 5,
      "outputs": [
        {
          "output_type": "execute_result",
          "data": {
            "text/plain": [
              "<class 'statsmodels.iolib.summary.Summary'>\n",
              "\"\"\"\n",
              "                            OLS Regression Results                            \n",
              "==============================================================================\n",
              "Dep. Variable:                   beer   R-squared:                       0.504\n",
              "Model:                            OLS   Adj. R-squared:                  0.486\n",
              "Method:                 Least Squares   F-statistic:                     28.45\n",
              "Date:                Thu, 07 Dec 2023   Prob (F-statistic):           1.11e-05\n",
              "Time:                        04:00:58   Log-Likelihood:                -102.45\n",
              "No. Observations:                  30   AIC:                             208.9\n",
              "Df Residuals:                      28   BIC:                             211.7\n",
              "Df Model:                           1                                         \n",
              "Covariance Type:            nonrobust                                         \n",
              "===============================================================================\n",
              "                  coef    std err          t      P>|t|      [0.025      0.975]\n",
              "-------------------------------------------------------------------------------\n",
              "Intercept      34.6102      3.235     10.699      0.000      27.984      41.237\n",
              "temperature     0.7654      0.144      5.334      0.000       0.471       1.059\n",
              "==============================================================================\n",
              "Omnibus:                        0.587   Durbin-Watson:                   1.960\n",
              "Prob(Omnibus):                  0.746   Jarque-Bera (JB):                0.290\n",
              "Skew:                          -0.240   Prob(JB):                        0.865\n",
              "Kurtosis:                       2.951   Cond. No.                         52.5\n",
              "==============================================================================\n",
              "\n",
              "Notes:\n",
              "[1] Standard Errors assume that the covariance matrix of the errors is correctly specified.\n",
              "\"\"\""
            ],
            "text/html": [
              "<table class=\"simpletable\">\n",
              "<caption>OLS Regression Results</caption>\n",
              "<tr>\n",
              "  <th>Dep. Variable:</th>          <td>beer</td>       <th>  R-squared:         </th> <td>   0.504</td>\n",
              "</tr>\n",
              "<tr>\n",
              "  <th>Model:</th>                   <td>OLS</td>       <th>  Adj. R-squared:    </th> <td>   0.486</td>\n",
              "</tr>\n",
              "<tr>\n",
              "  <th>Method:</th>             <td>Least Squares</td>  <th>  F-statistic:       </th> <td>   28.45</td>\n",
              "</tr>\n",
              "<tr>\n",
              "  <th>Date:</th>             <td>Thu, 07 Dec 2023</td> <th>  Prob (F-statistic):</th> <td>1.11e-05</td>\n",
              "</tr>\n",
              "<tr>\n",
              "  <th>Time:</th>                 <td>04:00:58</td>     <th>  Log-Likelihood:    </th> <td> -102.45</td>\n",
              "</tr>\n",
              "<tr>\n",
              "  <th>No. Observations:</th>      <td>    30</td>      <th>  AIC:               </th> <td>   208.9</td>\n",
              "</tr>\n",
              "<tr>\n",
              "  <th>Df Residuals:</th>          <td>    28</td>      <th>  BIC:               </th> <td>   211.7</td>\n",
              "</tr>\n",
              "<tr>\n",
              "  <th>Df Model:</th>              <td>     1</td>      <th>                     </th>     <td> </td>   \n",
              "</tr>\n",
              "<tr>\n",
              "  <th>Covariance Type:</th>      <td>nonrobust</td>    <th>                     </th>     <td> </td>   \n",
              "</tr>\n",
              "</table>\n",
              "<table class=\"simpletable\">\n",
              "<tr>\n",
              "       <td></td>          <th>coef</th>     <th>std err</th>      <th>t</th>      <th>P>|t|</th>  <th>[0.025</th>    <th>0.975]</th>  \n",
              "</tr>\n",
              "<tr>\n",
              "  <th>Intercept</th>   <td>   34.6102</td> <td>    3.235</td> <td>   10.699</td> <td> 0.000</td> <td>   27.984</td> <td>   41.237</td>\n",
              "</tr>\n",
              "<tr>\n",
              "  <th>temperature</th> <td>    0.7654</td> <td>    0.144</td> <td>    5.334</td> <td> 0.000</td> <td>    0.471</td> <td>    1.059</td>\n",
              "</tr>\n",
              "</table>\n",
              "<table class=\"simpletable\">\n",
              "<tr>\n",
              "  <th>Omnibus:</th>       <td> 0.587</td> <th>  Durbin-Watson:     </th> <td>   1.960</td>\n",
              "</tr>\n",
              "<tr>\n",
              "  <th>Prob(Omnibus):</th> <td> 0.746</td> <th>  Jarque-Bera (JB):  </th> <td>   0.290</td>\n",
              "</tr>\n",
              "<tr>\n",
              "  <th>Skew:</th>          <td>-0.240</td> <th>  Prob(JB):          </th> <td>   0.865</td>\n",
              "</tr>\n",
              "<tr>\n",
              "  <th>Kurtosis:</th>      <td> 2.951</td> <th>  Cond. No.          </th> <td>    52.5</td>\n",
              "</tr>\n",
              "</table><br/><br/>Notes:<br/>[1] Standard Errors assume that the covariance matrix of the errors is correctly specified."
            ],
            "text/latex": "\\begin{center}\n\\begin{tabular}{lclc}\n\\toprule\n\\textbf{Dep. Variable:}    &       beer       & \\textbf{  R-squared:         } &     0.504   \\\\\n\\textbf{Model:}            &       OLS        & \\textbf{  Adj. R-squared:    } &     0.486   \\\\\n\\textbf{Method:}           &  Least Squares   & \\textbf{  F-statistic:       } &     28.45   \\\\\n\\textbf{Date:}             & Thu, 07 Dec 2023 & \\textbf{  Prob (F-statistic):} &  1.11e-05   \\\\\n\\textbf{Time:}             &     04:00:58     & \\textbf{  Log-Likelihood:    } &   -102.45   \\\\\n\\textbf{No. Observations:} &          30      & \\textbf{  AIC:               } &     208.9   \\\\\n\\textbf{Df Residuals:}     &          28      & \\textbf{  BIC:               } &     211.7   \\\\\n\\textbf{Df Model:}         &           1      & \\textbf{                     } &             \\\\\n\\textbf{Covariance Type:}  &    nonrobust     & \\textbf{                     } &             \\\\\n\\bottomrule\n\\end{tabular}\n\\begin{tabular}{lcccccc}\n                     & \\textbf{coef} & \\textbf{std err} & \\textbf{t} & \\textbf{P$> |$t$|$} & \\textbf{[0.025} & \\textbf{0.975]}  \\\\\n\\midrule\n\\textbf{Intercept}   &      34.6102  &        3.235     &    10.699  &         0.000        &       27.984    &       41.237     \\\\\n\\textbf{temperature} &       0.7654  &        0.144     &     5.334  &         0.000        &        0.471    &        1.059     \\\\\n\\bottomrule\n\\end{tabular}\n\\begin{tabular}{lclc}\n\\textbf{Omnibus:}       &  0.587 & \\textbf{  Durbin-Watson:     } &    1.960  \\\\\n\\textbf{Prob(Omnibus):} &  0.746 & \\textbf{  Jarque-Bera (JB):  } &    0.290  \\\\\n\\textbf{Skew:}          & -0.240 & \\textbf{  Prob(JB):          } &    0.865  \\\\\n\\textbf{Kurtosis:}      &  2.951 & \\textbf{  Cond. No.          } &     52.5  \\\\\n\\bottomrule\n\\end{tabular}\n%\\caption{OLS Regression Results}\n\\end{center}\n\nNotes: \\newline\n [1] Standard Errors assume that the covariance matrix of the errors is correctly specified."
          },
          "metadata": {},
          "execution_count": 5
        }
      ]
    },
    {
      "cell_type": "markdown",
      "source": [
        "왼쪽부터 상관계수(기울기), 표준오차, t값, 귀무가설을 '계수의 값이 0'이라고 했을 때의 p값, 95%신뢰구간에서 하측신뢰한계, 상측신뢰한계\n",
        "\n",
        "기온에 대한 계숫값이 0.7654로 양수이므로 기온이 오르면 맥주매상 오름"
      ],
      "metadata": {
        "id": "n7MbL73fcv0-"
      }
    },
    {
      "cell_type": "markdown",
      "source": [
        "**AIC를 이용한 모델 선택**\n",
        "\n",
        "독립변수가 1개이므로 NULL 모델의 AIC와 독립변수 모델 AIC 비교\n",
        "\n",
        "독립변수 모델의 AIC가 더 작다면 채택"
      ],
      "metadata": {
        "id": "3hFSUc5beN3I"
      }
    },
    {
      "cell_type": "code",
      "source": [
        "null_model=smf.ols(\"beer~1\",data=beer).fit()"
      ],
      "metadata": {
        "id": "vP-9CEB8aSpo"
      },
      "execution_count": 6,
      "outputs": []
    },
    {
      "cell_type": "code",
      "source": [
        "null_model.aic"
      ],
      "metadata": {
        "colab": {
          "base_uri": "https://localhost:8080/"
        },
        "id": "heiggwRqaSm4",
        "outputId": "0a235199-e8b5-4ec5-f36a-12b95a4d2e29"
      },
      "execution_count": 8,
      "outputs": [
        {
          "output_type": "execute_result",
          "data": {
            "text/plain": [
              "227.94194972563105"
            ]
          },
          "metadata": {},
          "execution_count": 8
        }
      ]
    },
    {
      "cell_type": "code",
      "source": [
        "lm_model.aic"
      ],
      "metadata": {
        "colab": {
          "base_uri": "https://localhost:8080/"
        },
        "id": "kAdmnV2ChHqM",
        "outputId": "cbe56617-b5a6-4fd6-a152-08f415bd3560"
      },
      "execution_count": 10,
      "outputs": [
        {
          "output_type": "execute_result",
          "data": {
            "text/plain": [
              "208.90902935575437"
            ]
          },
          "metadata": {},
          "execution_count": 10
        }
      ]
    },
    {
      "cell_type": "markdown",
      "source": [
        "독립변수 있는 모델이 AIC가 더 작으므로 기온이라는 독립변수가 있는 쪽이 예측정확도가 높아지는 것이 아닐까 추측 가능"
      ],
      "metadata": {
        "id": "uNGRoOp2hVgU"
      }
    },
    {
      "cell_type": "markdown",
      "source": [
        "AIC = -2 * (최대로그우도 - 추정된 파라미터 수)"
      ],
      "metadata": {
        "id": "-DB-bimbh3mp"
      }
    },
    {
      "cell_type": "code",
      "source": [
        "lm_model.llf #로그우도"
      ],
      "metadata": {
        "colab": {
          "base_uri": "https://localhost:8080/"
        },
        "id": "ZTtB4-JdhMnX",
        "outputId": "ca05c8b1-302f-4f93-be9a-a8e4044bc774"
      },
      "execution_count": 11,
      "outputs": [
        {
          "output_type": "execute_result",
          "data": {
            "text/plain": [
              "-102.45451467787719"
            ]
          },
          "metadata": {},
          "execution_count": 11
        }
      ]
    },
    {
      "cell_type": "code",
      "source": [
        "lm_model.df_model #사용된 독립변수의 수"
      ],
      "metadata": {
        "colab": {
          "base_uri": "https://localhost:8080/"
        },
        "id": "XCkWYSywh0NV",
        "outputId": "36b17371-ab07-4eef-ac13-375ecb9d8ae6"
      },
      "execution_count": 12,
      "outputs": [
        {
          "output_type": "execute_result",
          "data": {
            "text/plain": [
              "1.000"
            ]
          },
          "metadata": {},
          "execution_count": 12
        }
      ]
    },
    {
      "cell_type": "code",
      "source": [
        "-2*(lm_model.llf-(lm_model.df_model+1)) #추정된 파라미터 수= 독립변수 수 + 절편"
      ],
      "metadata": {
        "colab": {
          "base_uri": "https://localhost:8080/"
        },
        "id": "iD1yZuI8h0K_",
        "outputId": "3ec7d216-fee1-4e90-8c4d-301ffbb83c27"
      },
      "execution_count": 13,
      "outputs": [
        {
          "output_type": "execute_result",
          "data": {
            "text/plain": [
              "208.90902935575437"
            ]
          },
          "metadata": {},
          "execution_count": 13
        }
      ]
    },
    {
      "cell_type": "markdown",
      "source": [
        "**회귀직선**: 모델에 의한 종속변수의 추측값을 직선으로 표시"
      ],
      "metadata": {
        "id": "jiKckGNIjNFM"
      }
    },
    {
      "cell_type": "code",
      "source": [
        "sns.lmplot(x=\"temperature\",y=\"beer\", data=beer,\n",
        "           scatter_kws={\"color\":\"black\"}, #산포도 디자인\n",
        "           line_kws={\"color\":\"black\"}) #회귀직선 디자인"
      ],
      "metadata": {
        "colab": {
          "base_uri": "https://localhost:8080/",
          "height": 519
        },
        "id": "jaPK42W-iNcZ",
        "outputId": "0b01a172-21e0-48f0-f1ba-35119a27c757"
      },
      "execution_count": 14,
      "outputs": [
        {
          "output_type": "execute_result",
          "data": {
            "text/plain": [
              "<seaborn.axisgrid.FacetGrid at 0x79cf4deabd30>"
            ]
          },
          "metadata": {},
          "execution_count": 14
        },
        {
          "output_type": "display_data",
          "data": {
            "text/plain": [
              "<Figure size 500x500 with 1 Axes>"
            ],
            "image/png": "[encoded data removed]"
          },
          "metadata": {}
        }
      ]
    },
    {
      "cell_type": "markdown",
      "source": [
        "음영부분은 95% 신뢰구간 의미"
      ],
      "metadata": {
        "id": "TA10k6vtj2_T"
      }
    },
    {
      "cell_type": "markdown",
      "source": [
        "모델을 이용한 예측"
      ],
      "metadata": {
        "id": "Y0UJveZkn5Mc"
      }
    },
    {
      "cell_type": "code",
      "source": [
        "#아무 입력 안하면 훈련 데이터 그대로 나옴\n",
        "lm_model.predict()"
      ],
      "metadata": {
        "colab": {
          "base_uri": "https://localhost:8080/"
        },
        "id": "wBjCRZB1jWk1",
        "outputId": "60ce72d7-8763-4609-fef2-6a26cfa3ae43"
      },
      "execution_count": 15,
      "outputs": [
        {
          "output_type": "execute_result",
          "data": {
            "text/plain": [
              "array([50.301, 53.746, 42.264, 55.2  , 46.704, 37.825, 44.943, 54.511,\n",
              "       52.445, 41.116, 54.664, 49.23 , 53.21 , 52.445, 41.04 , 52.598,\n",
              "       45.25 , 61.783, 55.43 , 50.301, 42.418, 50.301, 51.143, 40.657,\n",
              "       66.911, 52.904, 62.854, 41.423, 62.472, 39.509])"
            ]
          },
          "metadata": {},
          "execution_count": 15
        }
      ]
    },
    {
      "cell_type": "code",
      "source": [
        "#기온이 0일 때의 맥주 매상 기댓값\n",
        "lm_model.predict(pd.DataFrame({\"temperature\":[0]}))"
      ],
      "metadata": {
        "colab": {
          "base_uri": "https://localhost:8080/"
        },
        "id": "9vaus_bzjWic",
        "outputId": "07506a13-bd72-4edd-c26d-5373ad05dfa3"
      },
      "execution_count": 16,
      "outputs": [
        {
          "output_type": "execute_result",
          "data": {
            "text/plain": [
              "0    34.610215\n",
              "dtype: float64"
            ]
          },
          "metadata": {},
          "execution_count": 16
        }
      ]
    },
    {
      "cell_type": "code",
      "source": [
        "lm_model.params"
      ],
      "metadata": {
        "colab": {
          "base_uri": "https://localhost:8080/"
        },
        "id": "-rvoAKUNjWgQ",
        "outputId": "4eee221c-fa61-4c3e-ec5f-b41de3f0bb6c"
      },
      "execution_count": 17,
      "outputs": [
        {
          "output_type": "execute_result",
          "data": {
            "text/plain": [
              "Intercept      34.610215\n",
              "temperature     0.765428\n",
              "dtype: float64"
            ]
          },
          "metadata": {},
          "execution_count": 17
        }
      ]
    },
    {
      "cell_type": "code",
      "source": [
        "lm_model.predict(pd.DataFrame({\"temperature\":[20]}))"
      ],
      "metadata": {
        "colab": {
          "base_uri": "https://localhost:8080/"
        },
        "id": "Z8FF-YQGohtr",
        "outputId": "dccd66da-c9ff-4cc4-f180-f4b584919756"
      },
      "execution_count": 18,
      "outputs": [
        {
          "output_type": "execute_result",
          "data": {
            "text/plain": [
              "0    49.918767\n",
              "dtype: float64"
            ]
          },
          "metadata": {},
          "execution_count": 18
        }
      ]
    },
    {
      "cell_type": "markdown",
      "source": [
        "**잔차 계산**: 모델의 평가 방법\n",
        "\n",
        "정규선형모델은 잔차가 \"평균이 0인 정규분포\" 따르는 것이므로 모델이 그 분포를 따르고 있는지 체크해야"
      ],
      "metadata": {
        "id": "4EZEzLvPovNH"
      }
    },
    {
      "cell_type": "code",
      "source": [
        "resid=lm_model.resid\n",
        "resid.head(3)"
      ],
      "metadata": {
        "colab": {
          "base_uri": "https://localhost:8080/"
        },
        "id": "VVxDOis7oq5h",
        "outputId": "07d6d4ae-c870-441a-a544-2bbdc709ea61"
      },
      "execution_count": 19,
      "outputs": [
        {
          "output_type": "execute_result",
          "data": {
            "text/plain": [
              "0   -5.001481\n",
              "1    5.554095\n",
              "2   -1.864491\n",
              "dtype: float64"
            ]
          },
          "metadata": {},
          "execution_count": 19
        }
      ]
    },
    {
      "cell_type": "markdown",
      "source": [
        "**결정계수(R^2)**: 가지고 있는 데이터에 대해 모델을 적용했을 때 적합도 평가한 지표\n",
        "\n",
        "추측치가 실젯값과 같으면 1"
      ],
      "metadata": {
        "id": "s5d5ZOmQsFb2"
      }
    },
    {
      "cell_type": "code",
      "source": [
        "mu=sp.mean(beer.beer)\n",
        "y=beer.beer\n",
        "yhat=lm_model.predict()\n",
        "\n",
        "sp.sum((yhat-mu)**2)/sp.sum((y-mu)**2)"
      ],
      "metadata": {
        "colab": {
          "base_uri": "https://localhost:8080/"
        },
        "id": "jI97YjW6rzeQ",
        "outputId": "1555ab1d-b8c8-49e8-c927-2ea05bdcee45"
      },
      "execution_count": 20,
      "outputs": [
        {
          "output_type": "execute_result",
          "data": {
            "text/plain": [
              "0.5039593230611875"
            ]
          },
          "metadata": {},
          "execution_count": 20
        }
      ]
    },
    {
      "cell_type": "code",
      "source": [
        "lm_model.rsquared"
      ],
      "metadata": {
        "colab": {
          "base_uri": "https://localhost:8080/"
        },
        "id": "zbAMe-hCsnuQ",
        "outputId": "75eebe68-0059-4193-da06-148cbc743294"
      },
      "execution_count": 21,
      "outputs": [
        {
          "output_type": "execute_result",
          "data": {
            "text/plain": [
              "0.5039593230611858"
            ]
          },
          "metadata": {},
          "execution_count": 21
        }
      ]
    },
    {
      "cell_type": "markdown",
      "source": [
        "수정된 결정계수\n",
        "\n",
        "독립변수의 수가 늘어나는 것에 대해 페널티 적용한 결정계수 (독립변수가 늘어날수록 큰값이 되어 과학습 유발)"
      ],
      "metadata": {
        "id": "_RkyMHNStG3R"
      }
    },
    {
      "cell_type": "code",
      "source": [
        "lm_model.rsquared_adj"
      ],
      "metadata": {
        "colab": {
          "base_uri": "https://localhost:8080/"
        },
        "id": "TGjQZoCtszmZ",
        "outputId": "9d41957a-2fb4-4d08-f89b-e11a967b7cd0"
      },
      "execution_count": 22,
      "outputs": [
        {
          "output_type": "execute_result",
          "data": {
            "text/plain": [
              "0.48624358459908534"
            ]
          },
          "metadata": {},
          "execution_count": 22
        }
      ]
    },
    {
      "cell_type": "code",
      "source": [
        "sns.distplot(resid, color='black')"
      ],
      "metadata": {
        "colab": {
          "base_uri": "https://localhost:8080/",
          "height": 457
        },
        "id": "vVUakLvptZNe",
        "outputId": "51f8bacb-aee0-49e9-9416-79122b49add6"
      },
      "execution_count": 23,
      "outputs": [
        {
          "output_type": "execute_result",
          "data": {
            "text/plain": [
              "<Axes: ylabel='Density'>"
            ]
          },
          "metadata": {},
          "execution_count": 23
        },
        {
          "output_type": "display_data",
          "data": {
            "text/plain": [
              "<Figure size 640x480 with 1 Axes>"
            ],
            "image/png": "[encoded data removed]"
          },
          "metadata": {}
        }
      ]
    },
    {
      "cell_type": "markdown",
      "source": [
        "**Q-Q 플롯**\n",
        "\n",
        "이론상의 분위점과 실제 데이터의 분위점을 산포도 그래프로 그린 것"
      ],
      "metadata": {
        "id": "ijZb5XZ9vzAa"
      }
    },
    {
      "cell_type": "code",
      "source": [
        "fig=sm.qqplot(resid, line=\"s\")"
      ],
      "metadata": {
        "colab": {
          "base_uri": "https://localhost:8080/",
          "height": 458
        },
        "id": "65_ncMAkuDQp",
        "outputId": "ebc0ef2a-efe4-4424-cdad-64de04f60f6d"
      },
      "execution_count": 25,
      "outputs": [
        {
          "output_type": "display_data",
          "data": {
            "text/plain": [
              "<Figure size 640x480 with 1 Axes>"
            ],
            "image/png": "[encoded data removed]"
          },
          "metadata": {}
        }
      ]
    },
    {
      "cell_type": "markdown",
      "source": [
        "Q-Q 플롯 직접 만들어보기"
      ],
      "metadata": {
        "id": "YGP2RjyOwtCS"
      }
    },
    {
      "cell_type": "code",
      "source": [
        "resid_sort=resid.sort_values()\n",
        "resid_sort.head()"
      ],
      "metadata": {
        "colab": {
          "base_uri": "https://localhost:8080/"
        },
        "id": "Qnf9bcWruMKS",
        "outputId": "9c64696f-4e26-4294-9087-a21fd0f2900c"
      },
      "execution_count": 26,
      "outputs": [
        {
          "output_type": "execute_result",
          "data": {
            "text/plain": [
              "3    -17.200217\n",
              "21   -14.501481\n",
              "12    -9.710106\n",
              "4     -9.703971\n",
              "10    -7.664418\n",
              "dtype: float64"
            ]
          },
          "metadata": {},
          "execution_count": 26
        }
      ]
    },
    {
      "cell_type": "code",
      "source": [
        "1/31"
      ],
      "metadata": {
        "colab": {
          "base_uri": "https://localhost:8080/"
        },
        "id": "PBIvvxMmw2DD",
        "outputId": "b5b973aa-33da-49be-f92a-113a256e1414"
      },
      "execution_count": 27,
      "outputs": [
        {
          "output_type": "execute_result",
          "data": {
            "text/plain": [
              "0.032"
            ]
          },
          "metadata": {},
          "execution_count": 27
        }
      ]
    },
    {
      "cell_type": "code",
      "source": [
        "nobs=len(resid_sort)\n",
        "cdf=np.arange(1,nobs+1)/(nobs+1)\n",
        "cdf"
      ],
      "metadata": {
        "colab": {
          "base_uri": "https://localhost:8080/"
        },
        "id": "XXR_HYFMw6Hi",
        "outputId": "074b2e25-3683-4248-bea5-572ebf7ccf29"
      },
      "execution_count": 28,
      "outputs": [
        {
          "output_type": "execute_result",
          "data": {
            "text/plain": [
              "array([0.032, 0.065, 0.097, 0.129, 0.161, 0.194, 0.226, 0.258, 0.29 ,\n",
              "       0.323, 0.355, 0.387, 0.419, 0.452, 0.484, 0.516, 0.548, 0.581,\n",
              "       0.613, 0.645, 0.677, 0.71 , 0.742, 0.774, 0.806, 0.839, 0.871,\n",
              "       0.903, 0.935, 0.968])"
            ]
          },
          "metadata": {},
          "execution_count": 28
        }
      ]
    },
    {
      "cell_type": "code",
      "source": [
        "ppf=stats.norm.ppf(cdf)\n",
        "ppf"
      ],
      "metadata": {
        "colab": {
          "base_uri": "https://localhost:8080/"
        },
        "id": "PlpshewMxEIk",
        "outputId": "b0abb678-54dd-46a9-a16a-9daf2a83f5d9"
      },
      "execution_count": 29,
      "outputs": [
        {
          "output_type": "execute_result",
          "data": {
            "text/plain": [
              "array([-1.849, -1.518, -1.3  , -1.131, -0.989, -0.865, -0.753, -0.649,\n",
              "       -0.552, -0.46 , -0.372, -0.287, -0.204, -0.122, -0.04 ,  0.04 ,\n",
              "        0.122,  0.204,  0.287,  0.372,  0.46 ,  0.552,  0.649,  0.753,\n",
              "        0.865,  0.989,  1.131,  1.3  ,  1.518,  1.849])"
            ]
          },
          "metadata": {},
          "execution_count": 29
        }
      ]
    },
    {
      "cell_type": "code",
      "source": [],
      "metadata": {
        "id": "zV91KvlxxLFO"
      },
      "execution_count": null,
      "outputs": []
    }
  ]
}