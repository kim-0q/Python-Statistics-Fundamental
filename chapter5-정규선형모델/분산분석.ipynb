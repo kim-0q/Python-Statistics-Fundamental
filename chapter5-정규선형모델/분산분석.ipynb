{
  "nbformat": 4,
  "nbformat_minor": 0,
  "metadata": {
    "colab": {
      "provenance": []
    },
    "kernelspec": {
      "name": "python3",
      "display_name": "Python 3"
    },
    "language_info": {
      "name": "python"
    }
  },
  "cells": [
    {
      "cell_type": "markdown",
      "source": [
        "##분산분석\n",
        "\n",
        " - 독립변수가 카테고리형 변수인 정규선형 모델(송사리, 잉어..)\n",
        " - 일원배치 분산분석: 3개 이상 집단으로 구성된 1개 독립변수\n",
        " - 평균값의 차이 검정(t검정은 검정의 다중성 발생, F비로 계산)"
      ],
      "metadata": {
        "id": "I1kTqZlo7Fu5"
      }
    },
    {
      "cell_type": "code",
      "execution_count": 3,
      "metadata": {
        "id": "RIrI4LMx3oV7"
      },
      "outputs": [],
      "source": [
        "import warnings\n",
        "warnings.filterwarnings(action='ignore')\n",
        "\n",
        "import numpy as np\n",
        "import pandas as pd\n",
        "import scipy as sp\n",
        "from scipy import stats\n",
        "\n",
        "from matplotlib import pyplot as plt\n",
        "import seaborn as sns\n",
        "sns.set()\n",
        "\n",
        "import statsmodels.formula.api as smf\n",
        "import statsmodels.api as sm\n",
        "\n",
        "%precision 3\n",
        "%matplotlib inline"
      ]
    },
    {
      "cell_type": "code",
      "source": [
        "weather=[\"cloudy\",\"cloudy\",\"rainy\",\"rainy\",\"sunny\",\"sunny\"]\n",
        "beer=[6,8,2,4,10,12]\n",
        "\n",
        "weather_beer=pd.DataFrame({\n",
        "    \"beer\":beer,\n",
        "    \"weather\":weather\n",
        "})\n",
        "print(weather_beer)"
      ],
      "metadata": {
        "id": "MnOfjuBi7iCm",
        "colab": {
          "base_uri": "https://localhost:8080/"
        },
        "outputId": "0d56d4ff-ef8b-4ab5-f2fd-0db00e2346d6"
      },
      "execution_count": 4,
      "outputs": [
        {
          "output_type": "stream",
          "name": "stdout",
          "text": [
            "   beer weather\n",
            "0     6  cloudy\n",
            "1     8  cloudy\n",
            "2     2   rainy\n",
            "3     4   rainy\n",
            "4    10   sunny\n",
            "5    12   sunny\n"
          ]
        }
      ]
    },
    {
      "cell_type": "code",
      "source": [
        "sns.boxplot(x=\"weather\", y=\"beer\", data=weather_beer, color=\"gray\")"
      ],
      "metadata": {
        "id": "tl0lpk7D7h8j",
        "colab": {
          "base_uri": "https://localhost:8080/",
          "height": 477
        },
        "outputId": "10b5d96a-7111-4fc7-c790-058bd5f062cc"
      },
      "execution_count": 5,
      "outputs": [
        {
          "output_type": "execute_result",
          "data": {
            "text/plain": [
              "<Axes: xlabel='weather', ylabel='beer'>"
            ]
          },
          "metadata": {},
          "execution_count": 5
        },
        {
          "output_type": "display_data",
          "data": {
            "text/plain": [
              "<Figure size 640x480 with 1 Axes>"
            ],
            "image/png": "[encoded data removed]"
          },
          "metadata": {}
        }
      ]
    },
    {
      "cell_type": "code",
      "source": [
        "print(weather_beer.groupby(\"weather\").mean())"
      ],
      "metadata": {
        "id": "PlWII1jW7h5y",
        "colab": {
          "base_uri": "https://localhost:8080/"
        },
        "outputId": "0b799669-8107-4266-bfb8-e5234bbf0814"
      },
      "execution_count": 6,
      "outputs": [
        {
          "output_type": "stream",
          "name": "stdout",
          "text": [
            "         beer\n",
            "weather      \n",
            "cloudy    7.0\n",
            "rainy     3.0\n",
            "sunny    11.0\n"
          ]
        }
      ]
    },
    {
      "cell_type": "markdown",
      "source": [
        "군간 제곱과 군내 제곱 계산"
      ],
      "metadata": {
        "id": "LP0iZyS280ku"
      }
    },
    {
      "cell_type": "code",
      "source": [
        "effect=[7,7,3,3,11,11] #날씨에 의한 영향\n",
        "\n",
        "#군간 제곱합\n",
        "mu_effect=sp.mean(effect)\n",
        "squares_model=sp.sum((effect-mu_effect)**2)\n",
        "squares_model\n",
        "#분산 계산법: 각 데이터에서 평균 빼고 제곱한 걸 모두 더해서 데이터 수로 나눈 것"
      ],
      "metadata": {
        "id": "sFZmvPme7h3c",
        "colab": {
          "base_uri": "https://localhost:8080/"
        },
        "outputId": "39e5f83d-49dc-493d-8b65-7ca02274c3c0"
      },
      "execution_count": 7,
      "outputs": [
        {
          "output_type": "execute_result",
          "data": {
            "text/plain": [
              "64.0"
            ]
          },
          "metadata": {},
          "execution_count": 7
        }
      ]
    },
    {
      "cell_type": "code",
      "source": [
        "resid=weather_beer.beer-effect\n",
        "resid"
      ],
      "metadata": {
        "colab": {
          "base_uri": "https://localhost:8080/"
        },
        "id": "L3YQTADk9PG9",
        "outputId": "229b3c52-9c51-45c2-ac0a-88130f569cd6"
      },
      "execution_count": 8,
      "outputs": [
        {
          "output_type": "execute_result",
          "data": {
            "text/plain": [
              "0   -1\n",
              "1    1\n",
              "2   -1\n",
              "3    1\n",
              "4   -1\n",
              "5    1\n",
              "Name: beer, dtype: int64"
            ]
          },
          "metadata": {},
          "execution_count": 8
        }
      ]
    },
    {
      "cell_type": "code",
      "source": [
        "#군내 제곱합\n",
        "squares_resid=sp.sum(resid**2)\n",
        "squares_resid"
      ],
      "metadata": {
        "colab": {
          "base_uri": "https://localhost:8080/"
        },
        "id": "Kqw5dPXX9XZ7",
        "outputId": "c564ff46-95b5-487a-cda5-98a14f14dfe9"
      },
      "execution_count": 9,
      "outputs": [
        {
          "output_type": "execute_result",
          "data": {
            "text/plain": [
              "6"
            ]
          },
          "metadata": {},
          "execution_count": 9
        }
      ]
    },
    {
      "cell_type": "markdown",
      "source": [
        "군간 분산과 군내 분산 계산"
      ],
      "metadata": {
        "id": "svQ8ClU1-NbI"
      }
    },
    {
      "cell_type": "code",
      "source": [
        "df_model=2 #군간변동의 자유도 (3-1)\n",
        "df_resid=3 #군내변동의 자유도 (샘플사이즈 - 수준 종류 수)"
      ],
      "metadata": {
        "id": "PPJjg5iw9y6H"
      },
      "execution_count": 10,
      "outputs": []
    },
    {
      "cell_type": "code",
      "source": [
        "variance_model=squares_model/df_model\n",
        "variance_model"
      ],
      "metadata": {
        "colab": {
          "base_uri": "https://localhost:8080/"
        },
        "id": "8h2vKtEL-cT3",
        "outputId": "def74ed8-0cb9-48e1-b119-e59a71603d97"
      },
      "execution_count": 11,
      "outputs": [
        {
          "output_type": "execute_result",
          "data": {
            "text/plain": [
              "32.0"
            ]
          },
          "metadata": {},
          "execution_count": 11
        }
      ]
    },
    {
      "cell_type": "code",
      "source": [
        "variance_resid=squares_resid/df_resid\n",
        "variance_resid"
      ],
      "metadata": {
        "colab": {
          "base_uri": "https://localhost:8080/"
        },
        "id": "-wA41Ljd-hym",
        "outputId": "28df75a7-31e5-4106-aef4-eebd2a686f9c"
      },
      "execution_count": 12,
      "outputs": [
        {
          "output_type": "execute_result",
          "data": {
            "text/plain": [
              "2.0"
            ]
          },
          "metadata": {},
          "execution_count": 12
        }
      ]
    },
    {
      "cell_type": "markdown",
      "source": [
        "F비: 군간 분산 / 군내 분산\n",
        "\n",
        "P값: F분포의 누적분포함수에서 계산"
      ],
      "metadata": {
        "id": "WSiSTffG-9FY"
      }
    },
    {
      "cell_type": "code",
      "source": [
        "f_ratio=variance_model/variance_resid\n",
        "f_ratio"
      ],
      "metadata": {
        "colab": {
          "base_uri": "https://localhost:8080/"
        },
        "id": "zvEpqEFM-nzg",
        "outputId": "1199f1e6-3435-41fd-a391-ac85d2ca6b5a"
      },
      "execution_count": 13,
      "outputs": [
        {
          "output_type": "execute_result",
          "data": {
            "text/plain": [
              "16.0"
            ]
          },
          "metadata": {},
          "execution_count": 13
        }
      ]
    },
    {
      "cell_type": "code",
      "source": [
        "1-sp.stats.f.cdf(x=f_ratio, dfn=df_model, dfd=df_resid)"
      ],
      "metadata": {
        "colab": {
          "base_uri": "https://localhost:8080/"
        },
        "id": "K5trijSt-8AA",
        "outputId": "6e636314-b178-411c-c98c-829297c4ed71"
      },
      "execution_count": 14,
      "outputs": [
        {
          "output_type": "execute_result",
          "data": {
            "text/plain": [
              "0.02509457330439091"
            ]
          },
          "metadata": {},
          "execution_count": 14
        }
      ]
    },
    {
      "cell_type": "markdown",
      "source": [
        "독립변수가 카테고리형인 일반선형모델\n",
        "\n",
        "statsmodels를 이용한 분산분석"
      ],
      "metadata": {
        "id": "hHsWyIq7HEMK"
      }
    },
    {
      "cell_type": "code",
      "source": [
        "anova_model=smf.ols(\"beer~weather\", data=weather_beer).fit()"
      ],
      "metadata": {
        "id": "juezxoCL_PaJ"
      },
      "execution_count": 15,
      "outputs": []
    },
    {
      "cell_type": "code",
      "source": [
        "#분산분석표\n",
        "print(sm.stats.anova_lm(anova_model, typ=2))"
      ],
      "metadata": {
        "colab": {
          "base_uri": "https://localhost:8080/"
        },
        "id": "wn2-SDNREwiu",
        "outputId": "e9192bb6-f8b5-4a1b-d16f-d1dd3afdf447"
      },
      "execution_count": 16,
      "outputs": [
        {
          "output_type": "stream",
          "name": "stdout",
          "text": [
            "          sum_sq   df     F    PR(>F)\n",
            "weather     64.0  2.0  16.0  0.025095\n",
            "Residual     6.0  3.0   NaN       NaN\n"
          ]
        }
      ]
    },
    {
      "cell_type": "markdown",
      "source": [
        "군간과 군내의 편차제곱합 / 자유도 / F비 / P값"
      ],
      "metadata": {
        "id": "uaDzdL0sIYS-"
      }
    },
    {
      "cell_type": "markdown",
      "source": [
        "모델의 계수 해석"
      ],
      "metadata": {
        "id": "7vEKZ9DjImID"
      }
    },
    {
      "cell_type": "code",
      "source": [
        "anova_model.params"
      ],
      "metadata": {
        "colab": {
          "base_uri": "https://localhost:8080/"
        },
        "id": "Glb_QJZkEwga",
        "outputId": "533fc19d-2783-4d23-ae04-27ffe70af88c"
      },
      "execution_count": 17,
      "outputs": [
        {
          "output_type": "execute_result",
          "data": {
            "text/plain": [
              "Intercept           7.0\n",
              "weather[T.rainy]   -4.0\n",
              "weather[T.sunny]    4.0\n",
              "dtype: float64"
            ]
          },
          "metadata": {},
          "execution_count": 17
        }
      ]
    },
    {
      "cell_type": "markdown",
      "source": [
        "흐린 날 매상 평균: 7 / 비오는 날: 3(7-4) / 맑은 날: 11(7+4)"
      ],
      "metadata": {
        "id": "sGoI9IVVJK7E"
      }
    },
    {
      "cell_type": "markdown",
      "source": [
        "오차와 효과 분리하기"
      ],
      "metadata": {
        "id": "1mnt3TDHJ1Ok"
      }
    },
    {
      "cell_type": "code",
      "source": [
        "fitted=anova_model.fittedvalues\n",
        "fitted"
      ],
      "metadata": {
        "colab": {
          "base_uri": "https://localhost:8080/"
        },
        "id": "RDo54EkHEwd6",
        "outputId": "10ecb5a7-07af-4bed-8ebf-1319eabd61e8"
      },
      "execution_count": 18,
      "outputs": [
        {
          "output_type": "execute_result",
          "data": {
            "text/plain": [
              "0     7.0\n",
              "1     7.0\n",
              "2     3.0\n",
              "3     3.0\n",
              "4    11.0\n",
              "5    11.0\n",
              "dtype: float64"
            ]
          },
          "metadata": {},
          "execution_count": 18
        }
      ]
    },
    {
      "cell_type": "code",
      "source": [
        "anova_model.resid"
      ],
      "metadata": {
        "colab": {
          "base_uri": "https://localhost:8080/"
        },
        "id": "P0VPs2J9Ewbj",
        "outputId": "652d8429-6787-44ca-e9fa-bbba7c68cf77"
      },
      "execution_count": 19,
      "outputs": [
        {
          "output_type": "execute_result",
          "data": {
            "text/plain": [
              "0   -1.0\n",
              "1    1.0\n",
              "2   -1.0\n",
              "3    1.0\n",
              "4   -1.0\n",
              "5    1.0\n",
              "dtype: float64"
            ]
          },
          "metadata": {},
          "execution_count": 19
        }
      ]
    },
    {
      "cell_type": "markdown",
      "source": [
        "나머진 같으므로 생략"
      ],
      "metadata": {
        "id": "sVVr-EaQKDfw"
      }
    },
    {
      "cell_type": "markdown",
      "source": [
        "회귀모델의 분산분석 (독립변수가 연속형일때 분산분석)"
      ],
      "metadata": {
        "id": "_YHiR4bhKJBV"
      }
    },
    {
      "cell_type": "code",
      "source": [
        "beer=pd.read_csv(\"5-1-1-beer.csv\")\n",
        "lm_model=smf.ols(formula=\"beer~temperature\", data=beer).fit()"
      ],
      "metadata": {
        "id": "hkH7zTGlKBZ-"
      },
      "execution_count": 20,
      "outputs": []
    },
    {
      "cell_type": "code",
      "source": [
        "print(sm.stats.anova_lm(lm_model, typ=2))"
      ],
      "metadata": {
        "colab": {
          "base_uri": "https://localhost:8080/"
        },
        "id": "lAaB3JTLLvHL",
        "outputId": "9bb096a4-4b0c-4288-8d58-6897e3434c86"
      },
      "execution_count": 23,
      "outputs": [
        {
          "output_type": "stream",
          "name": "stdout",
          "text": [
            "                  sum_sq    df          F    PR(>F)\n",
            "temperature  1651.532489   1.0  28.446984  0.000011\n",
            "Residual     1625.582178  28.0        NaN       NaN\n"
          ]
        }
      ]
    },
    {
      "cell_type": "code",
      "source": [
        "lm_model.summary()"
      ],
      "metadata": {
        "colab": {
          "base_uri": "https://localhost:8080/",
          "height": 451
        },
        "id": "ynJNvQa_M_hv",
        "outputId": "63d70655-cd29-4c02-dbe1-0c6c8d9077e8"
      },
      "execution_count": 25,
      "outputs": [
        {
          "output_type": "execute_result",
          "data": {
            "text/plain": [
              "<class 'statsmodels.iolib.summary.Summary'>\n",
              "\"\"\"\n",
              "                            OLS Regression Results                            \n",
              "==============================================================================\n",
              "Dep. Variable:                   beer   R-squared:                       0.504\n",
              "Model:                            OLS   Adj. R-squared:                  0.486\n",
              "Method:                 Least Squares   F-statistic:                     28.45\n",
              "Date:                Sun, 10 Dec 2023   Prob (F-statistic):           1.11e-05\n",
              "Time:                        05:30:43   Log-Likelihood:                -102.45\n",
              "No. Observations:                  30   AIC:                             208.9\n",
              "Df Residuals:                      28   BIC:                             211.7\n",
              "Df Model:                           1                                         \n",
              "Covariance Type:            nonrobust                                         \n",
              "===============================================================================\n",
              "                  coef    std err          t      P>|t|      [0.025      0.975]\n",
              "-------------------------------------------------------------------------------\n",
              "Intercept      34.6102      3.235     10.699      0.000      27.984      41.237\n",
              "temperature     0.7654      0.144      5.334      0.000       0.471       1.059\n",
              "==============================================================================\n",
              "Omnibus:                        0.587   Durbin-Watson:                   1.960\n",
              "Prob(Omnibus):                  0.746   Jarque-Bera (JB):                0.290\n",
              "Skew:                          -0.240   Prob(JB):                        0.865\n",
              "Kurtosis:                       2.951   Cond. No.                         52.5\n",
              "==============================================================================\n",
              "\n",
              "Notes:\n",
              "[1] Standard Errors assume that the covariance matrix of the errors is correctly specified.\n",
              "\"\"\""
            ],
            "text/html": [
              "<table class=\"simpletable\">\n",
              "<caption>OLS Regression Results</caption>\n",
              "<tr>\n",
              "  <th>Dep. Variable:</th>          <td>beer</td>       <th>  R-squared:         </th> <td>   0.504</td>\n",
              "</tr>\n",
              "<tr>\n",
              "  <th>Model:</th>                   <td>OLS</td>       <th>  Adj. R-squared:    </th> <td>   0.486</td>\n",
              "</tr>\n",
              "<tr>\n",
              "  <th>Method:</th>             <td>Least Squares</td>  <th>  F-statistic:       </th> <td>   28.45</td>\n",
              "</tr>\n",
              "<tr>\n",
              "  <th>Date:</th>             <td>Sun, 10 Dec 2023</td> <th>  Prob (F-statistic):</th> <td>1.11e-05</td>\n",
              "</tr>\n",
              "<tr>\n",
              "  <th>Time:</th>                 <td>05:30:43</td>     <th>  Log-Likelihood:    </th> <td> -102.45</td>\n",
              "</tr>\n",
              "<tr>\n",
              "  <th>No. Observations:</th>      <td>    30</td>      <th>  AIC:               </th> <td>   208.9</td>\n",
              "</tr>\n",
              "<tr>\n",
              "  <th>Df Residuals:</th>          <td>    28</td>      <th>  BIC:               </th> <td>   211.7</td>\n",
              "</tr>\n",
              "<tr>\n",
              "  <th>Df Model:</th>              <td>     1</td>      <th>                     </th>     <td> </td>   \n",
              "</tr>\n",
              "<tr>\n",
              "  <th>Covariance Type:</th>      <td>nonrobust</td>    <th>                     </th>     <td> </td>   \n",
              "</tr>\n",
              "</table>\n",
              "<table class=\"simpletable\">\n",
              "<tr>\n",
              "       <td></td>          <th>coef</th>     <th>std err</th>      <th>t</th>      <th>P>|t|</th>  <th>[0.025</th>    <th>0.975]</th>  \n",
              "</tr>\n",
              "<tr>\n",
              "  <th>Intercept</th>   <td>   34.6102</td> <td>    3.235</td> <td>   10.699</td> <td> 0.000</td> <td>   27.984</td> <td>   41.237</td>\n",
              "</tr>\n",
              "<tr>\n",
              "  <th>temperature</th> <td>    0.7654</td> <td>    0.144</td> <td>    5.334</td> <td> 0.000</td> <td>    0.471</td> <td>    1.059</td>\n",
              "</tr>\n",
              "</table>\n",
              "<table class=\"simpletable\">\n",
              "<tr>\n",
              "  <th>Omnibus:</th>       <td> 0.587</td> <th>  Durbin-Watson:     </th> <td>   1.960</td>\n",
              "</tr>\n",
              "<tr>\n",
              "  <th>Prob(Omnibus):</th> <td> 0.746</td> <th>  Jarque-Bera (JB):  </th> <td>   0.290</td>\n",
              "</tr>\n",
              "<tr>\n",
              "  <th>Skew:</th>          <td>-0.240</td> <th>  Prob(JB):          </th> <td>   0.865</td>\n",
              "</tr>\n",
              "<tr>\n",
              "  <th>Kurtosis:</th>      <td> 2.951</td> <th>  Cond. No.          </th> <td>    52.5</td>\n",
              "</tr>\n",
              "</table><br/><br/>Notes:<br/>[1] Standard Errors assume that the covariance matrix of the errors is correctly specified."
            ],
            "text/latex": "\\begin{center}\n\\begin{tabular}{lclc}\n\\toprule\n\\textbf{Dep. Variable:}    &       beer       & \\textbf{  R-squared:         } &     0.504   \\\\\n\\textbf{Model:}            &       OLS        & \\textbf{  Adj. R-squared:    } &     0.486   \\\\\n\\textbf{Method:}           &  Least Squares   & \\textbf{  F-statistic:       } &     28.45   \\\\\n\\textbf{Date:}             & Sun, 10 Dec 2023 & \\textbf{  Prob (F-statistic):} &  1.11e-05   \\\\\n\\textbf{Time:}             &     05:30:43     & \\textbf{  Log-Likelihood:    } &   -102.45   \\\\\n\\textbf{No. Observations:} &          30      & \\textbf{  AIC:               } &     208.9   \\\\\n\\textbf{Df Residuals:}     &          28      & \\textbf{  BIC:               } &     211.7   \\\\\n\\textbf{Df Model:}         &           1      & \\textbf{                     } &             \\\\\n\\textbf{Covariance Type:}  &    nonrobust     & \\textbf{                     } &             \\\\\n\\bottomrule\n\\end{tabular}\n\\begin{tabular}{lcccccc}\n                     & \\textbf{coef} & \\textbf{std err} & \\textbf{t} & \\textbf{P$> |$t$|$} & \\textbf{[0.025} & \\textbf{0.975]}  \\\\\n\\midrule\n\\textbf{Intercept}   &      34.6102  &        3.235     &    10.699  &         0.000        &       27.984    &       41.237     \\\\\n\\textbf{temperature} &       0.7654  &        0.144     &     5.334  &         0.000        &        0.471    &        1.059     \\\\\n\\bottomrule\n\\end{tabular}\n\\begin{tabular}{lclc}\n\\textbf{Omnibus:}       &  0.587 & \\textbf{  Durbin-Watson:     } &    1.960  \\\\\n\\textbf{Prob(Omnibus):} &  0.746 & \\textbf{  Jarque-Bera (JB):  } &    0.290  \\\\\n\\textbf{Skew:}          & -0.240 & \\textbf{  Prob(JB):          } &    0.865  \\\\\n\\textbf{Kurtosis:}      &  2.951 & \\textbf{  Cond. No.          } &     52.5  \\\\\n\\bottomrule\n\\end{tabular}\n%\\caption{OLS Regression Results}\n\\end{center}\n\nNotes: \\newline\n [1] Standard Errors assume that the covariance matrix of the errors is correctly specified."
          },
          "metadata": {},
          "execution_count": 25
        }
      ]
    },
    {
      "cell_type": "markdown",
      "source": [
        "독립변수가 1개인 경우에는 t검정과 분산분석 결과 일치"
      ],
      "metadata": {
        "id": "6T_YTFz0NVN5"
      }
    }
  ]
}