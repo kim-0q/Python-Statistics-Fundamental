{
  "nbformat": 4,
  "nbformat_minor": 0,
  "metadata": {
    "colab": {
      "provenance": []
    },
    "kernelspec": {
      "name": "python3",
      "display_name": "Python 3"
    },
    "language_info": {
      "name": "python"
    }
  },
  "cells": [
    {
      "cell_type": "markdown",
      "source": [
        "##포아송 회귀\n",
        "\n",
        "-> 확률분포에 포아송 분포, 링크함수에 로그함수 사용한 일반선형모델"
      ],
      "metadata": {
        "id": "qWaEUcCboPz7"
      }
    },
    {
      "cell_type": "code",
      "execution_count": 2,
      "metadata": {
        "id": "VDjgjiFRn_z2"
      },
      "outputs": [],
      "source": [
        "import warnings\n",
        "warnings.filterwarnings(action='ignore')\n",
        "\n",
        "import numpy as np\n",
        "import pandas as pd\n",
        "import scipy as sp\n",
        "from scipy import stats\n",
        "\n",
        "from matplotlib import pyplot as plt\n",
        "import seaborn as sns\n",
        "sns.set()\n",
        "\n",
        "import statsmodels.formula.api as smf\n",
        "import statsmodels.api as sm\n",
        "\n",
        "%precision 3\n",
        "%matplotlib inline"
      ]
    },
    {
      "cell_type": "code",
      "source": [
        "beer=pd.read_csv(\"6-5-1-poisson-regression.csv\")\n",
        "print(beer.head(3))"
      ],
      "metadata": {
        "colab": {
          "base_uri": "https://localhost:8080/"
        },
        "id": "GqTRNAtXo800",
        "outputId": "0f507b7e-3e72-4c4b-ccdc-8a7a4a1f9328"
      },
      "execution_count": 3,
      "outputs": [
        {
          "output_type": "stream",
          "name": "stdout",
          "text": [
            "   beer_number  temperature\n",
            "0            6         17.5\n",
            "1           11         26.6\n",
            "2            2          5.0\n"
          ]
        }
      ]
    },
    {
      "cell_type": "code",
      "source": [
        "mod_pois=smf.glm(\"beer_number~temperature\",beer, family=sm.families.Poisson()).fit()\n",
        "mod_pois.summary()"
      ],
      "metadata": {
        "colab": {
          "base_uri": "https://localhost:8080/",
          "height": 295
        },
        "id": "b5OGfNP1o8x4",
        "outputId": "80be5de2-56dc-47e2-c127-3daaf8388aa8"
      },
      "execution_count": 4,
      "outputs": [
        {
          "output_type": "execute_result",
          "data": {
            "text/plain": [
              "<class 'statsmodels.iolib.summary.Summary'>\n",
              "\"\"\"\n",
              "                 Generalized Linear Model Regression Results                  \n",
              "==============================================================================\n",
              "Dep. Variable:            beer_number   No. Observations:                   30\n",
              "Model:                            GLM   Df Residuals:                       28\n",
              "Model Family:                 Poisson   Df Model:                            1\n",
              "Link Function:                    Log   Scale:                          1.0000\n",
              "Method:                          IRLS   Log-Likelihood:                -57.672\n",
              "Date:                Tue, 12 Dec 2023   Deviance:                       5.1373\n",
              "Time:                        01:31:33   Pearson chi2:                     5.40\n",
              "No. Iterations:                     4   Pseudo R-squ. (CS):             0.9708\n",
              "Covariance Type:            nonrobust                                         \n",
              "===============================================================================\n",
              "                  coef    std err          z      P>|z|      [0.025      0.975]\n",
              "-------------------------------------------------------------------------------\n",
              "Intercept       0.4476      0.199      2.253      0.024       0.058       0.837\n",
              "temperature     0.0761      0.008      9.784      0.000       0.061       0.091\n",
              "===============================================================================\n",
              "\"\"\""
            ],
            "text/html": [
              "<table class=\"simpletable\">\n",
              "<caption>Generalized Linear Model Regression Results</caption>\n",
              "<tr>\n",
              "  <th>Dep. Variable:</th>      <td>beer_number</td>   <th>  No. Observations:  </th>  <td>    30</td> \n",
              "</tr>\n",
              "<tr>\n",
              "  <th>Model:</th>                  <td>GLM</td>       <th>  Df Residuals:      </th>  <td>    28</td> \n",
              "</tr>\n",
              "<tr>\n",
              "  <th>Model Family:</th>         <td>Poisson</td>     <th>  Df Model:          </th>  <td>     1</td> \n",
              "</tr>\n",
              "<tr>\n",
              "  <th>Link Function:</th>          <td>Log</td>       <th>  Scale:             </th> <td>  1.0000</td>\n",
              "</tr>\n",
              "<tr>\n",
              "  <th>Method:</th>                <td>IRLS</td>       <th>  Log-Likelihood:    </th> <td> -57.672</td>\n",
              "</tr>\n",
              "<tr>\n",
              "  <th>Date:</th>            <td>Tue, 12 Dec 2023</td> <th>  Deviance:          </th> <td>  5.1373</td>\n",
              "</tr>\n",
              "<tr>\n",
              "  <th>Time:</th>                <td>01:31:33</td>     <th>  Pearson chi2:      </th>  <td>  5.40</td> \n",
              "</tr>\n",
              "<tr>\n",
              "  <th>No. Iterations:</th>          <td>4</td>        <th>  Pseudo R-squ. (CS):</th>  <td>0.9708</td> \n",
              "</tr>\n",
              "<tr>\n",
              "  <th>Covariance Type:</th>     <td>nonrobust</td>    <th>                     </th>     <td> </td>   \n",
              "</tr>\n",
              "</table>\n",
              "<table class=\"simpletable\">\n",
              "<tr>\n",
              "       <td></td>          <th>coef</th>     <th>std err</th>      <th>z</th>      <th>P>|z|</th>  <th>[0.025</th>    <th>0.975]</th>  \n",
              "</tr>\n",
              "<tr>\n",
              "  <th>Intercept</th>   <td>    0.4476</td> <td>    0.199</td> <td>    2.253</td> <td> 0.024</td> <td>    0.058</td> <td>    0.837</td>\n",
              "</tr>\n",
              "<tr>\n",
              "  <th>temperature</th> <td>    0.0761</td> <td>    0.008</td> <td>    9.784</td> <td> 0.000</td> <td>    0.061</td> <td>    0.091</td>\n",
              "</tr>\n",
              "</table>"
            ],
            "text/latex": "\\begin{center}\n\\begin{tabular}{lclc}\n\\toprule\n\\textbf{Dep. Variable:}   &   beer\\_number   & \\textbf{  No. Observations:  } &       30    \\\\\n\\textbf{Model:}           &       GLM        & \\textbf{  Df Residuals:      } &       28    \\\\\n\\textbf{Model Family:}    &     Poisson      & \\textbf{  Df Model:          } &        1    \\\\\n\\textbf{Link Function:}   &       Log        & \\textbf{  Scale:             } &    1.0000   \\\\\n\\textbf{Method:}          &       IRLS       & \\textbf{  Log-Likelihood:    } &   -57.672   \\\\\n\\textbf{Date:}            & Tue, 12 Dec 2023 & \\textbf{  Deviance:          } &    5.1373   \\\\\n\\textbf{Time:}            &     01:31:33     & \\textbf{  Pearson chi2:      } &     5.40    \\\\\n\\textbf{No. Iterations:}  &        4         & \\textbf{  Pseudo R-squ. (CS):} &   0.9708    \\\\\n\\textbf{Covariance Type:} &    nonrobust     & \\textbf{                     } &             \\\\\n\\bottomrule\n\\end{tabular}\n\\begin{tabular}{lcccccc}\n                     & \\textbf{coef} & \\textbf{std err} & \\textbf{z} & \\textbf{P$> |$z$|$} & \\textbf{[0.025} & \\textbf{0.975]}  \\\\\n\\midrule\n\\textbf{Intercept}   &       0.4476  &        0.199     &     2.253  &         0.024        &        0.058    &        0.837     \\\\\n\\textbf{temperature} &       0.0761  &        0.008     &     9.784  &         0.000        &        0.061    &        0.091     \\\\\n\\bottomrule\n\\end{tabular}\n%\\caption{Generalized Linear Model Regression Results}\n\\end{center}"
          },
          "metadata": {},
          "execution_count": 4
        }
      ]
    },
    {
      "cell_type": "markdown",
      "source": [
        "-> 기온이 오르면 판매 개수도 증가할 것으로 보임"
      ],
      "metadata": {
        "id": "QzX9SKiMqJ_z"
      }
    },
    {
      "cell_type": "markdown",
      "source": [
        "모델 선택"
      ],
      "metadata": {
        "id": "q4jJDycMqPuJ"
      }
    },
    {
      "cell_type": "code",
      "source": [
        "mod_pois_null=smf.glm(\"beer_number~1\",data=beer, family=sm.families.Poisson()).fit()"
      ],
      "metadata": {
        "id": "y6CUDtx_prZc"
      },
      "execution_count": 5,
      "outputs": []
    },
    {
      "cell_type": "code",
      "source": [
        "print(\"NULL 모델: \",mod_pois_null.aic.round(3))\n",
        "print(\"변수가 있는 모델: \",mod_pois.aic.round(3))"
      ],
      "metadata": {
        "colab": {
          "base_uri": "https://localhost:8080/"
        },
        "id": "qZc6limbqZ3l",
        "outputId": "1bd9e07f-46e5-4ade-8600-5b8eb192afe0"
      },
      "execution_count": 6,
      "outputs": [
        {
          "output_type": "stream",
          "name": "stdout",
          "text": [
            "NULL 모델:  223.363\n",
            "변수가 있는 모델:  119.343\n"
          ]
        }
      ]
    },
    {
      "cell_type": "markdown",
      "source": [
        "기온 독립변수가 필요하다는 의미"
      ],
      "metadata": {
        "id": "y7_8VKxZqlP_"
      }
    },
    {
      "cell_type": "markdown",
      "source": [
        "회귀곡선 그래프 (포아송 회귀는 seaborn 함수로 그릴수 없음)"
      ],
      "metadata": {
        "id": "otuGrmNTqq10"
      }
    },
    {
      "cell_type": "code",
      "source": [
        "x_plot=np.arange(0,37)\n",
        "pred=mod_pois.predict(pd.DataFrame({\"temperature\":x_plot}))\n",
        "\n",
        "sns.lmplot(y=\"beer_number\",x=\"temperature\", data=beer, fit_reg=False, scatter_kws={\"color\":\"black\"})\n",
        "plt.plot(x_plot, pred, color=\"black\")"
      ],
      "metadata": {
        "colab": {
          "base_uri": "https://localhost:8080/",
          "height": 520
        },
        "id": "Yrr7kiJdqj7D",
        "outputId": "4187b585-17be-483d-fc17-fba526824d3b"
      },
      "execution_count": 7,
      "outputs": [
        {
          "output_type": "execute_result",
          "data": {
            "text/plain": [
              "[<matplotlib.lines.Line2D at 0x7efac9455ed0>]"
            ]
          },
          "metadata": {},
          "execution_count": 7
        },
        {
          "output_type": "display_data",
          "data": {
            "text/plain": [
              "<Figure size 500x500 with 1 Axes>"
            ],
            "image/png": "[encoded data removed]"
          },
          "metadata": {}
        }
      ]
    },
    {
      "cell_type": "markdown",
      "source": [
        "회귀계수 해석\n",
        "\n",
        "링크함수가 로그함수이므로 덧셈이 곱셈이 됨 -> 기온이 1도 오르면 맥주 y\"배\" 증가"
      ],
      "metadata": {
        "id": "8CYomopksBsc"
      }
    },
    {
      "cell_type": "code",
      "source": [
        "#기온이 1도일 때의 판매 개수의 기댓값\n",
        "exp_val_1=pd.DataFrame({\"temperature\":[1]})\n",
        "pred_1=mod_pois.predict(exp_val_1)\n",
        "#기온이 2도일 때의 판매 개수의 기댓값\n",
        "exp_val_2=pd.DataFrame({\"temperature\":[2]})\n",
        "pred_2=mod_pois.predict(exp_val_2)\n",
        "\n",
        "#기온이 1도에서 1도 오르면 판매 개수는 몇배가 되는지\n",
        "pred_2/pred_1"
      ],
      "metadata": {
        "colab": {
          "base_uri": "https://localhost:8080/"
        },
        "id": "iYMu8RVprM-8",
        "outputId": "7eca7c0a-c3c3-4c51-cccd-5ee954c57525"
      },
      "execution_count": 8,
      "outputs": [
        {
          "output_type": "execute_result",
          "data": {
            "text/plain": [
              "0    1.079045\n",
              "dtype: float64"
            ]
          },
          "metadata": {},
          "execution_count": 8
        }
      ]
    },
    {
      "cell_type": "code",
      "source": [
        "sp.exp(mod_pois.params[\"temperature\"])"
      ],
      "metadata": {
        "colab": {
          "base_uri": "https://localhost:8080/"
        },
        "id": "9Pz4E3HZsx2y",
        "outputId": "08a8c661-1522-4185-fdd9-312e39b80d37"
      },
      "execution_count": 9,
      "outputs": [
        {
          "output_type": "execute_result",
          "data": {
            "text/plain": [
              "1.079045054586893"
            ]
          },
          "metadata": {},
          "execution_count": 9
        }
      ]
    }
  ]
}