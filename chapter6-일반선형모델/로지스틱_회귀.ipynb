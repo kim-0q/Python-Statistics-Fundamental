{
  "nbformat": 4,
  "nbformat_minor": 0,
  "metadata": {
    "colab": {
      "provenance": []
    },
    "kernelspec": {
      "name": "python3",
      "display_name": "Python 3"
    },
    "language_info": {
      "name": "python"
    }
  },
  "cells": [
    {
      "cell_type": "markdown",
      "source": [
        "##로지스틱 회귀\n",
        "\n",
        "-> 확률분포에 이항분포를 사용하고 링크함수에 로짓함수를 사용한 일반선형모델\n",
        "\n",
        "-> 사용법: 공부시간에 따라 시험 합불 여부가 달라진다 (선형예측자에 0, 1결과일때?)"
      ],
      "metadata": {
        "id": "J_QlyJczNcA7"
      }
    },
    {
      "cell_type": "code",
      "execution_count": 1,
      "metadata": {
        "id": "EkJ0nuXhcPr4"
      },
      "outputs": [],
      "source": [
        "import warnings\n",
        "warnings.filterwarnings(action='ignore')\n",
        "\n",
        "import numpy as np\n",
        "import pandas as pd\n",
        "import scipy as sp\n",
        "from scipy import stats\n",
        "\n",
        "from matplotlib import pyplot as plt\n",
        "import seaborn as sns\n",
        "sns.set()\n",
        "\n",
        "import statsmodels.formula.api as smf\n",
        "import statsmodels.api as sm\n",
        "\n",
        "%precision 3\n",
        "%matplotlib inline"
      ]
    },
    {
      "cell_type": "markdown",
      "source": [
        "가공의 시험 합격 여부 (합격은 1, 불합격은 0)"
      ],
      "metadata": {
        "id": "PqGlGJclNEjI"
      }
    },
    {
      "cell_type": "code",
      "source": [
        "test_result=pd.read_csv(\"6-3-1-logistic-regression.csv\")\n",
        "print(test_result.head(3))"
      ],
      "metadata": {
        "colab": {
          "base_uri": "https://localhost:8080/"
        },
        "id": "JoXb8VdUMZUl",
        "outputId": "2891b789-4c30-4d28-81e4-0cfb51835d7e"
      },
      "execution_count": 2,
      "outputs": [
        {
          "output_type": "stream",
          "name": "stdout",
          "text": [
            "   hours  result\n",
            "0      0       0\n",
            "1      0       0\n",
            "2      0       0\n"
          ]
        }
      ]
    },
    {
      "cell_type": "markdown",
      "source": [
        "공부시간과 합격률 관계 (평균치)"
      ],
      "metadata": {
        "id": "o8ZjDnMBOJcT"
      }
    },
    {
      "cell_type": "code",
      "source": [
        "sns.barplot(x='hours',y='result', data=test_result, palette='gray_r')"
      ],
      "metadata": {
        "colab": {
          "base_uri": "https://localhost:8080/",
          "height": 477
        },
        "id": "8UhUYBoYNA7t",
        "outputId": "cd6d6eb7-a61b-468a-81fa-545f2d42712f"
      },
      "execution_count": 3,
      "outputs": [
        {
          "output_type": "execute_result",
          "data": {
            "text/plain": [
              "<Axes: xlabel='hours', ylabel='result'>"
            ]
          },
          "metadata": {},
          "execution_count": 3
        },
        {
          "output_type": "display_data",
          "data": {
            "text/plain": [
              "<Figure size 640x480 with 1 Axes>"
            ],
            "image/png": "[encoded data removed]"
          },
          "metadata": {}
        }
      ]
    },
    {
      "cell_type": "markdown",
      "source": [
        "공부시간마다의 합격률 계산"
      ],
      "metadata": {
        "id": "HZ6c5NwgOQQT"
      }
    },
    {
      "cell_type": "code",
      "source": [
        "print(test_result.groupby(\"hours\").mean())"
      ],
      "metadata": {
        "colab": {
          "base_uri": "https://localhost:8080/"
        },
        "id": "-NQniQRzOD9d",
        "outputId": "c8b1e2e4-ced8-439c-dbdf-ac6b91552433"
      },
      "execution_count": 4,
      "outputs": [
        {
          "output_type": "stream",
          "name": "stdout",
          "text": [
            "       result\n",
            "hours        \n",
            "0         0.0\n",
            "1         0.0\n",
            "2         0.1\n",
            "3         0.1\n",
            "4         0.4\n",
            "5         0.4\n",
            "6         0.9\n",
            "7         0.8\n",
            "8         0.9\n",
            "9         1.0\n"
          ]
        }
      ]
    },
    {
      "cell_type": "markdown",
      "source": [
        "공부 1시간 이하로 하면 다 불합, 9시간 하면 전부 합"
      ],
      "metadata": {
        "id": "GgmMdSdCOaso"
      }
    },
    {
      "cell_type": "markdown",
      "source": [
        "로지스틱 회귀모델 추정"
      ],
      "metadata": {
        "id": "nXGlKVYTOgCl"
      }
    },
    {
      "cell_type": "code",
      "source": [
        "mod_glm=smf.glm(formula=\"result~hours\", data=test_result, family=sm.families.Binomial()).fit()\n",
        "#이항분포이므로 sm.families.Binomial() / 포아송은 sm.families.Poission()\n",
        "#이항분포를 지정했을 경우 기본적으로 로짓함수를 링크함수로 지정 / 포아송은 자동으로 로그함수\n",
        "#sm.families.Binomial(link=sm.families.links.logit())으로 명시 지정해도 됨"
      ],
      "metadata": {
        "id": "WWoFuDsTOWwA"
      },
      "execution_count": 5,
      "outputs": []
    },
    {
      "cell_type": "code",
      "source": [
        "mod_glm.summary()"
      ],
      "metadata": {
        "colab": {
          "base_uri": "https://localhost:8080/",
          "height": 295
        },
        "id": "4vNjYVosOrj-",
        "outputId": "f70970ed-d789-42bf-8655-e2ea3b19344d"
      },
      "execution_count": 6,
      "outputs": [
        {
          "output_type": "execute_result",
          "data": {
            "text/plain": [
              "<class 'statsmodels.iolib.summary.Summary'>\n",
              "\"\"\"\n",
              "                 Generalized Linear Model Regression Results                  \n",
              "==============================================================================\n",
              "Dep. Variable:                 result   No. Observations:                  100\n",
              "Model:                            GLM   Df Residuals:                       98\n",
              "Model Family:                Binomial   Df Model:                            1\n",
              "Link Function:                  Logit   Scale:                          1.0000\n",
              "Method:                          IRLS   Log-Likelihood:                -34.014\n",
              "Date:                Mon, 11 Dec 2023   Deviance:                       68.028\n",
              "Time:                        04:58:59   Pearson chi2:                     84.9\n",
              "No. Iterations:                     6   Pseudo R-squ. (CS):             0.5032\n",
              "Covariance Type:            nonrobust                                         \n",
              "==============================================================================\n",
              "                 coef    std err          z      P>|z|      [0.025      0.975]\n",
              "------------------------------------------------------------------------------\n",
              "Intercept     -4.5587      0.901     -5.061      0.000      -6.324      -2.793\n",
              "hours          0.9289      0.174      5.345      0.000       0.588       1.270\n",
              "==============================================================================\n",
              "\"\"\""
            ],
            "text/html": [
              "<table class=\"simpletable\">\n",
              "<caption>Generalized Linear Model Regression Results</caption>\n",
              "<tr>\n",
              "  <th>Dep. Variable:</th>        <td>result</td>      <th>  No. Observations:  </th>  <td>   100</td> \n",
              "</tr>\n",
              "<tr>\n",
              "  <th>Model:</th>                  <td>GLM</td>       <th>  Df Residuals:      </th>  <td>    98</td> \n",
              "</tr>\n",
              "<tr>\n",
              "  <th>Model Family:</th>        <td>Binomial</td>     <th>  Df Model:          </th>  <td>     1</td> \n",
              "</tr>\n",
              "<tr>\n",
              "  <th>Link Function:</th>         <td>Logit</td>      <th>  Scale:             </th> <td>  1.0000</td>\n",
              "</tr>\n",
              "<tr>\n",
              "  <th>Method:</th>                <td>IRLS</td>       <th>  Log-Likelihood:    </th> <td> -34.014</td>\n",
              "</tr>\n",
              "<tr>\n",
              "  <th>Date:</th>            <td>Mon, 11 Dec 2023</td> <th>  Deviance:          </th> <td>  68.028</td>\n",
              "</tr>\n",
              "<tr>\n",
              "  <th>Time:</th>                <td>04:58:59</td>     <th>  Pearson chi2:      </th>  <td>  84.9</td> \n",
              "</tr>\n",
              "<tr>\n",
              "  <th>No. Iterations:</th>          <td>6</td>        <th>  Pseudo R-squ. (CS):</th>  <td>0.5032</td> \n",
              "</tr>\n",
              "<tr>\n",
              "  <th>Covariance Type:</th>     <td>nonrobust</td>    <th>                     </th>     <td> </td>   \n",
              "</tr>\n",
              "</table>\n",
              "<table class=\"simpletable\">\n",
              "<tr>\n",
              "      <td></td>         <th>coef</th>     <th>std err</th>      <th>z</th>      <th>P>|z|</th>  <th>[0.025</th>    <th>0.975]</th>  \n",
              "</tr>\n",
              "<tr>\n",
              "  <th>Intercept</th> <td>   -4.5587</td> <td>    0.901</td> <td>   -5.061</td> <td> 0.000</td> <td>   -6.324</td> <td>   -2.793</td>\n",
              "</tr>\n",
              "<tr>\n",
              "  <th>hours</th>     <td>    0.9289</td> <td>    0.174</td> <td>    5.345</td> <td> 0.000</td> <td>    0.588</td> <td>    1.270</td>\n",
              "</tr>\n",
              "</table>"
            ],
            "text/latex": "\\begin{center}\n\\begin{tabular}{lclc}\n\\toprule\n\\textbf{Dep. Variable:}   &      result      & \\textbf{  No. Observations:  } &      100    \\\\\n\\textbf{Model:}           &       GLM        & \\textbf{  Df Residuals:      } &       98    \\\\\n\\textbf{Model Family:}    &     Binomial     & \\textbf{  Df Model:          } &        1    \\\\\n\\textbf{Link Function:}   &      Logit       & \\textbf{  Scale:             } &    1.0000   \\\\\n\\textbf{Method:}          &       IRLS       & \\textbf{  Log-Likelihood:    } &   -34.014   \\\\\n\\textbf{Date:}            & Mon, 11 Dec 2023 & \\textbf{  Deviance:          } &    68.028   \\\\\n\\textbf{Time:}            &     04:58:59     & \\textbf{  Pearson chi2:      } &     84.9    \\\\\n\\textbf{No. Iterations:}  &        6         & \\textbf{  Pseudo R-squ. (CS):} &   0.5032    \\\\\n\\textbf{Covariance Type:} &    nonrobust     & \\textbf{                     } &             \\\\\n\\bottomrule\n\\end{tabular}\n\\begin{tabular}{lcccccc}\n                   & \\textbf{coef} & \\textbf{std err} & \\textbf{z} & \\textbf{P$> |$z$|$} & \\textbf{[0.025} & \\textbf{0.975]}  \\\\\n\\midrule\n\\textbf{Intercept} &      -4.5587  &        0.901     &    -5.061  &         0.000        &       -6.324    &       -2.793     \\\\\n\\textbf{hours}     &       0.9289  &        0.174     &     5.345  &         0.000        &        0.588    &        1.270     \\\\\n\\bottomrule\n\\end{tabular}\n%\\caption{Generalized Linear Model Regression Results}\n\\end{center}"
          },
          "metadata": {},
          "execution_count": 6
        }
      ]
    },
    {
      "cell_type": "markdown",
      "source": [
        "Method의 IRLS: 최소제곱법의 약자\n",
        "\n",
        "NO.iterations: 내부에서 계산한 반복수\n",
        "\n",
        "Deviance, Pearson chi2: 모델 적합도 지표"
      ],
      "metadata": {
        "id": "8HjGuRnAP5hZ"
      }
    },
    {
      "cell_type": "markdown",
      "source": [
        "AIC로 모델 선택"
      ],
      "metadata": {
        "id": "yuICIH1rQQ_5"
      }
    },
    {
      "cell_type": "code",
      "source": [
        "#null 모델\n",
        "mod_glm_null=smf.glm(\"result~1\",data=test_result, family=sm.families.Binomial()).fit()"
      ],
      "metadata": {
        "id": "57qOPfAnPkDj"
      },
      "execution_count": 7,
      "outputs": []
    },
    {
      "cell_type": "code",
      "source": [
        "print(\"NULL 모델: \",mod_glm_null.aic.round(3))\n",
        "print(\"변수가 있는 모델: \",mod_glm.aic.round(3))"
      ],
      "metadata": {
        "colab": {
          "base_uri": "https://localhost:8080/"
        },
        "id": "Nk0kctgqQffD",
        "outputId": "608b1172-16dd-4df4-d8f6-b8f9689a9406"
      },
      "execution_count": 8,
      "outputs": [
        {
          "output_type": "stream",
          "name": "stdout",
          "text": [
            "NULL 모델:  139.989\n",
            "변수가 있는 모델:  72.028\n"
          ]
        }
      ]
    },
    {
      "cell_type": "markdown",
      "source": [
        "=> 공부시간이라는 변수는 합격률을 예측하는데 도움이 된다"
      ],
      "metadata": {
        "id": "Ax1nYSrYQte_"
      }
    },
    {
      "cell_type": "markdown",
      "source": [
        "로지스틱 회귀곡선 그래프"
      ],
      "metadata": {
        "id": "PBOTOrzmRokg"
      }
    },
    {
      "cell_type": "code",
      "source": [
        "sns.lmplot(x=\"hours\", y=\"result\", data=test_result, logistic=True,\n",
        "           scatter_kws={\"color\":\"black\"},\n",
        "           line_kws={\"color\":\"black\"},\n",
        "           x_jitter=0.1, y_jitter=0.02)"
      ],
      "metadata": {
        "colab": {
          "base_uri": "https://localhost:8080/",
          "height": 519
        },
        "id": "0l3UWDLkQr0w",
        "outputId": "cf174fd4-4bf9-42eb-9a8a-1d79f95d3930"
      },
      "execution_count": 10,
      "outputs": [
        {
          "output_type": "execute_result",
          "data": {
            "text/plain": [
              "<seaborn.axisgrid.FacetGrid at 0x7c25a778b7f0>"
            ]
          },
          "metadata": {},
          "execution_count": 10
        },
        {
          "output_type": "display_data",
          "data": {
            "text/plain": [
              "<Figure size 500x500 with 1 Axes>"
            ],
            "image/png": "[encoded data removed]"
          },
          "metadata": {}
        }
      ]
    },
    {
      "cell_type": "markdown",
      "source": [
        "성공확률 예측"
      ],
      "metadata": {
        "id": "bs7yqFYAUY_q"
      }
    },
    {
      "cell_type": "code",
      "source": [
        "#0~9까지 1씩 증가시키는 등차수열\n",
        "exp_val=pd.DataFrame({\"hours\":np.arange(0,10,1)})\n",
        "#성공확률의 예측치\n",
        "pred=mod_glm.predict(exp_val)\n",
        "pred"
      ],
      "metadata": {
        "colab": {
          "base_uri": "https://localhost:8080/"
        },
        "id": "k4exfJb_T3G0",
        "outputId": "23b8b8fd-29a6-4199-bdbc-012e617100b8"
      },
      "execution_count": 11,
      "outputs": [
        {
          "output_type": "execute_result",
          "data": {
            "text/plain": [
              "0    0.010367\n",
              "1    0.025836\n",
              "2    0.062920\n",
              "3    0.145291\n",
              "4    0.300876\n",
              "5    0.521427\n",
              "6    0.733929\n",
              "7    0.874741\n",
              "8    0.946467\n",
              "9    0.978147\n",
              "dtype: float64"
            ]
          },
          "metadata": {},
          "execution_count": 11
        }
      ]
    },
    {
      "cell_type": "markdown",
      "source": [
        "**오즈**\n",
        "\n",
        "-> 실패하는 것보다 성공하는 것이 몇배 더 쉬운가 p / (1-p)\n",
        "\n",
        "-> **로그오즈**: 오즈에 로그를 취한 것 (로짓함수: 성공확률을 로그오즈로 변환하는 함수)\n",
        "\n",
        "-> **오즈비**: 오즈 간에 비율을 취한 것 / **로그오즈비**: 오즈비에 로그를 취한 것"
      ],
      "metadata": {
        "id": "nwtr4kIfVNg1"
      }
    },
    {
      "cell_type": "markdown",
      "source": [
        "로지스틱 회귀계수와 오즈비의 관계"
      ],
      "metadata": {
        "id": "pjKzvg0PV7UG"
      }
    },
    {
      "cell_type": "code",
      "source": [
        "#공부시간이 1시간일 때의 합격률\n",
        "exp_val_1=pd.DataFrame({\"hours\":[1]})\n",
        "pred_1=mod_glm.predict(exp_val_1)\n",
        "#공부시간이 2시간일 때의 합격률\n",
        "exp_val_2=pd.DataFrame({\"hours\":[2]})\n",
        "pred_2=mod_glm.predict(exp_val_2)"
      ],
      "metadata": {
        "id": "iurVL-04UxQ7"
      },
      "execution_count": 12,
      "outputs": []
    },
    {
      "cell_type": "code",
      "source": [
        "#오즈\n",
        "odds_1=pred_1/(1-pred_1)\n",
        "odds_2=pred_2/(1-pred_2)\n",
        "#로그오즈비\n",
        "sp.log(odds_2/odds_1)"
      ],
      "metadata": {
        "colab": {
          "base_uri": "https://localhost:8080/"
        },
        "id": "8-ihy1IYWlRK",
        "outputId": "0843324a-99db-4e10-c596-21ccb524d9cf"
      },
      "execution_count": 15,
      "outputs": [
        {
          "output_type": "execute_result",
          "data": {
            "text/plain": [
              "array([0.929])"
            ]
          },
          "metadata": {},
          "execution_count": 15
        }
      ]
    },
    {
      "cell_type": "markdown",
      "source": [
        "로그오즈비는 공부시간의 계수와 일치"
      ],
      "metadata": {
        "id": "NOiRTtIGW81t"
      }
    },
    {
      "cell_type": "code",
      "source": [
        "mod_glm.params[\"hours\"]"
      ],
      "metadata": {
        "colab": {
          "base_uri": "https://localhost:8080/"
        },
        "id": "we0uOsLlWtzo",
        "outputId": "9a913682-1537-4891-e4e3-3a09cec508f9"
      },
      "execution_count": 16,
      "outputs": [
        {
          "output_type": "execute_result",
          "data": {
            "text/plain": [
              "0.9288901756284946"
            ]
          },
          "metadata": {},
          "execution_count": 16
        }
      ]
    },
    {
      "cell_type": "markdown",
      "source": [
        "즉, 계수에 exp를 취한 것이 오즈비"
      ],
      "metadata": {
        "id": "LIGXDVHGXDAx"
      }
    },
    {
      "cell_type": "code",
      "source": [
        "sp.exp(mod_glm.params[\"hours\"])"
      ],
      "metadata": {
        "colab": {
          "base_uri": "https://localhost:8080/"
        },
        "id": "Dc9CTI9uW8Aw",
        "outputId": "8394022e-e104-4e7b-f666-bd31a08d6a45"
      },
      "execution_count": 17,
      "outputs": [
        {
          "output_type": "execute_result",
          "data": {
            "text/plain": [
              "2.5316978778757737"
            ]
          },
          "metadata": {},
          "execution_count": 17
        }
      ]
    }
  ]
}