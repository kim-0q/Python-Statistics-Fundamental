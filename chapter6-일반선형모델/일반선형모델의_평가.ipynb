{
  "nbformat": 4,
  "nbformat_minor": 0,
  "metadata": {
    "colab": {
      "provenance": []
    },
    "kernelspec": {
      "name": "python3",
      "display_name": "Python 3"
    },
    "language_info": {
      "name": "python"
    }
  },
  "cells": [
    {
      "cell_type": "markdown",
      "source": [
        "##일반선형모델에서의 잔차 취급"
      ],
      "metadata": {
        "id": "RLoIk2IxeTfE"
      }
    },
    {
      "cell_type": "code",
      "execution_count": 1,
      "metadata": {
        "id": "ErjCzYydY5ia"
      },
      "outputs": [],
      "source": [
        "import warnings\n",
        "warnings.filterwarnings(action='ignore')\n",
        "\n",
        "import numpy as np\n",
        "import pandas as pd\n",
        "import scipy as sp\n",
        "from scipy import stats\n",
        "\n",
        "from matplotlib import pyplot as plt\n",
        "import seaborn as sns\n",
        "sns.set()\n",
        "\n",
        "import statsmodels.formula.api as smf\n",
        "import statsmodels.api as sm\n",
        "\n",
        "%precision 3\n",
        "%matplotlib inline"
      ]
    },
    {
      "cell_type": "code",
      "source": [
        "test_result=pd.read_csv(\"6-3-1-logistic-regression.csv\")\n",
        "mod_glm=smf.glm(\"result~hours\", data=test_result, family=sm.families.Binomial()).fit()"
      ],
      "metadata": {
        "id": "tXk4V65qY_bc"
      },
      "execution_count": 2,
      "outputs": []
    },
    {
      "cell_type": "markdown",
      "source": [
        "###1. 피어슨 잔차"
      ],
      "metadata": {
        "id": "Z04hegr-edqC"
      }
    },
    {
      "cell_type": "code",
      "source": [
        "#예측한 성공확률\n",
        "pred=mod_glm.predict()\n",
        "#종속변수(시험 합격여부)\n",
        "y=test_result.result\n",
        "#피어슨 잔차\n",
        "pearson_resid=(y-pred)/sp.sqrt(pred*(1-pred))\n",
        "pearson_resid.head(3)"
      ],
      "metadata": {
        "colab": {
          "base_uri": "https://localhost:8080/"
        },
        "id": "rHD8uwncY_Yv",
        "outputId": "9d1d16a5-563e-48d9-f072-beb0631a9204"
      },
      "execution_count": 3,
      "outputs": [
        {
          "output_type": "execute_result",
          "data": {
            "text/plain": [
              "0   -0.102351\n",
              "1   -0.102351\n",
              "2   -0.102351\n",
              "Name: result, dtype: float64"
            ]
          },
          "metadata": {},
          "execution_count": 3
        }
      ]
    },
    {
      "cell_type": "code",
      "source": [
        "mod_glm.resid_pearson.head(3)"
      ],
      "metadata": {
        "colab": {
          "base_uri": "https://localhost:8080/"
        },
        "id": "IX6abLpkY_V4",
        "outputId": "4e9006c3-7074-4108-f05d-3e9d800a0738"
      },
      "execution_count": 4,
      "outputs": [
        {
          "output_type": "execute_result",
          "data": {
            "text/plain": [
              "0   -0.102351\n",
              "1   -0.102351\n",
              "2   -0.102351\n",
              "dtype: float64"
            ]
          },
          "metadata": {},
          "execution_count": 4
        }
      ]
    },
    {
      "cell_type": "markdown",
      "source": [
        "피어슨 카이제곱통계량 = 피어슨 잔차제곱합"
      ],
      "metadata": {
        "id": "IZLZj1FJhZr6"
      }
    },
    {
      "cell_type": "code",
      "source": [
        "sp.sum(mod_glm.resid_pearson**2)"
      ],
      "metadata": {
        "colab": {
          "base_uri": "https://localhost:8080/"
        },
        "id": "1fdr82p4ef-m",
        "outputId": "34566795-03e8-4c54-e11e-64c491771fda"
      },
      "execution_count": 5,
      "outputs": [
        {
          "output_type": "execute_result",
          "data": {
            "text/plain": [
              "84.91138782569973"
            ]
          },
          "metadata": {},
          "execution_count": 5
        }
      ]
    },
    {
      "cell_type": "code",
      "source": [
        "mod_glm.pearson_chi2"
      ],
      "metadata": {
        "colab": {
          "base_uri": "https://localhost:8080/"
        },
        "id": "7OAJPc4Tef8O",
        "outputId": "0b965c29-e09c-41cf-f530-2a1312f2a492"
      },
      "execution_count": 6,
      "outputs": [
        {
          "output_type": "execute_result",
          "data": {
            "text/plain": [
              "84.91138782569973"
            ]
          },
          "metadata": {},
          "execution_count": 6
        }
      ]
    },
    {
      "cell_type": "markdown",
      "source": [
        "###2. deviance\n",
        "\n",
        "-> 모델의 적합도 평가하는 지표 / 값 크면 모델이 맞지 않다고 평가"
      ],
      "metadata": {
        "id": "128N_clKiNxV"
      }
    },
    {
      "cell_type": "markdown",
      "source": [
        "deviance 잔차"
      ],
      "metadata": {
        "id": "0CYBR4xti8Wg"
      }
    },
    {
      "cell_type": "code",
      "source": [
        "#예측한 성공확률\n",
        "pred=mod_glm.predict()\n",
        "#종속변수(테스트 합격여부)\n",
        "y=test_result.result\n",
        "#합격여부를 완전히 예측할 수 있을 때의 로그우도와 잔차\n",
        "resid_tmp=0-sp.log(sp.stats.binom.pmf(k=y, n=1, p=pred))\n",
        "#deviance 잔차\n",
        "deviance_resid=sp.sqrt(2*resid_tmp)*np.sign(y-pred)\n",
        "#결과 확인\n",
        "deviance_resid.head(3)"
      ],
      "metadata": {
        "colab": {
          "base_uri": "https://localhost:8080/"
        },
        "id": "JxOi7SorhrcG",
        "outputId": "b137a1d1-345b-40c7-d8f1-5d4c5c3cff1d"
      },
      "execution_count": 7,
      "outputs": [
        {
          "output_type": "execute_result",
          "data": {
            "text/plain": [
              "0   -0.144369\n",
              "1   -0.144369\n",
              "2   -0.144369\n",
              "Name: result, dtype: float64"
            ]
          },
          "metadata": {},
          "execution_count": 7
        }
      ]
    },
    {
      "cell_type": "code",
      "source": [
        "mod_glm.resid_deviance.head(3)"
      ],
      "metadata": {
        "colab": {
          "base_uri": "https://localhost:8080/"
        },
        "id": "ztyK9v0Jjktj",
        "outputId": "6585a3e4-800b-45d5-e6c4-fd87e66814c4"
      },
      "execution_count": 8,
      "outputs": [
        {
          "output_type": "execute_result",
          "data": {
            "text/plain": [
              "0   -0.144369\n",
              "1   -0.144369\n",
              "2   -0.144369\n",
              "dtype: float64"
            ]
          },
          "metadata": {},
          "execution_count": 8
        }
      ]
    },
    {
      "cell_type": "markdown",
      "source": [
        "deviance 잔차제곱합 = deviance"
      ],
      "metadata": {
        "id": "cAOT2HH0lHFh"
      }
    },
    {
      "cell_type": "code",
      "source": [
        "sp.sum(mod_glm.resid_deviance**2)"
      ],
      "metadata": {
        "colab": {
          "base_uri": "https://localhost:8080/"
        },
        "id": "qjBd74JSk-sD",
        "outputId": "c093e0a0-2b75-44cc-8bc8-9640b87c07f2"
      },
      "execution_count": 9,
      "outputs": [
        {
          "output_type": "execute_result",
          "data": {
            "text/plain": [
              "68.02788118117269"
            ]
          },
          "metadata": {},
          "execution_count": 9
        }
      ]
    },
    {
      "cell_type": "markdown",
      "source": [
        "###3. 교차 엔트로피 오차"
      ],
      "metadata": {
        "id": "ZffyEILDlsfk"
      }
    },
    {
      "cell_type": "markdown",
      "source": [
        "모집단분포가 이항분포라 가정했을 때 교차 엔트로피 오차는 deviance와 같은 의미\n",
        "\n",
        "교차 엔트로피 최소화 = deviance 최소화 = 로지스틱 회귀의 로그우도 최대와"
      ],
      "metadata": {
        "id": "xA2eJO1yl4yM"
      }
    }
  ]
}